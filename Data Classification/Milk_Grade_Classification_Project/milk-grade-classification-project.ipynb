{
 "cells": [
  {
   "cell_type": "markdown",
   "metadata": {
    "papermill": {
     "duration": 0.017553,
     "end_time": "2020-12-10T22:02:09.740332",
     "exception": false,
     "start_time": "2020-12-10T22:02:09.722779",
     "status": "completed"
    },
    "tags": []
   },
   "source": [
    "# Milk Grade Classification"
   ]
  },
  {
   "cell_type": "markdown",
   "metadata": {
    "papermill": {
     "duration": 0.016196,
     "end_time": "2020-12-10T22:02:09.774151",
     "exception": false,
     "start_time": "2020-12-10T22:02:09.757955",
     "status": "completed"
    },
    "tags": []
   },
   "source": [
    "Coded by Luna McBride"
   ]
  },
  {
   "cell_type": "code",
   "execution_count": 1,
   "metadata": {
    "_cell_guid": "b1076dfc-b9ad-4769-8c92-a6c4dae69d19",
    "_uuid": "8f2839f25d086af736a60e9eeb907d3b93b6e0e5",
    "execution": {
     "iopub.execute_input": "2020-12-10T22:02:09.821144Z",
     "iopub.status.busy": "2020-12-10T22:02:09.820364Z",
     "iopub.status.idle": "2020-12-10T22:02:11.182969Z",
     "shell.execute_reply": "2020-12-10T22:02:11.183688Z"
    },
    "papermill": {
     "duration": 1.393522,
     "end_time": "2020-12-10T22:02:11.183976",
     "exception": false,
     "start_time": "2020-12-10T22:02:09.790454",
     "status": "completed"
    },
    "tags": []
   },
   "outputs": [
    {
     "name": "stdout",
     "output_type": "stream",
     "text": [
      "/kaggle/input/milk-grading/Milk Grading (1).csv\n"
     ]
    }
   ],
   "source": [
    "# This Python 3 environment comes with many helpful analytics libraries installed\n",
    "# It is defined by the kaggle/python Docker image: https://github.com/kaggle/docker-python\n",
    "# For example, here's several helpful packages to load\n",
    "\n",
    "import numpy as np # linear algebra\n",
    "import pandas as pd # data processing, CSV file I/O (e.g. pd.read_csv)\n",
    "\n",
    "import matplotlib.pyplot as plt #plotting\n",
    "%matplotlib inline\n",
    "\n",
    "plt.rcParams['figure.figsize'] = (15,10) #Set the default figure size\n",
    "plt.style.use('ggplot') #Set the plotting method\n",
    "\n",
    "from sklearn.model_selection import train_test_split #Split the data into train and test\n",
    "from sklearn.ensemble import RandomForestClassifier #Forest for prediction and regression\n",
    "from sklearn.metrics import mean_squared_error #Error testing\n",
    "from sklearn.metrics import classification_report #Report of Classification\n",
    "\n",
    "# Input data files are available in the read-only \"../input/\" directory\n",
    "# For example, running this (by clicking run or pressing Shift+Enter) will list all files under the input directory\n",
    "\n",
    "import os\n",
    "for dirname, _, filenames in os.walk('/kaggle/input'):\n",
    "    for filename in filenames:\n",
    "        print(os.path.join(dirname, filename))\n",
    "\n",
    "# You can write up to 20GB to the current directory (/kaggle/working/) that gets preserved as output when you create a version using \"Save & Run All\" \n",
    "# You can also write temporary files to /kaggle/temp/, but they won't be saved outside of the current session"
   ]
  },
  {
   "cell_type": "code",
   "execution_count": 2,
   "metadata": {
    "_cell_guid": "79c7e3d0-c299-4dcb-8224-4455121ee9b0",
    "_uuid": "d629ff2d2480ee46fbb7e2d37f6b5fab8052498a",
    "execution": {
     "iopub.execute_input": "2020-12-10T22:02:11.234022Z",
     "iopub.status.busy": "2020-12-10T22:02:11.233334Z",
     "iopub.status.idle": "2020-12-10T22:02:11.267575Z",
     "shell.execute_reply": "2020-12-10T22:02:11.266838Z"
    },
    "papermill": {
     "duration": 0.057772,
     "end_time": "2020-12-10T22:02:11.267694",
     "exception": false,
     "start_time": "2020-12-10T22:02:11.209922",
     "status": "completed"
    },
    "tags": []
   },
   "outputs": [
    {
     "data": {
      "text/html": [
       "<div>\n",
       "<style scoped>\n",
       "    .dataframe tbody tr th:only-of-type {\n",
       "        vertical-align: middle;\n",
       "    }\n",
       "\n",
       "    .dataframe tbody tr th {\n",
       "        vertical-align: top;\n",
       "    }\n",
       "\n",
       "    .dataframe thead th {\n",
       "        text-align: right;\n",
       "    }\n",
       "</style>\n",
       "<table border=\"1\" class=\"dataframe\">\n",
       "  <thead>\n",
       "    <tr style=\"text-align: right;\">\n",
       "      <th></th>\n",
       "      <th>pH</th>\n",
       "      <th>Temprature</th>\n",
       "      <th>Taste</th>\n",
       "      <th>Odor</th>\n",
       "      <th>Fat</th>\n",
       "      <th>Turbidity</th>\n",
       "      <th>Colour</th>\n",
       "      <th>Grade</th>\n",
       "    </tr>\n",
       "  </thead>\n",
       "  <tbody>\n",
       "    <tr>\n",
       "      <th>0</th>\n",
       "      <td>6.6</td>\n",
       "      <td>35</td>\n",
       "      <td>1</td>\n",
       "      <td>0</td>\n",
       "      <td>1</td>\n",
       "      <td>0</td>\n",
       "      <td>254</td>\n",
       "      <td>1.0</td>\n",
       "    </tr>\n",
       "    <tr>\n",
       "      <th>1</th>\n",
       "      <td>6.6</td>\n",
       "      <td>36</td>\n",
       "      <td>0</td>\n",
       "      <td>1</td>\n",
       "      <td>0</td>\n",
       "      <td>1</td>\n",
       "      <td>253</td>\n",
       "      <td>1.0</td>\n",
       "    </tr>\n",
       "    <tr>\n",
       "      <th>2</th>\n",
       "      <td>8.5</td>\n",
       "      <td>70</td>\n",
       "      <td>1</td>\n",
       "      <td>1</td>\n",
       "      <td>1</td>\n",
       "      <td>1</td>\n",
       "      <td>246</td>\n",
       "      <td>0.0</td>\n",
       "    </tr>\n",
       "    <tr>\n",
       "      <th>3</th>\n",
       "      <td>9.5</td>\n",
       "      <td>34</td>\n",
       "      <td>1</td>\n",
       "      <td>1</td>\n",
       "      <td>0</td>\n",
       "      <td>1</td>\n",
       "      <td>255</td>\n",
       "      <td>0.0</td>\n",
       "    </tr>\n",
       "    <tr>\n",
       "      <th>4</th>\n",
       "      <td>6.6</td>\n",
       "      <td>37</td>\n",
       "      <td>0</td>\n",
       "      <td>0</td>\n",
       "      <td>0</td>\n",
       "      <td>0</td>\n",
       "      <td>255</td>\n",
       "      <td>0.5</td>\n",
       "    </tr>\n",
       "  </tbody>\n",
       "</table>\n",
       "</div>"
      ],
      "text/plain": [
       "    pH  Temprature  Taste  Odor  Fat   Turbidity  Colour  Grade\n",
       "0  6.6          35      1     0     1          0     254    1.0\n",
       "1  6.6          36      0     1     0          1     253    1.0\n",
       "2  8.5          70      1     1     1          1     246    0.0\n",
       "3  9.5          34      1     1     0          1     255    0.0\n",
       "4  6.6          37      0     0     0          0     255    0.5"
      ]
     },
     "execution_count": 2,
     "metadata": {},
     "output_type": "execute_result"
    }
   ],
   "source": [
    "milk = pd.read_csv(\"../input/milk-grading/Milk Grading (1).csv\") #Get the milk dataset\n",
    "milk.head() #Take a peek at the milk"
   ]
  },
  {
   "cell_type": "markdown",
   "metadata": {
    "papermill": {
     "duration": 0.018653,
     "end_time": "2020-12-10T22:02:11.304280",
     "exception": false,
     "start_time": "2020-12-10T22:02:11.285627",
     "status": "completed"
    },
    "tags": []
   },
   "source": [
    "---"
   ]
  },
  {
   "cell_type": "markdown",
   "metadata": {
    "papermill": {
     "duration": 0.017514,
     "end_time": "2020-12-10T22:02:11.339479",
     "exception": false,
     "start_time": "2020-12-10T22:02:11.321965",
     "status": "completed"
    },
    "tags": []
   },
   "source": [
    "# Check for Null Values"
   ]
  },
  {
   "cell_type": "code",
   "execution_count": 3,
   "metadata": {
    "execution": {
     "iopub.execute_input": "2020-12-10T22:02:11.384359Z",
     "iopub.status.busy": "2020-12-10T22:02:11.382698Z",
     "iopub.status.idle": "2020-12-10T22:02:11.388930Z",
     "shell.execute_reply": "2020-12-10T22:02:11.388361Z"
    },
    "papermill": {
     "duration": 0.029579,
     "end_time": "2020-12-10T22:02:11.389051",
     "exception": false,
     "start_time": "2020-12-10T22:02:11.359472",
     "status": "completed"
    },
    "tags": []
   },
   "outputs": [
    {
     "name": "stdout",
     "output_type": "stream",
     "text": [
      "pH            False\n",
      "Temprature    False\n",
      "Taste         False\n",
      "Odor          False\n",
      "Fat           False\n",
      "Turbidity     False\n",
      "Colour        False\n",
      "Grade         False\n",
      "dtype: bool\n"
     ]
    }
   ],
   "source": [
    "print(milk.isnull().any()) #Check for null values"
   ]
  },
  {
   "cell_type": "markdown",
   "metadata": {
    "papermill": {
     "duration": 0.017842,
     "end_time": "2020-12-10T22:02:11.425380",
     "exception": false,
     "start_time": "2020-12-10T22:02:11.407538",
     "status": "completed"
    },
    "tags": []
   },
   "source": [
    "There are no null values."
   ]
  },
  {
   "cell_type": "markdown",
   "metadata": {
    "papermill": {
     "duration": 0.018222,
     "end_time": "2020-12-10T22:02:11.461599",
     "exception": false,
     "start_time": "2020-12-10T22:02:11.443377",
     "status": "completed"
    },
    "tags": []
   },
   "source": [
    "---"
   ]
  },
  {
   "cell_type": "markdown",
   "metadata": {
    "papermill": {
     "duration": 0.018058,
     "end_time": "2020-12-10T22:02:11.498760",
     "exception": false,
     "start_time": "2020-12-10T22:02:11.480702",
     "status": "completed"
    },
    "tags": []
   },
   "source": [
    "# Add a Column Putting Grade into Words"
   ]
  },
  {
   "cell_type": "code",
   "execution_count": 4,
   "metadata": {
    "execution": {
     "iopub.execute_input": "2020-12-10T22:02:11.550941Z",
     "iopub.status.busy": "2020-12-10T22:02:11.549817Z",
     "iopub.status.idle": "2020-12-10T22:02:11.554138Z",
     "shell.execute_reply": "2020-12-10T22:02:11.553614Z"
    },
    "papermill": {
     "duration": 0.036842,
     "end_time": "2020-12-10T22:02:11.554255",
     "exception": false,
     "start_time": "2020-12-10T22:02:11.517413",
     "status": "completed"
    },
    "tags": []
   },
   "outputs": [
    {
     "data": {
      "text/html": [
       "<div>\n",
       "<style scoped>\n",
       "    .dataframe tbody tr th:only-of-type {\n",
       "        vertical-align: middle;\n",
       "    }\n",
       "\n",
       "    .dataframe tbody tr th {\n",
       "        vertical-align: top;\n",
       "    }\n",
       "\n",
       "    .dataframe thead th {\n",
       "        text-align: right;\n",
       "    }\n",
       "</style>\n",
       "<table border=\"1\" class=\"dataframe\">\n",
       "  <thead>\n",
       "    <tr style=\"text-align: right;\">\n",
       "      <th></th>\n",
       "      <th>pH</th>\n",
       "      <th>Temprature</th>\n",
       "      <th>Taste</th>\n",
       "      <th>Odor</th>\n",
       "      <th>Fat</th>\n",
       "      <th>Turbidity</th>\n",
       "      <th>Colour</th>\n",
       "      <th>Grade</th>\n",
       "      <th>gradeWord</th>\n",
       "    </tr>\n",
       "  </thead>\n",
       "  <tbody>\n",
       "    <tr>\n",
       "      <th>0</th>\n",
       "      <td>6.6</td>\n",
       "      <td>35</td>\n",
       "      <td>1</td>\n",
       "      <td>0</td>\n",
       "      <td>1</td>\n",
       "      <td>0</td>\n",
       "      <td>254</td>\n",
       "      <td>1.0</td>\n",
       "      <td>Good</td>\n",
       "    </tr>\n",
       "    <tr>\n",
       "      <th>1</th>\n",
       "      <td>6.6</td>\n",
       "      <td>36</td>\n",
       "      <td>0</td>\n",
       "      <td>1</td>\n",
       "      <td>0</td>\n",
       "      <td>1</td>\n",
       "      <td>253</td>\n",
       "      <td>1.0</td>\n",
       "      <td>Good</td>\n",
       "    </tr>\n",
       "    <tr>\n",
       "      <th>2</th>\n",
       "      <td>8.5</td>\n",
       "      <td>70</td>\n",
       "      <td>1</td>\n",
       "      <td>1</td>\n",
       "      <td>1</td>\n",
       "      <td>1</td>\n",
       "      <td>246</td>\n",
       "      <td>0.0</td>\n",
       "      <td>Bad</td>\n",
       "    </tr>\n",
       "    <tr>\n",
       "      <th>3</th>\n",
       "      <td>9.5</td>\n",
       "      <td>34</td>\n",
       "      <td>1</td>\n",
       "      <td>1</td>\n",
       "      <td>0</td>\n",
       "      <td>1</td>\n",
       "      <td>255</td>\n",
       "      <td>0.0</td>\n",
       "      <td>Bad</td>\n",
       "    </tr>\n",
       "    <tr>\n",
       "      <th>4</th>\n",
       "      <td>6.6</td>\n",
       "      <td>37</td>\n",
       "      <td>0</td>\n",
       "      <td>0</td>\n",
       "      <td>0</td>\n",
       "      <td>0</td>\n",
       "      <td>255</td>\n",
       "      <td>0.5</td>\n",
       "      <td>Moderate</td>\n",
       "    </tr>\n",
       "  </tbody>\n",
       "</table>\n",
       "</div>"
      ],
      "text/plain": [
       "    pH  Temprature  Taste  Odor  Fat   Turbidity  Colour  Grade gradeWord\n",
       "0  6.6          35      1     0     1          0     254    1.0      Good\n",
       "1  6.6          36      0     1     0          1     253    1.0      Good\n",
       "2  8.5          70      1     1     1          1     246    0.0       Bad\n",
       "3  9.5          34      1     1     0          1     255    0.0       Bad\n",
       "4  6.6          37      0     0     0          0     255    0.5  Moderate"
      ]
     },
     "execution_count": 4,
     "metadata": {},
     "output_type": "execute_result"
    }
   ],
   "source": [
    "milk[\"gradeWord\"] = milk[\"Grade\"].apply(lambda x: \"Good\" if x==1 else (\"Moderate\" if x==0.5 else \"Bad\") ) #Put the grade into words\n",
    "milk.head() #Take a peek at the dataset"
   ]
  },
  {
   "cell_type": "markdown",
   "metadata": {
    "papermill": {
     "duration": 0.019086,
     "end_time": "2020-12-10T22:02:11.591944",
     "exception": false,
     "start_time": "2020-12-10T22:02:11.572858",
     "status": "completed"
    },
    "tags": []
   },
   "source": [
    "---"
   ]
  },
  {
   "cell_type": "markdown",
   "metadata": {
    "papermill": {
     "duration": 0.018439,
     "end_time": "2020-12-10T22:02:11.628676",
     "exception": false,
     "start_time": "2020-12-10T22:02:11.610237",
     "status": "completed"
    },
    "tags": []
   },
   "source": [
    "# Basic Exploration"
   ]
  },
  {
   "cell_type": "markdown",
   "metadata": {
    "papermill": {
     "duration": 0.018006,
     "end_time": "2020-12-10T22:02:11.665077",
     "exception": false,
     "start_time": "2020-12-10T22:02:11.647071",
     "status": "completed"
    },
    "tags": []
   },
   "source": [
    "## Number of Rows"
   ]
  },
  {
   "cell_type": "code",
   "execution_count": 5,
   "metadata": {
    "execution": {
     "iopub.execute_input": "2020-12-10T22:02:11.706628Z",
     "iopub.status.busy": "2020-12-10T22:02:11.706013Z",
     "iopub.status.idle": "2020-12-10T22:02:11.709713Z",
     "shell.execute_reply": "2020-12-10T22:02:11.709131Z"
    },
    "papermill": {
     "duration": 0.02638,
     "end_time": "2020-12-10T22:02:11.709819",
     "exception": false,
     "start_time": "2020-12-10T22:02:11.683439",
     "status": "completed"
    },
    "tags": []
   },
   "outputs": [
    {
     "name": "stdout",
     "output_type": "stream",
     "text": [
      "1059\n"
     ]
    }
   ],
   "source": [
    "print(len(milk.index)) #Check the number of rows"
   ]
  },
  {
   "cell_type": "markdown",
   "metadata": {
    "papermill": {
     "duration": 0.018586,
     "end_time": "2020-12-10T22:02:11.747049",
     "exception": false,
     "start_time": "2020-12-10T22:02:11.728463",
     "status": "completed"
    },
    "tags": []
   },
   "source": [
    "There are only 1059 entries."
   ]
  },
  {
   "cell_type": "markdown",
   "metadata": {
    "papermill": {
     "duration": 0.018325,
     "end_time": "2020-12-10T22:02:11.784083",
     "exception": false,
     "start_time": "2020-12-10T22:02:11.765758",
     "status": "completed"
    },
    "tags": []
   },
   "source": [
    "## Count of Grades"
   ]
  },
  {
   "cell_type": "code",
   "execution_count": 6,
   "metadata": {
    "execution": {
     "iopub.execute_input": "2020-12-10T22:02:11.827714Z",
     "iopub.status.busy": "2020-12-10T22:02:11.827100Z",
     "iopub.status.idle": "2020-12-10T22:02:12.045261Z",
     "shell.execute_reply": "2020-12-10T22:02:12.044596Z"
    },
    "papermill": {
     "duration": 0.242644,
     "end_time": "2020-12-10T22:02:12.045389",
     "exception": false,
     "start_time": "2020-12-10T22:02:11.802745",
     "status": "completed"
    },
    "tags": []
   },
   "outputs": [
    {
     "data": {
      "text/plain": [
       "<matplotlib.axes._subplots.AxesSubplot at 0x7fce5329c910>"
      ]
     },
     "execution_count": 6,
     "metadata": {},
     "output_type": "execute_result"
    },
    {
     "data": {
      "image/png": "[encoded data removed]",
      "text/plain": [
       "<Figure size 1080x720 with 1 Axes>"
      ]
     },
     "metadata": {},
     "output_type": "display_data"
    }
   ],
   "source": [
    "milk[\"Grade\"].value_counts().plot.bar(title = \"Milk in Each Grade\") #Plot the number of instances of each grade"
   ]
  },
  {
   "cell_type": "markdown",
   "metadata": {
    "papermill": {
     "duration": 0.020227,
     "end_time": "2020-12-10T22:02:12.085629",
     "exception": false,
     "start_time": "2020-12-10T22:02:12.065402",
     "status": "completed"
    },
    "tags": []
   },
   "source": [
    "It appears there are more grade 0 and 0.5 milks than 1.0, but not by too much."
   ]
  },
  {
   "cell_type": "markdown",
   "metadata": {
    "papermill": {
     "duration": 0.019535,
     "end_time": "2020-12-10T22:02:12.125058",
     "exception": false,
     "start_time": "2020-12-10T22:02:12.105523",
     "status": "completed"
    },
    "tags": []
   },
   "source": [
    "## Range of Temperature/PH Values"
   ]
  },
  {
   "cell_type": "code",
   "execution_count": 7,
   "metadata": {
    "execution": {
     "iopub.execute_input": "2020-12-10T22:02:12.173412Z",
     "iopub.status.busy": "2020-12-10T22:02:12.172470Z",
     "iopub.status.idle": "2020-12-10T22:02:12.177913Z",
     "shell.execute_reply": "2020-12-10T22:02:12.178384Z"
    },
    "papermill": {
     "duration": 0.03253,
     "end_time": "2020-12-10T22:02:12.178530",
     "exception": false,
     "start_time": "2020-12-10T22:02:12.146000",
     "status": "completed"
    },
    "tags": []
   },
   "outputs": [
    {
     "name": "stdout",
     "output_type": "stream",
     "text": [
      "Temprature Range:  34 - 90\n",
      "pH Range:  3.0 - 9.5\n",
      "Colour Range:  240 - 255\n"
     ]
    }
   ],
   "source": [
    "rangeValues = [\"Temprature\", \"pH\", \"Colour\"] #Get the columns that are ranged values\n",
    "\n",
    "#For each ranged value column, print the range of the column (min and max)\n",
    "for column in rangeValues:\n",
    "    #Print the range for these columns that have ranges\n",
    "    print(column, \"Range: \", milk[column].unique().min(), \"-\", milk[column].unique().max())"
   ]
  },
  {
   "cell_type": "code",
   "execution_count": 8,
   "metadata": {
    "execution": {
     "iopub.execute_input": "2020-12-10T22:02:12.234451Z",
     "iopub.status.busy": "2020-12-10T22:02:12.233235Z",
     "iopub.status.idle": "2020-12-10T22:02:12.244525Z",
     "shell.execute_reply": "2020-12-10T22:02:12.243697Z"
    },
    "papermill": {
     "duration": 0.044093,
     "end_time": "2020-12-10T22:02:12.244680",
     "exception": false,
     "start_time": "2020-12-10T22:02:12.200587",
     "status": "completed"
    },
    "tags": []
   },
   "outputs": [
    {
     "name": "stdout",
     "output_type": "stream",
     "text": [
      "Good Temprature Range:  35 - 45\n",
      "Good pH Range:  6.5 - 6.8\n",
      "Good Colour Range:  245 - 255\n",
      "Moderate Temprature Range:  34 - 45\n",
      "Moderate pH Range:  6.4 - 6.8\n",
      "Moderate Colour Range:  240 - 255\n",
      "Bad Temprature Range:  34 - 90\n",
      "Bad pH Range:  3.0 - 9.5\n",
      "Bad Colour Range:  245 - 255\n"
     ]
    }
   ],
   "source": [
    "gradeType = [\"Good\", \"Moderate\", \"Bad\"] #Get the word names for the different grades\n",
    "\n",
    "#For each grade, get the subset of the dataset for that grade and get its pH/Temp ranges\n",
    "for grade in gradeType:\n",
    "    subset = milk.loc[milk[\"gradeWord\"] == grade] #Get the subset of the data for the specific grade\n",
    "    \n",
    "    #For each ranged value column, print the range of the column (min and max) per each grade\n",
    "    for column in rangeValues:\n",
    "        #Print the range for these columns that have ranges\n",
    "        print(grade, column, \"Range: \", subset[column].unique().min(), \"-\", subset[column].unique().max())"
   ]
  },
  {
   "cell_type": "markdown",
   "metadata": {
    "papermill": {
     "duration": 0.020196,
     "end_time": "2020-12-10T22:02:12.286122",
     "exception": false,
     "start_time": "2020-12-10T22:02:12.265926",
     "status": "completed"
    },
    "tags": []
   },
   "source": [
    "The general ranges for the whole dataset appear to be 34-90, 3-9.5, and 240-255 for temperature, pH, and colour respectively. This also appears to be the total range for bad milks in the case of temperature and pH, where both moderate and good are more restrictive in those departments yet similar to one another. This tells be there are different criteria to deciding good/moderate vs bad and good vs moderate, so those may need to have different classification models to determine the characteristics.\n",
    "\n",
    "As for colour, it seems to only come into play with moderate milks. This means it could be a factor in the difference between moderate and good, but we will have to see."
   ]
  },
  {
   "cell_type": "markdown",
   "metadata": {
    "papermill": {
     "duration": 0.02016,
     "end_time": "2020-12-10T22:02:12.326848",
     "exception": false,
     "start_time": "2020-12-10T22:02:12.306688",
     "status": "completed"
    },
    "tags": []
   },
   "source": [
    "## Plot Each Column"
   ]
  },
  {
   "cell_type": "code",
   "execution_count": 9,
   "metadata": {
    "execution": {
     "iopub.execute_input": "2020-12-10T22:02:12.383307Z",
     "iopub.status.busy": "2020-12-10T22:02:12.381498Z",
     "iopub.status.idle": "2020-12-10T22:02:13.668908Z",
     "shell.execute_reply": "2020-12-10T22:02:13.667970Z"
    },
    "papermill": {
     "duration": 1.321611,
     "end_time": "2020-12-10T22:02:13.669052",
     "exception": false,
     "start_time": "2020-12-10T22:02:12.347441",
     "status": "completed"
    },
    "tags": []
   },
   "outputs": [
    {
     "data": {
      "image/png": "[encoded data removed]",
      "text/plain": [
       "<Figure size 720x288 with 1 Axes>"
      ]
     },
     "metadata": {},
     "output_type": "display_data"
    },
    {
     "data": {
      "image/png": "[encoded data removed]",
      "text/plain": [
       "<Figure size 720x288 with 1 Axes>"
      ]
     },
     "metadata": {},
     "output_type": "display_data"
    },
    {
     "data": {
      "image/png": "[encoded data removed]",
      "text/plain": [
       "<Figure size 720x288 with 1 Axes>"
      ]
     },
     "metadata": {},
     "output_type": "display_data"
    },
    {
     "data": {
      "image/png": "[encoded data removed]",
      "text/plain": [
       "<Figure size 720x288 with 1 Axes>"
      ]
     },
     "metadata": {},
     "output_type": "display_data"
    },
    {
     "data": {
      "image/png": "[encoded data removed]",
      "text/plain": [
       "<Figure size 720x288 with 1 Axes>"
      ]
     },
     "metadata": {},
     "output_type": "display_data"
    },
    {
     "data": {
      "image/png": "[encoded data removed]",
      "text/plain": [
       "<Figure size 720x288 with 1 Axes>"
      ]
     },
     "metadata": {},
     "output_type": "display_data"
    },
    {
     "data": {
      "image/png": "[encoded data removed]",
      "text/plain": [
       "<Figure size 720x288 with 1 Axes>"
      ]
     },
     "metadata": {},
     "output_type": "display_data"
    },
    {
     "data": {
      "image/png": "[encoded data removed]",
      "text/plain": [
       "<Figure size 720x288 with 1 Axes>"
      ]
     },
     "metadata": {},
     "output_type": "display_data"
    },
    {
     "data": {
      "image/png": "[encoded data removed]",
      "text/plain": [
       "<Figure size 720x288 with 1 Axes>"
      ]
     },
     "metadata": {},
     "output_type": "display_data"
    }
   ],
   "source": [
    "plt.rcParams['figure.figsize'] = (10,4) #Update the graph sizes\n",
    "\n",
    "#For each milk column, plot it in a bar graph\n",
    "for column in milk.columns:\n",
    "    plt.figure() #Get the figure so it will let me plot multiple\n",
    "    milk[column].value_counts().plot.bar(title = column) #Plot the specified column"
   ]
  },
  {
   "cell_type": "markdown",
   "metadata": {
    "papermill": {
     "duration": 0.02608,
     "end_time": "2020-12-10T22:02:13.722903",
     "exception": false,
     "start_time": "2020-12-10T22:02:13.696823",
     "status": "completed"
    },
    "tags": []
   },
   "source": [
    "The undiscussed columns appear to all be boolean in nature, with similar distributions of those to boot. The other variables, especially the ranged variables from earlier, have higher concentrations of values in the range used for good/moderate milk overall. "
   ]
  },
  {
   "cell_type": "markdown",
   "metadata": {
    "papermill": {
     "duration": 0.026176,
     "end_time": "2020-12-10T22:02:13.774902",
     "exception": false,
     "start_time": "2020-12-10T22:02:13.748726",
     "status": "completed"
    },
    "tags": []
   },
   "source": [
    "---"
   ]
  },
  {
   "cell_type": "markdown",
   "metadata": {
    "papermill": {
     "duration": 0.025947,
     "end_time": "2020-12-10T22:02:13.826984",
     "exception": false,
     "start_time": "2020-12-10T22:02:13.801037",
     "status": "completed"
    },
    "tags": []
   },
   "source": [
    "# Classify the Whole Dataset"
   ]
  },
  {
   "cell_type": "code",
   "execution_count": 10,
   "metadata": {
    "execution": {
     "iopub.execute_input": "2020-12-10T22:02:13.892116Z",
     "iopub.status.busy": "2020-12-10T22:02:13.891238Z",
     "iopub.status.idle": "2020-12-10T22:02:13.893987Z",
     "shell.execute_reply": "2020-12-10T22:02:13.893506Z"
    },
    "papermill": {
     "duration": 0.041191,
     "end_time": "2020-12-10T22:02:13.894101",
     "exception": false,
     "start_time": "2020-12-10T22:02:13.852910",
     "status": "completed"
    },
    "tags": []
   },
   "outputs": [],
   "source": [
    "#GetChara: Get the most important characteristics to the classification\n",
    "#Input: the characteristics, the model\n",
    "#Output: None\n",
    "def getChara(characteristics, forest):\n",
    "    attributes = characteristics.columns #Get the tested attributes\n",
    "    attributes = list(zip(attributes, forest.feature_importances_)) #Zip the attributes together with their coefficient\n",
    "    sortAtt = sorted(attributes, key = lambda x: x[1], reverse = True) #Sort the zipped attributes by their coefficients\n",
    "\n",
    "    print(\"According to the Random Forest, the most important factors for milk grade are: \") #Start printing the most important labels\n",
    "    i = 0 #Counter variable so only the top five are printed\n",
    "\n",
    "    #For each attribute in the sorted attributes\n",
    "    for label, coef in sortAtt:\n",
    "        if i < 7: #If there has not been five printed yet\n",
    "            print(label) #Print the label as an important factor\n",
    "        i += 1 #Increase i by 1\n",
    "\n",
    "#ClassifyMilk: Classify milk grade based on the labels\n",
    "#Input: The dataframe for the milk, the labels used\n",
    "#Output: None\n",
    "def classifyMilk(milk, labels):\n",
    "    grade = milk[\"gradeWord\"].copy() #Get the grades as our classification metric\n",
    "    grade = pd.get_dummies(grade) #Get dummies for the grade metric\n",
    "    print(grade)\n",
    "\n",
    "    characteristics = milk.drop(columns = {\"Grade\", \"gradeWord\"}).copy() #Get the characteristics used for classification\n",
    "    charaTrain, charaTest, gradeTrain, gradeTest = train_test_split(characteristics, grade, test_size = 0.2) #Split the dataset\n",
    "    \n",
    "    forest = RandomForestClassifier(n_estimators = 100) #Build a forest\n",
    "    forest.fit(charaTrain, gradeTrain) #Fit the forest model\n",
    "    \n",
    "    predict = forest.predict(charaTest) #Get a list of predictions\n",
    "    \n",
    "    print(\"Forest Accuracy: \", forest.score(charaTest, gradeTest)) #Print the accuracy\n",
    "    print(\"Root Mean Square Error: \", np.sqrt(mean_squared_error(gradeTest, predict))) #Print the root mean square error\n",
    "    print(\"Classification Report:\\n \", classification_report(gradeTest, predict, target_names = labels)) #Print a classification report\n",
    "    \n",
    "    getChara(characteristics, forest) #Get the important Characteristics"
   ]
  },
  {
   "cell_type": "code",
   "execution_count": 11,
   "metadata": {
    "execution": {
     "iopub.execute_input": "2020-12-10T22:02:13.953100Z",
     "iopub.status.busy": "2020-12-10T22:02:13.952481Z",
     "iopub.status.idle": "2020-12-10T22:02:14.221900Z",
     "shell.execute_reply": "2020-12-10T22:02:14.220994Z"
    },
    "papermill": {
     "duration": 0.301381,
     "end_time": "2020-12-10T22:02:14.222057",
     "exception": false,
     "start_time": "2020-12-10T22:02:13.920676",
     "status": "completed"
    },
    "tags": []
   },
   "outputs": [
    {
     "name": "stdout",
     "output_type": "stream",
     "text": [
      "      Bad  Good  Moderate\n",
      "0       0     1         0\n",
      "1       0     1         0\n",
      "2       1     0         0\n",
      "3       1     0         0\n",
      "4       0     0         1\n",
      "...   ...   ...       ...\n",
      "1054    0     0         1\n",
      "1055    0     1         0\n",
      "1056    1     0         0\n",
      "1057    0     1         0\n",
      "1058    1     0         0\n",
      "\n",
      "[1059 rows x 3 columns]\n",
      "Forest Accuracy:  1.0\n",
      "Root Mean Square Error:  0.0\n",
      "Classification Report:\n",
      "                precision    recall  f1-score   support\n",
      "\n",
      "         Bad       1.00      1.00      1.00        82\n",
      "        Good       1.00      1.00      1.00        59\n",
      "    Moderate       1.00      1.00      1.00        71\n",
      "\n",
      "   micro avg       1.00      1.00      1.00       212\n",
      "   macro avg       1.00      1.00      1.00       212\n",
      "weighted avg       1.00      1.00      1.00       212\n",
      " samples avg       1.00      1.00      1.00       212\n",
      "\n",
      "According to the Random Forest, the most important factors for milk grade are: \n",
      "pH\n",
      "Temprature\n",
      "Odor\n",
      "Fat \n",
      "Turbidity\n",
      "Colour\n",
      "Taste\n"
     ]
    }
   ],
   "source": [
    "grade = [\"Bad\", \"Good\", \"Moderate\"] #Get the grades in order\n",
    "classifyMilk(milk, grade) #Classify on the whole dataset"
   ]
  },
  {
   "cell_type": "markdown",
   "metadata": {
    "papermill": {
     "duration": 0.027125,
     "end_time": "2020-12-10T22:02:14.277637",
     "exception": false,
     "start_time": "2020-12-10T22:02:14.250512",
     "status": "completed"
    },
    "tags": []
   },
   "source": [
    "In the overall dataset (showing good/moderate versus bad), pH and Temperature come out on top as expected by looking at their ranges. Next comes Turbidity, Odor, and Fat, or rather it is considered worse if it is too foggy, too stinky, or had not enough fat."
   ]
  },
  {
   "cell_type": "markdown",
   "metadata": {
    "papermill": {
     "duration": 0.026749,
     "end_time": "2020-12-10T22:02:14.331361",
     "exception": false,
     "start_time": "2020-12-10T22:02:14.304612",
     "status": "completed"
    },
    "tags": []
   },
   "source": [
    "---"
   ]
  },
  {
   "cell_type": "markdown",
   "metadata": {
    "papermill": {
     "duration": 0.026537,
     "end_time": "2020-12-10T22:02:14.384656",
     "exception": false,
     "start_time": "2020-12-10T22:02:14.358119",
     "status": "completed"
    },
    "tags": []
   },
   "source": [
    "# Classify only Moderate and Good"
   ]
  },
  {
   "cell_type": "code",
   "execution_count": 12,
   "metadata": {
    "execution": {
     "iopub.execute_input": "2020-12-10T22:02:14.448467Z",
     "iopub.status.busy": "2020-12-10T22:02:14.443658Z",
     "iopub.status.idle": "2020-12-10T22:02:14.663812Z",
     "shell.execute_reply": "2020-12-10T22:02:14.662784Z"
    },
    "papermill": {
     "duration": 0.252514,
     "end_time": "2020-12-10T22:02:14.664027",
     "exception": false,
     "start_time": "2020-12-10T22:02:14.411513",
     "status": "completed"
    },
    "tags": []
   },
   "outputs": [
    {
     "name": "stdout",
     "output_type": "stream",
     "text": [
      "      Good  Moderate\n",
      "0        1         0\n",
      "1        1         0\n",
      "4        0         1\n",
      "5        1         0\n",
      "9        0         1\n",
      "...    ...       ...\n",
      "1050     1         0\n",
      "1052     0         1\n",
      "1054     0         1\n",
      "1055     1         0\n",
      "1057     1         0\n",
      "\n",
      "[630 rows x 2 columns]\n",
      "Forest Accuracy:  0.9920634920634921\n",
      "Root Mean Square Error:  0.0890870806374748\n",
      "Classification Report:\n",
      "                precision    recall  f1-score   support\n",
      "\n",
      "        Good       1.00      0.98      0.99        45\n",
      "    Moderate       0.99      1.00      0.99        81\n",
      "\n",
      "   micro avg       0.99      0.99      0.99       126\n",
      "   macro avg       0.99      0.99      0.99       126\n",
      "weighted avg       0.99      0.99      0.99       126\n",
      " samples avg       0.99      0.99      0.99       126\n",
      "\n",
      "According to the Random Forest, the most important factors for milk grade are: \n",
      "Fat \n",
      "Odor\n",
      "pH\n",
      "Turbidity\n",
      "Colour\n",
      "Temprature\n",
      "Taste\n"
     ]
    }
   ],
   "source": [
    "grades = [\"Good\", \"Moderate\"] #Get the grades for this classification\n",
    "milkLite = milk.loc[milk[\"gradeWord\"] != \"Bad\"] #Get all milks that are not bad\n",
    "\n",
    "classifyMilk(milkLite, grades) #Classify every milk but bad"
   ]
  },
  {
   "cell_type": "markdown",
   "metadata": {
    "papermill": {
     "duration": 0.028267,
     "end_time": "2020-12-10T22:02:14.721662",
     "exception": false,
     "start_time": "2020-12-10T22:02:14.693395",
     "status": "completed"
    },
    "tags": []
   },
   "source": [
    "pH and Turbidity appeared to have more of a play when looking at bad milk rather than moderate vs good, but they do appear to still be relatively important. Fat and Odor took over when calling between moderate and good, telling me that these are the factors to distinguish between moderate and good milks."
   ]
  },
  {
   "cell_type": "markdown",
   "metadata": {
    "papermill": {
     "duration": 0.027544,
     "end_time": "2020-12-10T22:02:14.777091",
     "exception": false,
     "start_time": "2020-12-10T22:02:14.749547",
     "status": "completed"
    },
    "tags": []
   },
   "source": [
    "---"
   ]
  },
  {
   "cell_type": "markdown",
   "metadata": {
    "papermill": {
     "duration": 0.028285,
     "end_time": "2020-12-10T22:02:14.833956",
     "exception": false,
     "start_time": "2020-12-10T22:02:14.805671",
     "status": "completed"
    },
    "tags": []
   },
   "source": [
    "# Conclusion"
   ]
  },
  {
   "cell_type": "markdown",
   "metadata": {
    "papermill": {
     "duration": 0.027677,
     "end_time": "2020-12-10T22:02:14.889988",
     "exception": false,
     "start_time": "2020-12-10T22:02:14.862311",
     "status": "completed"
    },
    "tags": []
   },
   "source": [
    "Overall, a random forest classifier could classify the milk grades at 99+% accuracy. The pH, Temperature, and Turbidity factors had the most at play when distinguishing bad milk, while Fat and Odor were the deciding calls between moderate and good milk. This, of course, is given the wide range of temperatures and pH's in the bad milk that are picked out before even being considered to the moderate/good categories."
   ]
  }
 ],
 "metadata": {
  "kernelspec": {
   "display_name": "Python 3",
   "language": "python",
   "name": "python3"
  },
  "language_info": {
   "codemirror_mode": {
    "name": "ipython",
    "version": 3
   },
   "file_extension": ".py",
   "mimetype": "text/x-python",
   "name": "python",
   "nbconvert_exporter": "python",
   "pygments_lexer": "ipython3",
   "version": "3.7.6"
  },
  "papermill": {
   "duration": 9.787713,
   "end_time": "2020-12-10T22:02:15.025359",
   "environment_variables": {},
   "exception": null,
   "input_path": "__notebook__.ipynb",
   "output_path": "__notebook__.ipynb",
   "parameters": {},
   "start_time": "2020-12-10T22:02:05.237646",
   "version": "2.1.0"
  }
 },
 "nbformat": 4,
 "nbformat_minor": 4
}
