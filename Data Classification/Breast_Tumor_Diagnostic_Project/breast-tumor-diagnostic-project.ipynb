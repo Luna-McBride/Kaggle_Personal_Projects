{
 "cells": [
  {
   "cell_type": "markdown",
   "metadata": {
    "papermill": {
     "duration": 0.018691,
     "end_time": "2020-11-23T22:46:06.962626",
     "exception": false,
     "start_time": "2020-11-23T22:46:06.943935",
     "status": "completed"
    },
    "tags": []
   },
   "source": [
    "# Breast Cancer Diagnostic Classification Project"
   ]
  },
  {
   "cell_type": "markdown",
   "metadata": {
    "papermill": {
     "duration": 0.014051,
     "end_time": "2020-11-23T22:46:06.991327",
     "exception": false,
     "start_time": "2020-11-23T22:46:06.977276",
     "status": "completed"
    },
    "tags": []
   },
   "source": [
    "Coded by Luna McBride"
   ]
  },
  {
   "cell_type": "code",
   "execution_count": 1,
   "metadata": {
    "_cell_guid": "b1076dfc-b9ad-4769-8c92-a6c4dae69d19",
    "_uuid": "8f2839f25d086af736a60e9eeb907d3b93b6e0e5",
    "execution": {
     "iopub.execute_input": "2020-11-23T22:46:07.027803Z",
     "iopub.status.busy": "2020-11-23T22:46:07.026972Z",
     "iopub.status.idle": "2020-11-23T22:46:08.386677Z",
     "shell.execute_reply": "2020-11-23T22:46:08.386077Z"
    },
    "papermill": {
     "duration": 1.381006,
     "end_time": "2020-11-23T22:46:08.386815",
     "exception": false,
     "start_time": "2020-11-23T22:46:07.005809",
     "status": "completed"
    },
    "tags": []
   },
   "outputs": [
    {
     "name": "stdout",
     "output_type": "stream",
     "text": [
      "/kaggle/input/breast-cancer-wisconsin-data/data.csv\n"
     ]
    }
   ],
   "source": [
    "# This Python 3 environment comes with many helpful analytics libraries installed\n",
    "# It is defined by the kaggle/python Docker image: https://github.com/kaggle/docker-python\n",
    "# For example, here's several helpful packages to load\n",
    "\n",
    "import numpy as np # linear algebra\n",
    "import pandas as pd # data processing, CSV file I/O (e.g. pd.read_csv)\n",
    "\n",
    "from sklearn.model_selection import train_test_split #Split the data into train and test\n",
    "from sklearn.ensemble import RandomForestClassifier #Forest for prediction and regression\n",
    "from sklearn.metrics import mean_squared_error #Error testing\n",
    "from sklearn.metrics import classification_report #Report of Classification\n",
    "\n",
    "# Input data files are available in the read-only \"../input/\" directory\n",
    "# For example, running this (by clicking run or pressing Shift+Enter) will list all files under the input directory\n",
    "\n",
    "import os\n",
    "for dirname, _, filenames in os.walk('/kaggle/input'):\n",
    "    for filename in filenames:\n",
    "        print(os.path.join(dirname, filename))\n",
    "\n",
    "# You can write up to 20GB to the current directory (/kaggle/working/) that gets preserved as output when you create a version using \"Save & Run All\" \n",
    "# You can also write temporary files to /kaggle/temp/, but they won't be saved outside of the current session"
   ]
  },
  {
   "cell_type": "code",
   "execution_count": 2,
   "metadata": {
    "_cell_guid": "79c7e3d0-c299-4dcb-8224-4455121ee9b0",
    "_uuid": "d629ff2d2480ee46fbb7e2d37f6b5fab8052498a",
    "execution": {
     "iopub.execute_input": "2020-11-23T22:46:08.424439Z",
     "iopub.status.busy": "2020-11-23T22:46:08.423816Z",
     "iopub.status.idle": "2020-11-23T22:46:08.476776Z",
     "shell.execute_reply": "2020-11-23T22:46:08.477222Z"
    },
    "papermill": {
     "duration": 0.074603,
     "end_time": "2020-11-23T22:46:08.477381",
     "exception": false,
     "start_time": "2020-11-23T22:46:08.402778",
     "status": "completed"
    },
    "tags": []
   },
   "outputs": [
    {
     "data": {
      "text/html": [
       "<div>\n",
       "<style scoped>\n",
       "    .dataframe tbody tr th:only-of-type {\n",
       "        vertical-align: middle;\n",
       "    }\n",
       "\n",
       "    .dataframe tbody tr th {\n",
       "        vertical-align: top;\n",
       "    }\n",
       "\n",
       "    .dataframe thead th {\n",
       "        text-align: right;\n",
       "    }\n",
       "</style>\n",
       "<table border=\"1\" class=\"dataframe\">\n",
       "  <thead>\n",
       "    <tr style=\"text-align: right;\">\n",
       "      <th></th>\n",
       "      <th>id</th>\n",
       "      <th>diagnosis</th>\n",
       "      <th>radius_mean</th>\n",
       "      <th>texture_mean</th>\n",
       "      <th>perimeter_mean</th>\n",
       "      <th>area_mean</th>\n",
       "      <th>smoothness_mean</th>\n",
       "      <th>compactness_mean</th>\n",
       "      <th>concavity_mean</th>\n",
       "      <th>concave points_mean</th>\n",
       "      <th>...</th>\n",
       "      <th>texture_worst</th>\n",
       "      <th>perimeter_worst</th>\n",
       "      <th>area_worst</th>\n",
       "      <th>smoothness_worst</th>\n",
       "      <th>compactness_worst</th>\n",
       "      <th>concavity_worst</th>\n",
       "      <th>concave points_worst</th>\n",
       "      <th>symmetry_worst</th>\n",
       "      <th>fractal_dimension_worst</th>\n",
       "      <th>Unnamed: 32</th>\n",
       "    </tr>\n",
       "  </thead>\n",
       "  <tbody>\n",
       "    <tr>\n",
       "      <th>0</th>\n",
       "      <td>842302</td>\n",
       "      <td>M</td>\n",
       "      <td>17.99</td>\n",
       "      <td>10.38</td>\n",
       "      <td>122.80</td>\n",
       "      <td>1001.0</td>\n",
       "      <td>0.11840</td>\n",
       "      <td>0.27760</td>\n",
       "      <td>0.3001</td>\n",
       "      <td>0.14710</td>\n",
       "      <td>...</td>\n",
       "      <td>17.33</td>\n",
       "      <td>184.60</td>\n",
       "      <td>2019.0</td>\n",
       "      <td>0.1622</td>\n",
       "      <td>0.6656</td>\n",
       "      <td>0.7119</td>\n",
       "      <td>0.2654</td>\n",
       "      <td>0.4601</td>\n",
       "      <td>0.11890</td>\n",
       "      <td>NaN</td>\n",
       "    </tr>\n",
       "    <tr>\n",
       "      <th>1</th>\n",
       "      <td>842517</td>\n",
       "      <td>M</td>\n",
       "      <td>20.57</td>\n",
       "      <td>17.77</td>\n",
       "      <td>132.90</td>\n",
       "      <td>1326.0</td>\n",
       "      <td>0.08474</td>\n",
       "      <td>0.07864</td>\n",
       "      <td>0.0869</td>\n",
       "      <td>0.07017</td>\n",
       "      <td>...</td>\n",
       "      <td>23.41</td>\n",
       "      <td>158.80</td>\n",
       "      <td>1956.0</td>\n",
       "      <td>0.1238</td>\n",
       "      <td>0.1866</td>\n",
       "      <td>0.2416</td>\n",
       "      <td>0.1860</td>\n",
       "      <td>0.2750</td>\n",
       "      <td>0.08902</td>\n",
       "      <td>NaN</td>\n",
       "    </tr>\n",
       "    <tr>\n",
       "      <th>2</th>\n",
       "      <td>84300903</td>\n",
       "      <td>M</td>\n",
       "      <td>19.69</td>\n",
       "      <td>21.25</td>\n",
       "      <td>130.00</td>\n",
       "      <td>1203.0</td>\n",
       "      <td>0.10960</td>\n",
       "      <td>0.15990</td>\n",
       "      <td>0.1974</td>\n",
       "      <td>0.12790</td>\n",
       "      <td>...</td>\n",
       "      <td>25.53</td>\n",
       "      <td>152.50</td>\n",
       "      <td>1709.0</td>\n",
       "      <td>0.1444</td>\n",
       "      <td>0.4245</td>\n",
       "      <td>0.4504</td>\n",
       "      <td>0.2430</td>\n",
       "      <td>0.3613</td>\n",
       "      <td>0.08758</td>\n",
       "      <td>NaN</td>\n",
       "    </tr>\n",
       "    <tr>\n",
       "      <th>3</th>\n",
       "      <td>84348301</td>\n",
       "      <td>M</td>\n",
       "      <td>11.42</td>\n",
       "      <td>20.38</td>\n",
       "      <td>77.58</td>\n",
       "      <td>386.1</td>\n",
       "      <td>0.14250</td>\n",
       "      <td>0.28390</td>\n",
       "      <td>0.2414</td>\n",
       "      <td>0.10520</td>\n",
       "      <td>...</td>\n",
       "      <td>26.50</td>\n",
       "      <td>98.87</td>\n",
       "      <td>567.7</td>\n",
       "      <td>0.2098</td>\n",
       "      <td>0.8663</td>\n",
       "      <td>0.6869</td>\n",
       "      <td>0.2575</td>\n",
       "      <td>0.6638</td>\n",
       "      <td>0.17300</td>\n",
       "      <td>NaN</td>\n",
       "    </tr>\n",
       "    <tr>\n",
       "      <th>4</th>\n",
       "      <td>84358402</td>\n",
       "      <td>M</td>\n",
       "      <td>20.29</td>\n",
       "      <td>14.34</td>\n",
       "      <td>135.10</td>\n",
       "      <td>1297.0</td>\n",
       "      <td>0.10030</td>\n",
       "      <td>0.13280</td>\n",
       "      <td>0.1980</td>\n",
       "      <td>0.10430</td>\n",
       "      <td>...</td>\n",
       "      <td>16.67</td>\n",
       "      <td>152.20</td>\n",
       "      <td>1575.0</td>\n",
       "      <td>0.1374</td>\n",
       "      <td>0.2050</td>\n",
       "      <td>0.4000</td>\n",
       "      <td>0.1625</td>\n",
       "      <td>0.2364</td>\n",
       "      <td>0.07678</td>\n",
       "      <td>NaN</td>\n",
       "    </tr>\n",
       "  </tbody>\n",
       "</table>\n",
       "<p>5 rows × 33 columns</p>\n",
       "</div>"
      ],
      "text/plain": [
       "         id diagnosis  radius_mean  texture_mean  perimeter_mean  area_mean  \\\n",
       "0    842302         M        17.99         10.38          122.80     1001.0   \n",
       "1    842517         M        20.57         17.77          132.90     1326.0   \n",
       "2  84300903         M        19.69         21.25          130.00     1203.0   \n",
       "3  84348301         M        11.42         20.38           77.58      386.1   \n",
       "4  84358402         M        20.29         14.34          135.10     1297.0   \n",
       "\n",
       "   smoothness_mean  compactness_mean  concavity_mean  concave points_mean  \\\n",
       "0          0.11840           0.27760          0.3001              0.14710   \n",
       "1          0.08474           0.07864          0.0869              0.07017   \n",
       "2          0.10960           0.15990          0.1974              0.12790   \n",
       "3          0.14250           0.28390          0.2414              0.10520   \n",
       "4          0.10030           0.13280          0.1980              0.10430   \n",
       "\n",
       "   ...  texture_worst  perimeter_worst  area_worst  smoothness_worst  \\\n",
       "0  ...          17.33           184.60      2019.0            0.1622   \n",
       "1  ...          23.41           158.80      1956.0            0.1238   \n",
       "2  ...          25.53           152.50      1709.0            0.1444   \n",
       "3  ...          26.50            98.87       567.7            0.2098   \n",
       "4  ...          16.67           152.20      1575.0            0.1374   \n",
       "\n",
       "   compactness_worst  concavity_worst  concave points_worst  symmetry_worst  \\\n",
       "0             0.6656           0.7119                0.2654          0.4601   \n",
       "1             0.1866           0.2416                0.1860          0.2750   \n",
       "2             0.4245           0.4504                0.2430          0.3613   \n",
       "3             0.8663           0.6869                0.2575          0.6638   \n",
       "4             0.2050           0.4000                0.1625          0.2364   \n",
       "\n",
       "   fractal_dimension_worst  Unnamed: 32  \n",
       "0                  0.11890          NaN  \n",
       "1                  0.08902          NaN  \n",
       "2                  0.08758          NaN  \n",
       "3                  0.17300          NaN  \n",
       "4                  0.07678          NaN  \n",
       "\n",
       "[5 rows x 33 columns]"
      ]
     },
     "execution_count": 2,
     "metadata": {},
     "output_type": "execute_result"
    }
   ],
   "source": [
    "cancer = pd.read_csv(\"../input/breast-cancer-wisconsin-data/data.csv\") #Put our data into a dataframe\n",
    "cancer.head() #Take a peek at the data"
   ]
  },
  {
   "cell_type": "code",
   "execution_count": 3,
   "metadata": {
    "execution": {
     "iopub.execute_input": "2020-11-23T22:46:08.516562Z",
     "iopub.status.busy": "2020-11-23T22:46:08.515733Z",
     "iopub.status.idle": "2020-11-23T22:46:08.518854Z",
     "shell.execute_reply": "2020-11-23T22:46:08.519360Z"
    },
    "papermill": {
     "duration": 0.024262,
     "end_time": "2020-11-23T22:46:08.519498",
     "exception": false,
     "start_time": "2020-11-23T22:46:08.495236",
     "status": "completed"
    },
    "tags": []
   },
   "outputs": [
    {
     "name": "stdout",
     "output_type": "stream",
     "text": [
      "569\n"
     ]
    }
   ],
   "source": [
    "print(len(cancer.index)) #Print the number of rows"
   ]
  },
  {
   "cell_type": "markdown",
   "metadata": {
    "papermill": {
     "duration": 0.015708,
     "end_time": "2020-11-23T22:46:08.551492",
     "exception": false,
     "start_time": "2020-11-23T22:46:08.535784",
     "status": "completed"
    },
    "tags": []
   },
   "source": [
    "---"
   ]
  },
  {
   "cell_type": "markdown",
   "metadata": {
    "papermill": {
     "duration": 0.015972,
     "end_time": "2020-11-23T22:46:08.583488",
     "exception": false,
     "start_time": "2020-11-23T22:46:08.567516",
     "status": "completed"
    },
    "tags": []
   },
   "source": [
    "# Check for Null Values"
   ]
  },
  {
   "cell_type": "code",
   "execution_count": 4,
   "metadata": {
    "execution": {
     "iopub.execute_input": "2020-11-23T22:46:08.622091Z",
     "iopub.status.busy": "2020-11-23T22:46:08.621322Z",
     "iopub.status.idle": "2020-11-23T22:46:08.627467Z",
     "shell.execute_reply": "2020-11-23T22:46:08.626710Z"
    },
    "papermill": {
     "duration": 0.027233,
     "end_time": "2020-11-23T22:46:08.627635",
     "exception": false,
     "start_time": "2020-11-23T22:46:08.600402",
     "status": "completed"
    },
    "tags": []
   },
   "outputs": [
    {
     "name": "stdout",
     "output_type": "stream",
     "text": [
      "id                         False\n",
      "diagnosis                  False\n",
      "radius_mean                False\n",
      "texture_mean               False\n",
      "perimeter_mean             False\n",
      "area_mean                  False\n",
      "smoothness_mean            False\n",
      "compactness_mean           False\n",
      "concavity_mean             False\n",
      "concave points_mean        False\n",
      "symmetry_mean              False\n",
      "fractal_dimension_mean     False\n",
      "radius_se                  False\n",
      "texture_se                 False\n",
      "perimeter_se               False\n",
      "area_se                    False\n",
      "smoothness_se              False\n",
      "compactness_se             False\n",
      "concavity_se               False\n",
      "concave points_se          False\n",
      "symmetry_se                False\n",
      "fractal_dimension_se       False\n",
      "radius_worst               False\n",
      "texture_worst              False\n",
      "perimeter_worst            False\n",
      "area_worst                 False\n",
      "smoothness_worst           False\n",
      "compactness_worst          False\n",
      "concavity_worst            False\n",
      "concave points_worst       False\n",
      "symmetry_worst             False\n",
      "fractal_dimension_worst    False\n",
      "Unnamed: 32                 True\n",
      "dtype: bool\n"
     ]
    }
   ],
   "source": [
    "print(cancer.isnull().any()) #Check if the columns have null values"
   ]
  },
  {
   "cell_type": "code",
   "execution_count": 5,
   "metadata": {
    "execution": {
     "iopub.execute_input": "2020-11-23T22:46:08.666724Z",
     "iopub.status.busy": "2020-11-23T22:46:08.666028Z",
     "iopub.status.idle": "2020-11-23T22:46:08.694934Z",
     "shell.execute_reply": "2020-11-23T22:46:08.694364Z"
    },
    "papermill": {
     "duration": 0.050116,
     "end_time": "2020-11-23T22:46:08.695050",
     "exception": false,
     "start_time": "2020-11-23T22:46:08.644934",
     "status": "completed"
    },
    "tags": []
   },
   "outputs": [
    {
     "name": "stdout",
     "output_type": "stream",
     "text": [
      "Empty DataFrame\n",
      "Columns: [id, diagnosis, radius_mean, texture_mean, perimeter_mean, area_mean, smoothness_mean, compactness_mean, concavity_mean, concave points_mean, symmetry_mean, fractal_dimension_mean, radius_se, texture_se, perimeter_se, area_se, smoothness_se, compactness_se, concavity_se, concave points_se, symmetry_se, fractal_dimension_se, radius_worst, texture_worst, perimeter_worst, area_worst, smoothness_worst, compactness_worst, concavity_worst, concave points_worst, symmetry_worst, fractal_dimension_worst, Unnamed: 32]\n",
      "Index: []\n",
      "\n",
      "[0 rows x 33 columns]\n"
     ]
    }
   ],
   "source": [
    "print(cancer.loc[cancer[\"Unnamed: 32\"].isnull() != True]) #Check to see if unnamed32 actually has values"
   ]
  },
  {
   "cell_type": "markdown",
   "metadata": {
    "papermill": {
     "duration": 0.017022,
     "end_time": "2020-11-23T22:46:08.728906",
     "exception": false,
     "start_time": "2020-11-23T22:46:08.711884",
     "status": "completed"
    },
    "tags": []
   },
   "source": [
    "Everything is not null except the column Unnamed: 32, which is entirely null. I will drop Unnamed: 32. I will also drop the ID, since the ID is not something I want to test against"
   ]
  },
  {
   "cell_type": "code",
   "execution_count": 6,
   "metadata": {
    "execution": {
     "iopub.execute_input": "2020-11-23T22:46:08.779019Z",
     "iopub.status.busy": "2020-11-23T22:46:08.778306Z",
     "iopub.status.idle": "2020-11-23T22:46:08.794294Z",
     "shell.execute_reply": "2020-11-23T22:46:08.793690Z"
    },
    "papermill": {
     "duration": 0.048182,
     "end_time": "2020-11-23T22:46:08.794401",
     "exception": false,
     "start_time": "2020-11-23T22:46:08.746219",
     "status": "completed"
    },
    "tags": []
   },
   "outputs": [
    {
     "data": {
      "text/html": [
       "<div>\n",
       "<style scoped>\n",
       "    .dataframe tbody tr th:only-of-type {\n",
       "        vertical-align: middle;\n",
       "    }\n",
       "\n",
       "    .dataframe tbody tr th {\n",
       "        vertical-align: top;\n",
       "    }\n",
       "\n",
       "    .dataframe thead th {\n",
       "        text-align: right;\n",
       "    }\n",
       "</style>\n",
       "<table border=\"1\" class=\"dataframe\">\n",
       "  <thead>\n",
       "    <tr style=\"text-align: right;\">\n",
       "      <th></th>\n",
       "      <th>diagnosis</th>\n",
       "      <th>radius_mean</th>\n",
       "      <th>texture_mean</th>\n",
       "      <th>perimeter_mean</th>\n",
       "      <th>area_mean</th>\n",
       "      <th>smoothness_mean</th>\n",
       "      <th>compactness_mean</th>\n",
       "      <th>concavity_mean</th>\n",
       "      <th>concave points_mean</th>\n",
       "      <th>symmetry_mean</th>\n",
       "      <th>...</th>\n",
       "      <th>radius_worst</th>\n",
       "      <th>texture_worst</th>\n",
       "      <th>perimeter_worst</th>\n",
       "      <th>area_worst</th>\n",
       "      <th>smoothness_worst</th>\n",
       "      <th>compactness_worst</th>\n",
       "      <th>concavity_worst</th>\n",
       "      <th>concave points_worst</th>\n",
       "      <th>symmetry_worst</th>\n",
       "      <th>fractal_dimension_worst</th>\n",
       "    </tr>\n",
       "  </thead>\n",
       "  <tbody>\n",
       "    <tr>\n",
       "      <th>0</th>\n",
       "      <td>M</td>\n",
       "      <td>17.99</td>\n",
       "      <td>10.38</td>\n",
       "      <td>122.80</td>\n",
       "      <td>1001.0</td>\n",
       "      <td>0.11840</td>\n",
       "      <td>0.27760</td>\n",
       "      <td>0.3001</td>\n",
       "      <td>0.14710</td>\n",
       "      <td>0.2419</td>\n",
       "      <td>...</td>\n",
       "      <td>25.38</td>\n",
       "      <td>17.33</td>\n",
       "      <td>184.60</td>\n",
       "      <td>2019.0</td>\n",
       "      <td>0.1622</td>\n",
       "      <td>0.6656</td>\n",
       "      <td>0.7119</td>\n",
       "      <td>0.2654</td>\n",
       "      <td>0.4601</td>\n",
       "      <td>0.11890</td>\n",
       "    </tr>\n",
       "    <tr>\n",
       "      <th>1</th>\n",
       "      <td>M</td>\n",
       "      <td>20.57</td>\n",
       "      <td>17.77</td>\n",
       "      <td>132.90</td>\n",
       "      <td>1326.0</td>\n",
       "      <td>0.08474</td>\n",
       "      <td>0.07864</td>\n",
       "      <td>0.0869</td>\n",
       "      <td>0.07017</td>\n",
       "      <td>0.1812</td>\n",
       "      <td>...</td>\n",
       "      <td>24.99</td>\n",
       "      <td>23.41</td>\n",
       "      <td>158.80</td>\n",
       "      <td>1956.0</td>\n",
       "      <td>0.1238</td>\n",
       "      <td>0.1866</td>\n",
       "      <td>0.2416</td>\n",
       "      <td>0.1860</td>\n",
       "      <td>0.2750</td>\n",
       "      <td>0.08902</td>\n",
       "    </tr>\n",
       "    <tr>\n",
       "      <th>2</th>\n",
       "      <td>M</td>\n",
       "      <td>19.69</td>\n",
       "      <td>21.25</td>\n",
       "      <td>130.00</td>\n",
       "      <td>1203.0</td>\n",
       "      <td>0.10960</td>\n",
       "      <td>0.15990</td>\n",
       "      <td>0.1974</td>\n",
       "      <td>0.12790</td>\n",
       "      <td>0.2069</td>\n",
       "      <td>...</td>\n",
       "      <td>23.57</td>\n",
       "      <td>25.53</td>\n",
       "      <td>152.50</td>\n",
       "      <td>1709.0</td>\n",
       "      <td>0.1444</td>\n",
       "      <td>0.4245</td>\n",
       "      <td>0.4504</td>\n",
       "      <td>0.2430</td>\n",
       "      <td>0.3613</td>\n",
       "      <td>0.08758</td>\n",
       "    </tr>\n",
       "    <tr>\n",
       "      <th>3</th>\n",
       "      <td>M</td>\n",
       "      <td>11.42</td>\n",
       "      <td>20.38</td>\n",
       "      <td>77.58</td>\n",
       "      <td>386.1</td>\n",
       "      <td>0.14250</td>\n",
       "      <td>0.28390</td>\n",
       "      <td>0.2414</td>\n",
       "      <td>0.10520</td>\n",
       "      <td>0.2597</td>\n",
       "      <td>...</td>\n",
       "      <td>14.91</td>\n",
       "      <td>26.50</td>\n",
       "      <td>98.87</td>\n",
       "      <td>567.7</td>\n",
       "      <td>0.2098</td>\n",
       "      <td>0.8663</td>\n",
       "      <td>0.6869</td>\n",
       "      <td>0.2575</td>\n",
       "      <td>0.6638</td>\n",
       "      <td>0.17300</td>\n",
       "    </tr>\n",
       "    <tr>\n",
       "      <th>4</th>\n",
       "      <td>M</td>\n",
       "      <td>20.29</td>\n",
       "      <td>14.34</td>\n",
       "      <td>135.10</td>\n",
       "      <td>1297.0</td>\n",
       "      <td>0.10030</td>\n",
       "      <td>0.13280</td>\n",
       "      <td>0.1980</td>\n",
       "      <td>0.10430</td>\n",
       "      <td>0.1809</td>\n",
       "      <td>...</td>\n",
       "      <td>22.54</td>\n",
       "      <td>16.67</td>\n",
       "      <td>152.20</td>\n",
       "      <td>1575.0</td>\n",
       "      <td>0.1374</td>\n",
       "      <td>0.2050</td>\n",
       "      <td>0.4000</td>\n",
       "      <td>0.1625</td>\n",
       "      <td>0.2364</td>\n",
       "      <td>0.07678</td>\n",
       "    </tr>\n",
       "  </tbody>\n",
       "</table>\n",
       "<p>5 rows × 31 columns</p>\n",
       "</div>"
      ],
      "text/plain": [
       "  diagnosis  radius_mean  texture_mean  perimeter_mean  area_mean  \\\n",
       "0         M        17.99         10.38          122.80     1001.0   \n",
       "1         M        20.57         17.77          132.90     1326.0   \n",
       "2         M        19.69         21.25          130.00     1203.0   \n",
       "3         M        11.42         20.38           77.58      386.1   \n",
       "4         M        20.29         14.34          135.10     1297.0   \n",
       "\n",
       "   smoothness_mean  compactness_mean  concavity_mean  concave points_mean  \\\n",
       "0          0.11840           0.27760          0.3001              0.14710   \n",
       "1          0.08474           0.07864          0.0869              0.07017   \n",
       "2          0.10960           0.15990          0.1974              0.12790   \n",
       "3          0.14250           0.28390          0.2414              0.10520   \n",
       "4          0.10030           0.13280          0.1980              0.10430   \n",
       "\n",
       "   symmetry_mean  ...  radius_worst  texture_worst  perimeter_worst  \\\n",
       "0         0.2419  ...         25.38          17.33           184.60   \n",
       "1         0.1812  ...         24.99          23.41           158.80   \n",
       "2         0.2069  ...         23.57          25.53           152.50   \n",
       "3         0.2597  ...         14.91          26.50            98.87   \n",
       "4         0.1809  ...         22.54          16.67           152.20   \n",
       "\n",
       "   area_worst  smoothness_worst  compactness_worst  concavity_worst  \\\n",
       "0      2019.0            0.1622             0.6656           0.7119   \n",
       "1      1956.0            0.1238             0.1866           0.2416   \n",
       "2      1709.0            0.1444             0.4245           0.4504   \n",
       "3       567.7            0.2098             0.8663           0.6869   \n",
       "4      1575.0            0.1374             0.2050           0.4000   \n",
       "\n",
       "   concave points_worst  symmetry_worst  fractal_dimension_worst  \n",
       "0                0.2654          0.4601                  0.11890  \n",
       "1                0.1860          0.2750                  0.08902  \n",
       "2                0.2430          0.3613                  0.08758  \n",
       "3                0.2575          0.6638                  0.17300  \n",
       "4                0.1625          0.2364                  0.07678  \n",
       "\n",
       "[5 rows x 31 columns]"
      ]
     },
     "execution_count": 6,
     "metadata": {},
     "output_type": "execute_result"
    }
   ],
   "source": [
    "cancer = cancer.drop(columns = {\"Unnamed: 32\", \"id\"}) #Drop the null column\n",
    "cancer.head() #Take a peek and make sure it dropped"
   ]
  },
  {
   "cell_type": "markdown",
   "metadata": {
    "papermill": {
     "duration": 0.017242,
     "end_time": "2020-11-23T22:46:08.829505",
     "exception": false,
     "start_time": "2020-11-23T22:46:08.812263",
     "status": "completed"
    },
    "tags": []
   },
   "source": [
    "---"
   ]
  },
  {
   "cell_type": "markdown",
   "metadata": {
    "papermill": {
     "duration": 0.017051,
     "end_time": "2020-11-23T22:46:08.864024",
     "exception": false,
     "start_time": "2020-11-23T22:46:08.846973",
     "status": "completed"
    },
    "tags": []
   },
   "source": [
    "# Data Exploration"
   ]
  },
  {
   "cell_type": "code",
   "execution_count": 7,
   "metadata": {
    "execution": {
     "iopub.execute_input": "2020-11-23T22:46:08.909292Z",
     "iopub.status.busy": "2020-11-23T22:46:08.907134Z",
     "iopub.status.idle": "2020-11-23T22:46:08.960856Z",
     "shell.execute_reply": "2020-11-23T22:46:08.960273Z"
    },
    "papermill": {
     "duration": 0.079599,
     "end_time": "2020-11-23T22:46:08.961001",
     "exception": false,
     "start_time": "2020-11-23T22:46:08.881402",
     "status": "completed"
    },
    "tags": []
   },
   "outputs": [
    {
     "name": "stdout",
     "output_type": "stream",
     "text": [
      "The max and min malignant values for radius_mean are 28.11, 10.95\n",
      "The max and min beneign values for radius_mean are 17.85, 6.981\n",
      "The max and min malignant values for texture_mean are 39.28, 10.38\n",
      "The max and min beneign values for texture_mean are 33.81, 9.71\n",
      "The max and min malignant values for perimeter_mean are 188.5, 71.9\n",
      "The max and min beneign values for perimeter_mean are 114.6, 43.79\n",
      "The max and min malignant values for area_mean are 2501.0, 361.6\n",
      "The max and min beneign values for area_mean are 992.1, 143.5\n",
      "The max and min malignant values for smoothness_mean are 0.1447, 0.07371\n",
      "The max and min beneign values for smoothness_mean are 0.1634, 0.052629999999999996\n",
      "The max and min malignant values for compactness_mean are 0.3454, 0.04605\n",
      "The max and min beneign values for compactness_mean are 0.2239, 0.01938\n",
      "The max and min malignant values for concavity_mean are 0.4268, 0.02398\n",
      "The max and min beneign values for concavity_mean are 0.4108, 0.0\n",
      "The max and min malignant values for concave points_mean are 0.2012, 0.020309999999999998\n",
      "The max and min beneign values for concave points_mean are 0.08534, 0.0\n",
      "The max and min malignant values for symmetry_mean are 0.304, 0.1308\n",
      "The max and min beneign values for symmetry_mean are 0.2743, 0.106\n",
      "The max and min malignant values for fractal_dimension_mean are 0.09744, 0.049960000000000004\n",
      "The max and min beneign values for fractal_dimension_mean are 0.09575, 0.05185\n",
      "The max and min malignant values for radius_se are 2.873, 0.1938\n",
      "The max and min beneign values for radius_se are 0.8811, 0.1115\n",
      "The max and min malignant values for texture_se are 3.568, 0.3621\n",
      "The max and min beneign values for texture_se are 4.885, 0.3602\n",
      "The max and min malignant values for perimeter_se are 21.98, 1.334\n",
      "The max and min beneign values for perimeter_se are 5.118, 0.757\n",
      "The max and min malignant values for area_se are 542.2, 13.99\n",
      "The max and min beneign values for area_se are 77.11, 6.8020000000000005\n",
      "The max and min malignant values for smoothness_se are 0.03113, 0.002667\n",
      "The max and min beneign values for smoothness_se are 0.021769999999999998, 0.001713\n",
      "The max and min malignant values for compactness_se are 0.1354, 0.008422\n",
      "The max and min beneign values for compactness_se are 0.1064, 0.002252\n",
      "The max and min malignant values for concavity_se are 0.1438, 0.011009999999999999\n",
      "The max and min beneign values for concavity_se are 0.396, 0.0\n",
      "The max and min malignant values for concave points_se are 0.0409, 0.005174\n",
      "The max and min beneign values for concave points_se are 0.05279, 0.0\n",
      "The max and min malignant values for symmetry_se are 0.07895, 0.007882\n",
      "The max and min beneign values for symmetry_se are 0.06146, 0.009539\n",
      "The max and min malignant values for fractal_dimension_se are 0.01284, 0.0010869999999999999\n",
      "The max and min beneign values for fractal_dimension_se are 0.02984, 0.0008948000000000001\n",
      "The max and min malignant values for radius_worst are 36.04, 12.84\n",
      "The max and min beneign values for radius_worst are 19.82, 7.93\n",
      "The max and min malignant values for texture_worst are 49.54, 16.67\n",
      "The max and min beneign values for texture_worst are 41.78, 12.02\n",
      "The max and min malignant values for perimeter_worst are 251.2, 85.1\n",
      "The max and min beneign values for perimeter_worst are 127.1, 50.41\n",
      "The max and min malignant values for area_worst are 4254.0, 508.1\n",
      "The max and min beneign values for area_worst are 1210.0, 185.2\n",
      "The max and min malignant values for smoothness_worst are 0.2226, 0.08822\n",
      "The max and min beneign values for smoothness_worst are 0.2006, 0.07117000000000001\n",
      "The max and min malignant values for compactness_worst are 1.058, 0.05131\n",
      "The max and min beneign values for compactness_worst are 0.5849, 0.02729\n",
      "The max and min malignant values for concavity_worst are 1.17, 0.02398\n",
      "The max and min beneign values for concavity_worst are 1.252, 0.0\n",
      "The max and min malignant values for concave points_worst are 0.29100000000000004, 0.02899\n",
      "The max and min beneign values for concave points_worst are 0.175, 0.0\n",
      "The max and min malignant values for symmetry_worst are 0.6638, 0.1565\n",
      "The max and min beneign values for symmetry_worst are 0.4228, 0.1566\n",
      "The max and min malignant values for fractal_dimension_worst are 0.2075, 0.05504\n",
      "The max and min beneign values for fractal_dimension_worst are 0.1486, 0.05521\n"
     ]
    }
   ],
   "source": [
    "diagnosis = cancer[\"diagnosis\"].copy() #Put the diagnosis into its own variable\n",
    "characteristics = cancer.drop(columns = {\"diagnosis\"}).copy() #Put the characteristics in a separate dataframe\n",
    "\n",
    "#For each column, print the min and max values for Malignant and Beneign tumors\n",
    "for column in characteristics.columns:\n",
    "    mal = cancer.loc[cancer[\"diagnosis\"] == \"M\"][column] #Get the malignant values for the column\n",
    "    ben = cancer.loc[cancer[\"diagnosis\"] == \"B\"][column] #Get the beneign values for the column\n",
    "    \n",
    "    print(\"The max and min malignant values for {} are {}, {}\".format(column, mal.max(), mal.min())) #Print malignant values\n",
    "    print(\"The max and min beneign values for {} are {}, {}\".format(column, ben.max(), ben.min())) #Print beneign values"
   ]
  },
  {
   "cell_type": "markdown",
   "metadata": {
    "papermill": {
     "duration": 0.017921,
     "end_time": "2020-11-23T22:46:08.997287",
     "exception": false,
     "start_time": "2020-11-23T22:46:08.979366",
     "status": "completed"
    },
    "tags": []
   },
   "source": [
    "It seems a malignant tumor tends to have higher min and max values overall, though with overlap to beneign values. This fits most variables, but variables like concavity appear to completely overlap the malignant numbers with the beneign. I believe characteristics like that will have low importance to the classification, but I will have to see."
   ]
  },
  {
   "cell_type": "markdown",
   "metadata": {
    "papermill": {
     "duration": 0.017841,
     "end_time": "2020-11-23T22:46:09.033276",
     "exception": false,
     "start_time": "2020-11-23T22:46:09.015435",
     "status": "completed"
    },
    "tags": []
   },
   "source": [
    "---"
   ]
  },
  {
   "cell_type": "markdown",
   "metadata": {
    "papermill": {
     "duration": 0.017723,
     "end_time": "2020-11-23T22:46:09.069234",
     "exception": false,
     "start_time": "2020-11-23T22:46:09.051511",
     "status": "completed"
    },
    "tags": []
   },
   "source": [
    "# Build the Classifier (Full Data)"
   ]
  },
  {
   "cell_type": "markdown",
   "metadata": {
    "papermill": {
     "duration": 0.017495,
     "end_time": "2020-11-23T22:46:09.105145",
     "exception": false,
     "start_time": "2020-11-23T22:46:09.087650",
     "status": "completed"
    },
    "tags": []
   },
   "source": [
    "Here, I would like to see if a classifier has an easier/harder time when having all these worst/mean/deviation characteristics for the same variable versus just one or the other."
   ]
  },
  {
   "cell_type": "markdown",
   "metadata": {
    "papermill": {
     "duration": 0.017489,
     "end_time": "2020-11-23T22:46:09.140579",
     "exception": false,
     "start_time": "2020-11-23T22:46:09.123090",
     "status": "completed"
    },
    "tags": []
   },
   "source": [
    "## Train-Test Split"
   ]
  },
  {
   "cell_type": "code",
   "execution_count": 8,
   "metadata": {
    "execution": {
     "iopub.execute_input": "2020-11-23T22:46:09.182329Z",
     "iopub.status.busy": "2020-11-23T22:46:09.181680Z",
     "iopub.status.idle": "2020-11-23T22:46:09.188214Z",
     "shell.execute_reply": "2020-11-23T22:46:09.188731Z"
    },
    "papermill": {
     "duration": 0.030134,
     "end_time": "2020-11-23T22:46:09.188879",
     "exception": false,
     "start_time": "2020-11-23T22:46:09.158745",
     "status": "completed"
    },
    "tags": []
   },
   "outputs": [
    {
     "name": "stdout",
     "output_type": "stream",
     "text": [
      "     B  M\n",
      "0    0  1\n",
      "1    0  1\n",
      "2    0  1\n",
      "3    0  1\n",
      "4    0  1\n",
      "..  .. ..\n",
      "564  0  1\n",
      "565  0  1\n",
      "566  0  1\n",
      "567  0  1\n",
      "568  1  0\n",
      "\n",
      "[569 rows x 2 columns]\n"
     ]
    }
   ],
   "source": [
    "diagnosis = pd.get_dummies(diagnosis) #Get the encoding for the diagnosis variable\n",
    "print(diagnosis) #Take a peek at the diagnosis dummies"
   ]
  },
  {
   "cell_type": "code",
   "execution_count": 9,
   "metadata": {
    "execution": {
     "iopub.execute_input": "2020-11-23T22:46:09.235110Z",
     "iopub.status.busy": "2020-11-23T22:46:09.234326Z",
     "iopub.status.idle": "2020-11-23T22:46:09.238021Z",
     "shell.execute_reply": "2020-11-23T22:46:09.237488Z"
    },
    "papermill": {
     "duration": 0.030847,
     "end_time": "2020-11-23T22:46:09.238129",
     "exception": false,
     "start_time": "2020-11-23T22:46:09.207282",
     "status": "completed"
    },
    "tags": []
   },
   "outputs": [
    {
     "name": "stdout",
     "output_type": "stream",
     "text": [
      "     B  M\n",
      "420  1  0\n",
      "326  1  0\n",
      "428  1  0\n",
      "286  1  0\n",
      "425  1  0\n",
      "..  .. ..\n",
      "86   0  1\n",
      "369  0  1\n",
      "459  1  0\n",
      "156  0  1\n",
      "483  1  0\n",
      "\n",
      "[455 rows x 2 columns]\n"
     ]
    }
   ],
   "source": [
    "charaTrain, charaTest, diagTrain, diagTest = train_test_split(characteristics, diagnosis, test_size = 0.2) #Create train and test sets\n",
    "print(diagTrain) #Print one of the splits to have an idea about the structure"
   ]
  },
  {
   "cell_type": "markdown",
   "metadata": {
    "papermill": {
     "duration": 0.018838,
     "end_time": "2020-11-23T22:46:09.275817",
     "exception": false,
     "start_time": "2020-11-23T22:46:09.256979",
     "status": "completed"
    },
    "tags": []
   },
   "source": [
    "## Fit a Random Forest Classifier"
   ]
  },
  {
   "cell_type": "code",
   "execution_count": 10,
   "metadata": {
    "execution": {
     "iopub.execute_input": "2020-11-23T22:46:09.325643Z",
     "iopub.status.busy": "2020-11-23T22:46:09.324440Z",
     "iopub.status.idle": "2020-11-23T22:46:09.548355Z",
     "shell.execute_reply": "2020-11-23T22:46:09.548864Z"
    },
    "papermill": {
     "duration": 0.254344,
     "end_time": "2020-11-23T22:46:09.549038",
     "exception": false,
     "start_time": "2020-11-23T22:46:09.294694",
     "status": "completed"
    },
    "tags": []
   },
   "outputs": [
    {
     "data": {
      "text/plain": [
       "RandomForestClassifier()"
      ]
     },
     "execution_count": 10,
     "metadata": {},
     "output_type": "execute_result"
    }
   ],
   "source": [
    "forest = RandomForestClassifier(n_estimators = 100) #Build a forest\n",
    "forest.fit(charaTrain, diagTrain) #Fit the forest model"
   ]
  },
  {
   "cell_type": "code",
   "execution_count": 11,
   "metadata": {
    "execution": {
     "iopub.execute_input": "2020-11-23T22:46:09.596573Z",
     "iopub.status.busy": "2020-11-23T22:46:09.595239Z",
     "iopub.status.idle": "2020-11-23T22:46:09.610060Z",
     "shell.execute_reply": "2020-11-23T22:46:09.609486Z"
    },
    "papermill": {
     "duration": 0.041742,
     "end_time": "2020-11-23T22:46:09.610172",
     "exception": false,
     "start_time": "2020-11-23T22:46:09.568430",
     "status": "completed"
    },
    "tags": []
   },
   "outputs": [],
   "source": [
    "predict = forest.predict(charaTest) #Get a list of predictions"
   ]
  },
  {
   "cell_type": "code",
   "execution_count": 12,
   "metadata": {
    "execution": {
     "iopub.execute_input": "2020-11-23T22:46:09.659387Z",
     "iopub.status.busy": "2020-11-23T22:46:09.658167Z",
     "iopub.status.idle": "2020-11-23T22:46:09.704770Z",
     "shell.execute_reply": "2020-11-23T22:46:09.704132Z"
    },
    "papermill": {
     "duration": 0.075058,
     "end_time": "2020-11-23T22:46:09.704890",
     "exception": false,
     "start_time": "2020-11-23T22:46:09.629832",
     "status": "completed"
    },
    "tags": []
   },
   "outputs": [
    {
     "name": "stdout",
     "output_type": "stream",
     "text": [
      "Forest Accuracy:  0.9649122807017544\n",
      "Root Mean Square Error:  0.1873171623163388\n",
      "Classification Report:\n",
      "                precision    recall  f1-score   support\n",
      "\n",
      "           B       0.96      0.99      0.97        72\n",
      "           M       0.97      0.93      0.95        42\n",
      "\n",
      "   micro avg       0.96      0.96      0.96       114\n",
      "   macro avg       0.97      0.96      0.96       114\n",
      "weighted avg       0.97      0.96      0.96       114\n",
      " samples avg       0.96      0.96      0.96       114\n",
      "\n"
     ]
    }
   ],
   "source": [
    "overallAccuracy = (\"Overall\", forest.score(charaTest, diagTest)) #Get the overall accuracy\n",
    "print(\"Forest Accuracy: \", forest.score(charaTest, diagTest)) #Print the accuracy\n",
    "print(\"Root Mean Square Error: \", np.sqrt(mean_squared_error(diagTest, predict))) #Print the root mean square error\n",
    "print(\"Classification Report:\\n \", classification_report(diagTest, predict, target_names = [\"B\", \"M\"])) #Print a classification report"
   ]
  },
  {
   "cell_type": "code",
   "execution_count": 13,
   "metadata": {
    "execution": {
     "iopub.execute_input": "2020-11-23T22:46:09.760486Z",
     "iopub.status.busy": "2020-11-23T22:46:09.759511Z",
     "iopub.status.idle": "2020-11-23T22:46:09.765295Z",
     "shell.execute_reply": "2020-11-23T22:46:09.764682Z"
    },
    "papermill": {
     "duration": 0.040657,
     "end_time": "2020-11-23T22:46:09.765413",
     "exception": false,
     "start_time": "2020-11-23T22:46:09.724756",
     "status": "completed"
    },
    "tags": []
   },
   "outputs": [
    {
     "name": "stdout",
     "output_type": "stream",
     "text": [
      "According to the Random Forest, the most important factors for cancer status are: \n",
      "concave points_mean\n",
      "area_worst\n",
      "concave points_worst\n",
      "perimeter_worst\n",
      "radius_worst\n"
     ]
    }
   ],
   "source": [
    "attributes = characteristics.columns #Get the tested attributes\n",
    "attributes = list(zip(attributes, forest.feature_importances_)) #Zip the attributes together with their coefficient\n",
    "sortAtt = sorted(attributes, key = lambda x: x[1], reverse = True) #Sort the zipped attributes by their coefficients\n",
    "\n",
    "print(\"According to the Random Forest, the most important factors for cancer status are: \") #Start printing the most important labels\n",
    "i=0 #Counter variable so only the top five are printed\n",
    "\n",
    "#For each attribute in the sorted attributes\n",
    "for label, coef in sortAtt:\n",
    "    if i<5: #If there has not been five printed yet\n",
    "        print(label) #Print the label as an important factor\n",
    "    i += 1 #Increase i by 1"
   ]
  },
  {
   "cell_type": "markdown",
   "metadata": {
    "papermill": {
     "duration": 0.019986,
     "end_time": "2020-11-23T22:46:09.805775",
     "exception": false,
     "start_time": "2020-11-23T22:46:09.785789",
     "status": "completed"
    },
    "tags": []
   },
   "source": [
    "The forest of overall characteristics was able to attain a 97% accuracy on the test set. The worst characteristics appear to be what the forest dubbed most important, so it should be fair to assume the worsts, when alone, will do best in a new classifier."
   ]
  },
  {
   "cell_type": "markdown",
   "metadata": {
    "papermill": {
     "duration": 0.019839,
     "end_time": "2020-11-23T22:46:09.845708",
     "exception": false,
     "start_time": "2020-11-23T22:46:09.825869",
     "status": "completed"
    },
    "tags": []
   },
   "source": [
    "---"
   ]
  },
  {
   "cell_type": "markdown",
   "metadata": {
    "papermill": {
     "duration": 0.019657,
     "end_time": "2020-11-23T22:46:09.885490",
     "exception": false,
     "start_time": "2020-11-23T22:46:09.865833",
     "status": "completed"
    },
    "tags": []
   },
   "source": [
    "# Build a Forest for Each Worst/SE/Mean"
   ]
  },
  {
   "cell_type": "code",
   "execution_count": 14,
   "metadata": {
    "execution": {
     "iopub.execute_input": "2020-11-23T22:46:09.936519Z",
     "iopub.status.busy": "2020-11-23T22:46:09.935858Z",
     "iopub.status.idle": "2020-11-23T22:46:09.938836Z",
     "shell.execute_reply": "2020-11-23T22:46:09.939308Z"
    },
    "papermill": {
     "duration": 0.033954,
     "end_time": "2020-11-23T22:46:09.939437",
     "exception": false,
     "start_time": "2020-11-23T22:46:09.905483",
     "status": "completed"
    },
    "tags": []
   },
   "outputs": [],
   "source": [
    "#SplitData: splits this data based on whether it is the mean, se, or worst column for the dataset\n",
    "#Input: the list of characteristic columns\n",
    "#Output: A list that contains the lists of each column (se, mean, and worst)\n",
    "def splitData(charactColumns):\n",
    "    se = [] #A list holder for all SE columns\n",
    "    mean = [] #A list holder for all columns that end in mean\n",
    "    worst = [] #A list holder for all columns that end in worst\n",
    "    \n",
    "    #For each characteristics column, put it in the correct se, mean, or worst list\n",
    "    for column in charactColumns:\n",
    "        if column.find(\"se\") > -1: #If the column name contains se (I checked; the only SE sequence is the _se at the end)\n",
    "            se.append(column) #Add it to the SE list\n",
    "        elif column.find(\"mean\") > -1: #If the column contains mean\n",
    "            mean.append(column) #Add it to the mean list\n",
    "        else: #If the column contains neither, which means it contains worst\n",
    "            worst.append(column) #Add it to the worst list\n",
    "    \n",
    "    return [se, mean, worst] #Return a list with all the previous lists inside\n",
    "\n",
    "#RunForest: runs a forest for the specified characteristic type (colType), assuming the diagnosis is in its dummied form\n",
    "#Input: the diagnosis, the characteristics, the column/characteristic type\n",
    "#Output: None\n",
    "def runForest(diag, chara, colType):\n",
    "    charaTrain, charaTest, diagTrain, diagTest = train_test_split(chara, diag, test_size = 0.2) #Split the data into train and test\n",
    "    \n",
    "    forest = RandomForestClassifier(n_estimators = 100) #Build a forest for this data\n",
    "    forest.fit(charaTrain, diagTrain) #Fit the forest\n",
    "    \n",
    "    predict = forest.predict(charaTest) #Make predictions for the test set\n",
    "    \n",
    "    print(\"Forest Accuracy for {}: {}\".format(colType, forest.score(charaTest, diagTest))) #Print the accuracy\n",
    "    print(\"Root Mean Square Error for {}: {}\".format(colType, np.sqrt(mean_squared_error(diagTest, predict)))) #Print the root mean square error\n",
    "    print(\"Classification Report for {}:\\n {}\".format(colType, classification_report(diagTest, predict, target_names = [\"B\", \"M\"]))) #Print a classification report"
   ]
  },
  {
   "cell_type": "code",
   "execution_count": 15,
   "metadata": {
    "execution": {
     "iopub.execute_input": "2020-11-23T22:46:10.012592Z",
     "iopub.status.busy": "2020-11-23T22:46:09.991579Z",
     "iopub.status.idle": "2020-11-23T22:46:10.710015Z",
     "shell.execute_reply": "2020-11-23T22:46:10.709389Z"
    },
    "papermill": {
     "duration": 0.750581,
     "end_time": "2020-11-23T22:46:10.710127",
     "exception": false,
     "start_time": "2020-11-23T22:46:09.959546",
     "status": "completed"
    },
    "tags": []
   },
   "outputs": [
    {
     "name": "stdout",
     "output_type": "stream",
     "text": [
      "Forest Accuracy for se: 0.8070175438596491\n",
      "Root Mean Square Error for se: 0.4392976851069794\n",
      "Classification Report for se:\n",
      "               precision    recall  f1-score   support\n",
      "\n",
      "           B       0.77      0.94      0.85        65\n",
      "           M       0.89      0.63      0.74        49\n",
      "\n",
      "   micro avg       0.81      0.81      0.81       114\n",
      "   macro avg       0.83      0.79      0.79       114\n",
      "weighted avg       0.82      0.81      0.80       114\n",
      " samples avg       0.81      0.81      0.81       114\n",
      "\n",
      "Forest Accuracy for mean: 0.9649122807017544\n",
      "Root Mean Square Error for mean: 0.1873171623163388\n",
      "Classification Report for mean:\n",
      "               precision    recall  f1-score   support\n",
      "\n",
      "           B       0.99      0.96      0.97        70\n",
      "           M       0.93      0.98      0.96        44\n",
      "\n",
      "   micro avg       0.96      0.96      0.96       114\n",
      "   macro avg       0.96      0.97      0.96       114\n",
      "weighted avg       0.97      0.96      0.97       114\n",
      " samples avg       0.96      0.96      0.96       114\n",
      "\n",
      "Forest Accuracy for worst: 0.9385964912280702\n",
      "Root Mean Square Error for worst: 0.24779731389167603\n",
      "Classification Report for worst:\n",
      "               precision    recall  f1-score   support\n",
      "\n",
      "           B       0.93      0.99      0.96        76\n",
      "           M       0.97      0.84      0.90        38\n",
      "\n",
      "   micro avg       0.94      0.94      0.94       114\n",
      "   macro avg       0.95      0.91      0.93       114\n",
      "weighted avg       0.94      0.94      0.94       114\n",
      " samples avg       0.94      0.94      0.94       114\n",
      "\n"
     ]
    }
   ],
   "source": [
    "charact = characteristics.columns #Get the characteristics columns\n",
    "\n",
    "columnList = splitData(charact) #Split the data into se, mean, and worst\n",
    "colTypes = [\"se\", \"mean\", \"worst\"] #Set a list of types to the corresponding column types in order\n",
    "i = 0 #Set an i variable to get the correct colType \n",
    "\n",
    "#For each column type, run a forest with just that type\n",
    "for colList in columnList:\n",
    "    chara = cancer[colList] #Get the characteristics of just the columns of the specified type\n",
    "    runForest(diagnosis, chara, colTypes[i]) #Run a forest for this specific type\n",
    "    \n",
    "    i = i + 1 #Increase i so the column type remains consistent"
   ]
  },
  {
   "cell_type": "markdown",
   "metadata": {
    "papermill": {
     "duration": 0.021062,
     "end_time": "2020-11-23T22:46:10.752731",
     "exception": false,
     "start_time": "2020-11-23T22:46:10.731669",
     "status": "completed"
    },
    "tags": []
   },
   "source": [
    "100 estimators appears to be best for accuracy. The worst appears to be the best predictor with an accuracy and recall being 96+% (recall being most important in this case since we need to identify these correctly). Mean is also very close, being 95+% in accuracy and recall (plus or minus depending on the run). This is based on the data, which only has about 500 entries, so I bet these results would change with more data. Despite this, I would say either the worst values or the mean values would do fine if there is no access to the other types."
   ]
  }
 ],
 "metadata": {
  "kernelspec": {
   "display_name": "Python 3",
   "language": "python",
   "name": "python3"
  },
  "language_info": {
   "codemirror_mode": {
    "name": "ipython",
    "version": 3
   },
   "file_extension": ".py",
   "mimetype": "text/x-python",
   "name": "python",
   "nbconvert_exporter": "python",
   "pygments_lexer": "ipython3",
   "version": "3.7.6"
  },
  "papermill": {
   "duration": 8.503337,
   "end_time": "2020-11-23T22:46:10.882132",
   "environment_variables": {},
   "exception": null,
   "input_path": "__notebook__.ipynb",
   "output_path": "__notebook__.ipynb",
   "parameters": {},
   "start_time": "2020-11-23T22:46:02.378795",
   "version": "2.1.0"
  }
 },
 "nbformat": 4,
 "nbformat_minor": 4
}
