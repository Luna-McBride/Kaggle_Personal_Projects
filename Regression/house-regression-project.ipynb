{
 "cells": [
  {
   "cell_type": "markdown",
   "metadata": {
    "papermill": {
     "duration": 0.020698,
     "end_time": "2020-10-02T00:43:55.571162",
     "exception": false,
     "start_time": "2020-10-02T00:43:55.550464",
     "status": "completed"
    },
    "tags": []
   },
   "source": [
    "# King County House Price Regression Project"
   ]
  },
  {
   "cell_type": "markdown",
   "metadata": {
    "papermill": {
     "duration": 0.021997,
     "end_time": "2020-10-02T00:43:55.612914",
     "exception": false,
     "start_time": "2020-10-02T00:43:55.590917",
     "status": "completed"
    },
    "tags": []
   },
   "source": [
    "Coded by Luna McBride"
   ]
  },
  {
   "cell_type": "code",
   "execution_count": 1,
   "metadata": {
    "_cell_guid": "b1076dfc-b9ad-4769-8c92-a6c4dae69d19",
    "_uuid": "8f2839f25d086af736a60e9eeb907d3b93b6e0e5",
    "execution": {
     "iopub.execute_input": "2020-10-02T00:43:55.660518Z",
     "iopub.status.busy": "2020-10-02T00:43:55.659629Z",
     "iopub.status.idle": "2020-10-02T00:43:57.032936Z",
     "shell.execute_reply": "2020-10-02T00:43:57.032220Z"
    },
    "papermill": {
     "duration": 1.400534,
     "end_time": "2020-10-02T00:43:57.033119",
     "exception": false,
     "start_time": "2020-10-02T00:43:55.632585",
     "status": "completed"
    },
    "tags": []
   },
   "outputs": [
    {
     "name": "stdout",
     "output_type": "stream",
     "text": [
      "/kaggle/input/kc-housesales-data/kc_house_data.csv\n"
     ]
    }
   ],
   "source": [
    "# This Python 3 environment comes with many helpful analytics libraries installed\n",
    "# It is defined by the kaggle/python Docker image: https://github.com/kaggle/docker-python\n",
    "# For example, here's several helpful packages to load\n",
    "\n",
    "import numpy as np # linear algebra\n",
    "import pandas as pd # data processing, CSV file I/O (e.g. pd.read_csv)\n",
    "\n",
    "from sklearn.model_selection import train_test_split #Split the data into train and test\n",
    "from sklearn.linear_model import LinearRegression #Add in our linear regression\n",
    "from sklearn.preprocessing import StandardScaler #Test out scaling\n",
    "from sklearn.neural_network import MLPRegressor #Add a multilayer perceptron to test regression ability\n",
    "from sklearn import svm #Add a support vector machine to test regression ability\n",
    "from sklearn.tree import DecisionTreeRegressor #Add a single tree regressor to test regression ability\n",
    "from sklearn.ensemble import RandomForestRegressor #Add a forest regressor to test regression ability\n",
    "from sklearn.ensemble import ExtraTreesRegressor #Add even more trees to test regression ability\n",
    "\n",
    "# Input data files are available in the read-only \"../input/\" directory\n",
    "# For example, running this (by clicking run or pressing Shift+Enter) will list all files under the input directory\n",
    "\n",
    "import os\n",
    "for dirname, _, filenames in os.walk('/kaggle/input'):\n",
    "    for filename in filenames:\n",
    "        print(os.path.join(dirname, filename))\n",
    "\n",
    "# You can write up to 5GB to the current directory (/kaggle/working/) that gets preserved as output when you create a version using \"Save & Run All\" \n",
    "# You can also write temporary files to /kaggle/temp/, but they won't be saved outside of the current session"
   ]
  },
  {
   "cell_type": "code",
   "execution_count": 2,
   "metadata": {
    "_cell_guid": "79c7e3d0-c299-4dcb-8224-4455121ee9b0",
    "_uuid": "d629ff2d2480ee46fbb7e2d37f6b5fab8052498a",
    "execution": {
     "iopub.execute_input": "2020-10-02T00:43:57.082743Z",
     "iopub.status.busy": "2020-10-02T00:43:57.082017Z",
     "iopub.status.idle": "2020-10-02T00:43:57.183825Z",
     "shell.execute_reply": "2020-10-02T00:43:57.183242Z"
    },
    "papermill": {
     "duration": 0.129124,
     "end_time": "2020-10-02T00:43:57.183961",
     "exception": false,
     "start_time": "2020-10-02T00:43:57.054837",
     "status": "completed"
    },
    "tags": []
   },
   "outputs": [
    {
     "data": {
      "text/html": [
       "<div>\n",
       "<style scoped>\n",
       "    .dataframe tbody tr th:only-of-type {\n",
       "        vertical-align: middle;\n",
       "    }\n",
       "\n",
       "    .dataframe tbody tr th {\n",
       "        vertical-align: top;\n",
       "    }\n",
       "\n",
       "    .dataframe thead th {\n",
       "        text-align: right;\n",
       "    }\n",
       "</style>\n",
       "<table border=\"1\" class=\"dataframe\">\n",
       "  <thead>\n",
       "    <tr style=\"text-align: right;\">\n",
       "      <th></th>\n",
       "      <th>id</th>\n",
       "      <th>date</th>\n",
       "      <th>price</th>\n",
       "      <th>bedrooms</th>\n",
       "      <th>bathrooms</th>\n",
       "      <th>sqft_living</th>\n",
       "      <th>sqft_lot</th>\n",
       "      <th>floors</th>\n",
       "      <th>waterfront</th>\n",
       "      <th>view</th>\n",
       "      <th>...</th>\n",
       "      <th>grade</th>\n",
       "      <th>sqft_above</th>\n",
       "      <th>sqft_basement</th>\n",
       "      <th>yr_built</th>\n",
       "      <th>yr_renovated</th>\n",
       "      <th>zipcode</th>\n",
       "      <th>lat</th>\n",
       "      <th>long</th>\n",
       "      <th>sqft_living15</th>\n",
       "      <th>sqft_lot15</th>\n",
       "    </tr>\n",
       "  </thead>\n",
       "  <tbody>\n",
       "    <tr>\n",
       "      <th>0</th>\n",
       "      <td>7129300520</td>\n",
       "      <td>10/13/2014</td>\n",
       "      <td>221900.0</td>\n",
       "      <td>3</td>\n",
       "      <td>1.00</td>\n",
       "      <td>1180</td>\n",
       "      <td>5650</td>\n",
       "      <td>1.0</td>\n",
       "      <td>0</td>\n",
       "      <td>0</td>\n",
       "      <td>...</td>\n",
       "      <td>7</td>\n",
       "      <td>1180</td>\n",
       "      <td>0</td>\n",
       "      <td>1955</td>\n",
       "      <td>0</td>\n",
       "      <td>98178</td>\n",
       "      <td>47.5112</td>\n",
       "      <td>-122.257</td>\n",
       "      <td>1340</td>\n",
       "      <td>5650</td>\n",
       "    </tr>\n",
       "    <tr>\n",
       "      <th>1</th>\n",
       "      <td>6414100192</td>\n",
       "      <td>12/9/2014</td>\n",
       "      <td>538000.0</td>\n",
       "      <td>3</td>\n",
       "      <td>2.25</td>\n",
       "      <td>2570</td>\n",
       "      <td>7242</td>\n",
       "      <td>2.0</td>\n",
       "      <td>0</td>\n",
       "      <td>0</td>\n",
       "      <td>...</td>\n",
       "      <td>7</td>\n",
       "      <td>2170</td>\n",
       "      <td>400</td>\n",
       "      <td>1951</td>\n",
       "      <td>1991</td>\n",
       "      <td>98125</td>\n",
       "      <td>47.7210</td>\n",
       "      <td>-122.319</td>\n",
       "      <td>1690</td>\n",
       "      <td>7639</td>\n",
       "    </tr>\n",
       "    <tr>\n",
       "      <th>2</th>\n",
       "      <td>5631500400</td>\n",
       "      <td>2/25/2015</td>\n",
       "      <td>180000.0</td>\n",
       "      <td>2</td>\n",
       "      <td>1.00</td>\n",
       "      <td>770</td>\n",
       "      <td>10000</td>\n",
       "      <td>1.0</td>\n",
       "      <td>0</td>\n",
       "      <td>0</td>\n",
       "      <td>...</td>\n",
       "      <td>6</td>\n",
       "      <td>770</td>\n",
       "      <td>0</td>\n",
       "      <td>1933</td>\n",
       "      <td>0</td>\n",
       "      <td>98028</td>\n",
       "      <td>47.7379</td>\n",
       "      <td>-122.233</td>\n",
       "      <td>2720</td>\n",
       "      <td>8062</td>\n",
       "    </tr>\n",
       "    <tr>\n",
       "      <th>3</th>\n",
       "      <td>2487200875</td>\n",
       "      <td>12/9/2014</td>\n",
       "      <td>604000.0</td>\n",
       "      <td>4</td>\n",
       "      <td>3.00</td>\n",
       "      <td>1960</td>\n",
       "      <td>5000</td>\n",
       "      <td>1.0</td>\n",
       "      <td>0</td>\n",
       "      <td>0</td>\n",
       "      <td>...</td>\n",
       "      <td>7</td>\n",
       "      <td>1050</td>\n",
       "      <td>910</td>\n",
       "      <td>1965</td>\n",
       "      <td>0</td>\n",
       "      <td>98136</td>\n",
       "      <td>47.5208</td>\n",
       "      <td>-122.393</td>\n",
       "      <td>1360</td>\n",
       "      <td>5000</td>\n",
       "    </tr>\n",
       "    <tr>\n",
       "      <th>4</th>\n",
       "      <td>1954400510</td>\n",
       "      <td>2/18/2015</td>\n",
       "      <td>510000.0</td>\n",
       "      <td>3</td>\n",
       "      <td>2.00</td>\n",
       "      <td>1680</td>\n",
       "      <td>8080</td>\n",
       "      <td>1.0</td>\n",
       "      <td>0</td>\n",
       "      <td>0</td>\n",
       "      <td>...</td>\n",
       "      <td>8</td>\n",
       "      <td>1680</td>\n",
       "      <td>0</td>\n",
       "      <td>1987</td>\n",
       "      <td>0</td>\n",
       "      <td>98074</td>\n",
       "      <td>47.6168</td>\n",
       "      <td>-122.045</td>\n",
       "      <td>1800</td>\n",
       "      <td>7503</td>\n",
       "    </tr>\n",
       "  </tbody>\n",
       "</table>\n",
       "<p>5 rows × 21 columns</p>\n",
       "</div>"
      ],
      "text/plain": [
       "           id        date     price  bedrooms  bathrooms  sqft_living  \\\n",
       "0  7129300520  10/13/2014  221900.0         3       1.00         1180   \n",
       "1  6414100192   12/9/2014  538000.0         3       2.25         2570   \n",
       "2  5631500400   2/25/2015  180000.0         2       1.00          770   \n",
       "3  2487200875   12/9/2014  604000.0         4       3.00         1960   \n",
       "4  1954400510   2/18/2015  510000.0         3       2.00         1680   \n",
       "\n",
       "   sqft_lot  floors  waterfront  view  ...  grade  sqft_above  sqft_basement  \\\n",
       "0      5650     1.0           0     0  ...      7        1180              0   \n",
       "1      7242     2.0           0     0  ...      7        2170            400   \n",
       "2     10000     1.0           0     0  ...      6         770              0   \n",
       "3      5000     1.0           0     0  ...      7        1050            910   \n",
       "4      8080     1.0           0     0  ...      8        1680              0   \n",
       "\n",
       "   yr_built  yr_renovated  zipcode      lat     long  sqft_living15  \\\n",
       "0      1955             0    98178  47.5112 -122.257           1340   \n",
       "1      1951          1991    98125  47.7210 -122.319           1690   \n",
       "2      1933             0    98028  47.7379 -122.233           2720   \n",
       "3      1965             0    98136  47.5208 -122.393           1360   \n",
       "4      1987             0    98074  47.6168 -122.045           1800   \n",
       "\n",
       "   sqft_lot15  \n",
       "0        5650  \n",
       "1        7639  \n",
       "2        8062  \n",
       "3        5000  \n",
       "4        7503  \n",
       "\n",
       "[5 rows x 21 columns]"
      ]
     },
     "execution_count": 2,
     "metadata": {},
     "output_type": "execute_result"
    }
   ],
   "source": [
    "house = pd.read_csv(\"../input/kc-housesales-data/kc_house_data.csv\") #Read in the houses dataset\n",
    "house.head() #Take a peek at the dataset"
   ]
  },
  {
   "cell_type": "markdown",
   "metadata": {
    "papermill": {
     "duration": 0.020124,
     "end_time": "2020-10-02T00:43:57.224564",
     "exception": false,
     "start_time": "2020-10-02T00:43:57.204440",
     "status": "completed"
    },
    "tags": []
   },
   "source": [
    "---"
   ]
  },
  {
   "cell_type": "markdown",
   "metadata": {
    "papermill": {
     "duration": 0.019882,
     "end_time": "2020-10-02T00:43:57.265228",
     "exception": false,
     "start_time": "2020-10-02T00:43:57.245346",
     "status": "completed"
    },
    "tags": []
   },
   "source": [
    "# Check for nulls"
   ]
  },
  {
   "cell_type": "code",
   "execution_count": 3,
   "metadata": {
    "execution": {
     "iopub.execute_input": "2020-10-02T00:43:57.312504Z",
     "iopub.status.busy": "2020-10-02T00:43:57.311794Z",
     "iopub.status.idle": "2020-10-02T00:43:57.323343Z",
     "shell.execute_reply": "2020-10-02T00:43:57.322495Z"
    },
    "papermill": {
     "duration": 0.038017,
     "end_time": "2020-10-02T00:43:57.323523",
     "exception": false,
     "start_time": "2020-10-02T00:43:57.285506",
     "status": "completed"
    },
    "tags": []
   },
   "outputs": [
    {
     "name": "stdout",
     "output_type": "stream",
     "text": [
      "id               21597\n",
      "date             21597\n",
      "price            21597\n",
      "bedrooms         21597\n",
      "bathrooms        21597\n",
      "sqft_living      21597\n",
      "sqft_lot         21597\n",
      "floors           21597\n",
      "waterfront       21597\n",
      "view             21597\n",
      "condition        21597\n",
      "grade            21597\n",
      "sqft_above       21597\n",
      "sqft_basement    21597\n",
      "yr_built         21597\n",
      "yr_renovated     21597\n",
      "zipcode          21597\n",
      "lat              21597\n",
      "long             21597\n",
      "sqft_living15    21597\n",
      "sqft_lot15       21597\n",
      "dtype: int64\n",
      "id               False\n",
      "date             False\n",
      "price            False\n",
      "bedrooms         False\n",
      "bathrooms        False\n",
      "sqft_living      False\n",
      "sqft_lot         False\n",
      "floors           False\n",
      "waterfront       False\n",
      "view             False\n",
      "condition        False\n",
      "grade            False\n",
      "sqft_above       False\n",
      "sqft_basement    False\n",
      "yr_built         False\n",
      "yr_renovated     False\n",
      "zipcode          False\n",
      "lat              False\n",
      "long             False\n",
      "sqft_living15    False\n",
      "sqft_lot15       False\n",
      "dtype: bool\n"
     ]
    }
   ],
   "source": [
    "print(house.count())\n",
    "print(house.isnull().any())"
   ]
  },
  {
   "cell_type": "markdown",
   "metadata": {
    "papermill": {
     "duration": 0.020324,
     "end_time": "2020-10-02T00:43:57.367621",
     "exception": false,
     "start_time": "2020-10-02T00:43:57.347297",
     "status": "completed"
    },
    "tags": []
   },
   "source": [
    "There are no null values. It is time to fix it up some more."
   ]
  },
  {
   "cell_type": "markdown",
   "metadata": {
    "papermill": {
     "duration": 0.020212,
     "end_time": "2020-10-02T00:43:57.408371",
     "exception": false,
     "start_time": "2020-10-02T00:43:57.388159",
     "status": "completed"
    },
    "tags": []
   },
   "source": [
    "---"
   ]
  },
  {
   "cell_type": "markdown",
   "metadata": {
    "papermill": {
     "duration": 0.020679,
     "end_time": "2020-10-02T00:43:57.450366",
     "exception": false,
     "start_time": "2020-10-02T00:43:57.429687",
     "status": "completed"
    },
    "tags": []
   },
   "source": [
    "# Fix up some variables"
   ]
  },
  {
   "cell_type": "markdown",
   "metadata": {
    "papermill": {
     "duration": 0.020408,
     "end_time": "2020-10-02T00:43:57.491365",
     "exception": false,
     "start_time": "2020-10-02T00:43:57.470957",
     "status": "completed"
    },
    "tags": []
   },
   "source": [
    "## Change dates into an age"
   ]
  },
  {
   "cell_type": "code",
   "execution_count": 4,
   "metadata": {
    "execution": {
     "iopub.execute_input": "2020-10-02T00:43:57.579435Z",
     "iopub.status.busy": "2020-10-02T00:43:57.543035Z",
     "iopub.status.idle": "2020-10-02T00:43:58.966871Z",
     "shell.execute_reply": "2020-10-02T00:43:58.965946Z"
    },
    "papermill": {
     "duration": 1.455038,
     "end_time": "2020-10-02T00:43:58.967051",
     "exception": false,
     "start_time": "2020-10-02T00:43:57.512013",
     "status": "completed"
    },
    "tags": []
   },
   "outputs": [
    {
     "name": "stdout",
     "output_type": "stream",
     "text": [
      "12/9/2014  -  1951  =  63\n"
     ]
    }
   ],
   "source": [
    "house[\"age\"] = pd.DatetimeIndex(house['date']).year - house[\"yr_built\"] #Get the age of the building\n",
    "print(house['date'][1], \" - \", house[\"yr_built\"][1], \" = \", house[\"age\"][1]) #Print the equation as a sanity check"
   ]
  },
  {
   "cell_type": "markdown",
   "metadata": {
    "papermill": {
     "duration": 0.020658,
     "end_time": "2020-10-02T00:43:59.009711",
     "exception": false,
     "start_time": "2020-10-02T00:43:58.989053",
     "status": "completed"
    },
    "tags": []
   },
   "source": [
    "## Remove year renovated"
   ]
  },
  {
   "cell_type": "code",
   "execution_count": 5,
   "metadata": {
    "execution": {
     "iopub.execute_input": "2020-10-02T00:43:59.059623Z",
     "iopub.status.busy": "2020-10-02T00:43:59.058910Z",
     "iopub.status.idle": "2020-10-02T00:43:59.087494Z",
     "shell.execute_reply": "2020-10-02T00:43:59.087948Z"
    },
    "papermill": {
     "duration": 0.057339,
     "end_time": "2020-10-02T00:43:59.088128",
     "exception": false,
     "start_time": "2020-10-02T00:43:59.030789",
     "status": "completed"
    },
    "tags": []
   },
   "outputs": [
    {
     "data": {
      "text/html": [
       "<div>\n",
       "<style scoped>\n",
       "    .dataframe tbody tr th:only-of-type {\n",
       "        vertical-align: middle;\n",
       "    }\n",
       "\n",
       "    .dataframe tbody tr th {\n",
       "        vertical-align: top;\n",
       "    }\n",
       "\n",
       "    .dataframe thead th {\n",
       "        text-align: right;\n",
       "    }\n",
       "</style>\n",
       "<table border=\"1\" class=\"dataframe\">\n",
       "  <thead>\n",
       "    <tr style=\"text-align: right;\">\n",
       "      <th></th>\n",
       "      <th>id</th>\n",
       "      <th>date</th>\n",
       "      <th>price</th>\n",
       "      <th>bedrooms</th>\n",
       "      <th>bathrooms</th>\n",
       "      <th>sqft_living</th>\n",
       "      <th>sqft_lot</th>\n",
       "      <th>floors</th>\n",
       "      <th>waterfront</th>\n",
       "      <th>view</th>\n",
       "      <th>...</th>\n",
       "      <th>grade</th>\n",
       "      <th>sqft_above</th>\n",
       "      <th>sqft_basement</th>\n",
       "      <th>yr_built</th>\n",
       "      <th>zipcode</th>\n",
       "      <th>lat</th>\n",
       "      <th>long</th>\n",
       "      <th>sqft_living15</th>\n",
       "      <th>sqft_lot15</th>\n",
       "      <th>age</th>\n",
       "    </tr>\n",
       "  </thead>\n",
       "  <tbody>\n",
       "    <tr>\n",
       "      <th>0</th>\n",
       "      <td>7129300520</td>\n",
       "      <td>10/13/2014</td>\n",
       "      <td>221900.0</td>\n",
       "      <td>3</td>\n",
       "      <td>1.00</td>\n",
       "      <td>1180</td>\n",
       "      <td>5650</td>\n",
       "      <td>1.0</td>\n",
       "      <td>0</td>\n",
       "      <td>0</td>\n",
       "      <td>...</td>\n",
       "      <td>7</td>\n",
       "      <td>1180</td>\n",
       "      <td>0</td>\n",
       "      <td>1955</td>\n",
       "      <td>98178</td>\n",
       "      <td>47.5112</td>\n",
       "      <td>-122.257</td>\n",
       "      <td>1340</td>\n",
       "      <td>5650</td>\n",
       "      <td>59</td>\n",
       "    </tr>\n",
       "    <tr>\n",
       "      <th>1</th>\n",
       "      <td>6414100192</td>\n",
       "      <td>12/9/2014</td>\n",
       "      <td>538000.0</td>\n",
       "      <td>3</td>\n",
       "      <td>2.25</td>\n",
       "      <td>2570</td>\n",
       "      <td>7242</td>\n",
       "      <td>2.0</td>\n",
       "      <td>0</td>\n",
       "      <td>0</td>\n",
       "      <td>...</td>\n",
       "      <td>7</td>\n",
       "      <td>2170</td>\n",
       "      <td>400</td>\n",
       "      <td>1951</td>\n",
       "      <td>98125</td>\n",
       "      <td>47.7210</td>\n",
       "      <td>-122.319</td>\n",
       "      <td>1690</td>\n",
       "      <td>7639</td>\n",
       "      <td>63</td>\n",
       "    </tr>\n",
       "    <tr>\n",
       "      <th>2</th>\n",
       "      <td>5631500400</td>\n",
       "      <td>2/25/2015</td>\n",
       "      <td>180000.0</td>\n",
       "      <td>2</td>\n",
       "      <td>1.00</td>\n",
       "      <td>770</td>\n",
       "      <td>10000</td>\n",
       "      <td>1.0</td>\n",
       "      <td>0</td>\n",
       "      <td>0</td>\n",
       "      <td>...</td>\n",
       "      <td>6</td>\n",
       "      <td>770</td>\n",
       "      <td>0</td>\n",
       "      <td>1933</td>\n",
       "      <td>98028</td>\n",
       "      <td>47.7379</td>\n",
       "      <td>-122.233</td>\n",
       "      <td>2720</td>\n",
       "      <td>8062</td>\n",
       "      <td>82</td>\n",
       "    </tr>\n",
       "    <tr>\n",
       "      <th>3</th>\n",
       "      <td>2487200875</td>\n",
       "      <td>12/9/2014</td>\n",
       "      <td>604000.0</td>\n",
       "      <td>4</td>\n",
       "      <td>3.00</td>\n",
       "      <td>1960</td>\n",
       "      <td>5000</td>\n",
       "      <td>1.0</td>\n",
       "      <td>0</td>\n",
       "      <td>0</td>\n",
       "      <td>...</td>\n",
       "      <td>7</td>\n",
       "      <td>1050</td>\n",
       "      <td>910</td>\n",
       "      <td>1965</td>\n",
       "      <td>98136</td>\n",
       "      <td>47.5208</td>\n",
       "      <td>-122.393</td>\n",
       "      <td>1360</td>\n",
       "      <td>5000</td>\n",
       "      <td>49</td>\n",
       "    </tr>\n",
       "    <tr>\n",
       "      <th>4</th>\n",
       "      <td>1954400510</td>\n",
       "      <td>2/18/2015</td>\n",
       "      <td>510000.0</td>\n",
       "      <td>3</td>\n",
       "      <td>2.00</td>\n",
       "      <td>1680</td>\n",
       "      <td>8080</td>\n",
       "      <td>1.0</td>\n",
       "      <td>0</td>\n",
       "      <td>0</td>\n",
       "      <td>...</td>\n",
       "      <td>8</td>\n",
       "      <td>1680</td>\n",
       "      <td>0</td>\n",
       "      <td>1987</td>\n",
       "      <td>98074</td>\n",
       "      <td>47.6168</td>\n",
       "      <td>-122.045</td>\n",
       "      <td>1800</td>\n",
       "      <td>7503</td>\n",
       "      <td>28</td>\n",
       "    </tr>\n",
       "  </tbody>\n",
       "</table>\n",
       "<p>5 rows × 21 columns</p>\n",
       "</div>"
      ],
      "text/plain": [
       "           id        date     price  bedrooms  bathrooms  sqft_living  \\\n",
       "0  7129300520  10/13/2014  221900.0         3       1.00         1180   \n",
       "1  6414100192   12/9/2014  538000.0         3       2.25         2570   \n",
       "2  5631500400   2/25/2015  180000.0         2       1.00          770   \n",
       "3  2487200875   12/9/2014  604000.0         4       3.00         1960   \n",
       "4  1954400510   2/18/2015  510000.0         3       2.00         1680   \n",
       "\n",
       "   sqft_lot  floors  waterfront  view  ...  grade  sqft_above  sqft_basement  \\\n",
       "0      5650     1.0           0     0  ...      7        1180              0   \n",
       "1      7242     2.0           0     0  ...      7        2170            400   \n",
       "2     10000     1.0           0     0  ...      6         770              0   \n",
       "3      5000     1.0           0     0  ...      7        1050            910   \n",
       "4      8080     1.0           0     0  ...      8        1680              0   \n",
       "\n",
       "   yr_built  zipcode      lat     long  sqft_living15  sqft_lot15  age  \n",
       "0      1955    98178  47.5112 -122.257           1340        5650   59  \n",
       "1      1951    98125  47.7210 -122.319           1690        7639   63  \n",
       "2      1933    98028  47.7379 -122.233           2720        8062   82  \n",
       "3      1965    98136  47.5208 -122.393           1360        5000   49  \n",
       "4      1987    98074  47.6168 -122.045           1800        7503   28  \n",
       "\n",
       "[5 rows x 21 columns]"
      ]
     },
     "execution_count": 5,
     "metadata": {},
     "output_type": "execute_result"
    }
   ],
   "source": [
    "house.drop(columns = [\"yr_renovated\"], inplace = True) #Drop the year renovated field\n",
    "house.head() #Take a peek at the dataset"
   ]
  },
  {
   "cell_type": "markdown",
   "metadata": {
    "papermill": {
     "duration": 0.021762,
     "end_time": "2020-10-02T00:43:59.131610",
     "exception": false,
     "start_time": "2020-10-02T00:43:59.109848",
     "status": "completed"
    },
    "tags": []
   },
   "source": [
    "## Drop ID and Date, as they are not helpful here"
   ]
  },
  {
   "cell_type": "code",
   "execution_count": 6,
   "metadata": {
    "execution": {
     "iopub.execute_input": "2020-10-02T00:43:59.197805Z",
     "iopub.status.busy": "2020-10-02T00:43:59.190624Z",
     "iopub.status.idle": "2020-10-02T00:43:59.202336Z",
     "shell.execute_reply": "2020-10-02T00:43:59.201666Z"
    },
    "papermill": {
     "duration": 0.048332,
     "end_time": "2020-10-02T00:43:59.202463",
     "exception": false,
     "start_time": "2020-10-02T00:43:59.154131",
     "status": "completed"
    },
    "tags": []
   },
   "outputs": [
    {
     "data": {
      "text/html": [
       "<div>\n",
       "<style scoped>\n",
       "    .dataframe tbody tr th:only-of-type {\n",
       "        vertical-align: middle;\n",
       "    }\n",
       "\n",
       "    .dataframe tbody tr th {\n",
       "        vertical-align: top;\n",
       "    }\n",
       "\n",
       "    .dataframe thead th {\n",
       "        text-align: right;\n",
       "    }\n",
       "</style>\n",
       "<table border=\"1\" class=\"dataframe\">\n",
       "  <thead>\n",
       "    <tr style=\"text-align: right;\">\n",
       "      <th></th>\n",
       "      <th>price</th>\n",
       "      <th>bedrooms</th>\n",
       "      <th>bathrooms</th>\n",
       "      <th>sqft_living</th>\n",
       "      <th>sqft_lot</th>\n",
       "      <th>floors</th>\n",
       "      <th>waterfront</th>\n",
       "      <th>view</th>\n",
       "      <th>condition</th>\n",
       "      <th>grade</th>\n",
       "      <th>sqft_above</th>\n",
       "      <th>sqft_basement</th>\n",
       "      <th>yr_built</th>\n",
       "      <th>zipcode</th>\n",
       "      <th>lat</th>\n",
       "      <th>long</th>\n",
       "      <th>sqft_living15</th>\n",
       "      <th>sqft_lot15</th>\n",
       "      <th>age</th>\n",
       "    </tr>\n",
       "  </thead>\n",
       "  <tbody>\n",
       "    <tr>\n",
       "      <th>0</th>\n",
       "      <td>221900.0</td>\n",
       "      <td>3</td>\n",
       "      <td>1.00</td>\n",
       "      <td>1180</td>\n",
       "      <td>5650</td>\n",
       "      <td>1.0</td>\n",
       "      <td>0</td>\n",
       "      <td>0</td>\n",
       "      <td>3</td>\n",
       "      <td>7</td>\n",
       "      <td>1180</td>\n",
       "      <td>0</td>\n",
       "      <td>1955</td>\n",
       "      <td>98178</td>\n",
       "      <td>47.5112</td>\n",
       "      <td>-122.257</td>\n",
       "      <td>1340</td>\n",
       "      <td>5650</td>\n",
       "      <td>59</td>\n",
       "    </tr>\n",
       "    <tr>\n",
       "      <th>1</th>\n",
       "      <td>538000.0</td>\n",
       "      <td>3</td>\n",
       "      <td>2.25</td>\n",
       "      <td>2570</td>\n",
       "      <td>7242</td>\n",
       "      <td>2.0</td>\n",
       "      <td>0</td>\n",
       "      <td>0</td>\n",
       "      <td>3</td>\n",
       "      <td>7</td>\n",
       "      <td>2170</td>\n",
       "      <td>400</td>\n",
       "      <td>1951</td>\n",
       "      <td>98125</td>\n",
       "      <td>47.7210</td>\n",
       "      <td>-122.319</td>\n",
       "      <td>1690</td>\n",
       "      <td>7639</td>\n",
       "      <td>63</td>\n",
       "    </tr>\n",
       "    <tr>\n",
       "      <th>2</th>\n",
       "      <td>180000.0</td>\n",
       "      <td>2</td>\n",
       "      <td>1.00</td>\n",
       "      <td>770</td>\n",
       "      <td>10000</td>\n",
       "      <td>1.0</td>\n",
       "      <td>0</td>\n",
       "      <td>0</td>\n",
       "      <td>3</td>\n",
       "      <td>6</td>\n",
       "      <td>770</td>\n",
       "      <td>0</td>\n",
       "      <td>1933</td>\n",
       "      <td>98028</td>\n",
       "      <td>47.7379</td>\n",
       "      <td>-122.233</td>\n",
       "      <td>2720</td>\n",
       "      <td>8062</td>\n",
       "      <td>82</td>\n",
       "    </tr>\n",
       "    <tr>\n",
       "      <th>3</th>\n",
       "      <td>604000.0</td>\n",
       "      <td>4</td>\n",
       "      <td>3.00</td>\n",
       "      <td>1960</td>\n",
       "      <td>5000</td>\n",
       "      <td>1.0</td>\n",
       "      <td>0</td>\n",
       "      <td>0</td>\n",
       "      <td>5</td>\n",
       "      <td>7</td>\n",
       "      <td>1050</td>\n",
       "      <td>910</td>\n",
       "      <td>1965</td>\n",
       "      <td>98136</td>\n",
       "      <td>47.5208</td>\n",
       "      <td>-122.393</td>\n",
       "      <td>1360</td>\n",
       "      <td>5000</td>\n",
       "      <td>49</td>\n",
       "    </tr>\n",
       "    <tr>\n",
       "      <th>4</th>\n",
       "      <td>510000.0</td>\n",
       "      <td>3</td>\n",
       "      <td>2.00</td>\n",
       "      <td>1680</td>\n",
       "      <td>8080</td>\n",
       "      <td>1.0</td>\n",
       "      <td>0</td>\n",
       "      <td>0</td>\n",
       "      <td>3</td>\n",
       "      <td>8</td>\n",
       "      <td>1680</td>\n",
       "      <td>0</td>\n",
       "      <td>1987</td>\n",
       "      <td>98074</td>\n",
       "      <td>47.6168</td>\n",
       "      <td>-122.045</td>\n",
       "      <td>1800</td>\n",
       "      <td>7503</td>\n",
       "      <td>28</td>\n",
       "    </tr>\n",
       "  </tbody>\n",
       "</table>\n",
       "</div>"
      ],
      "text/plain": [
       "      price  bedrooms  bathrooms  sqft_living  sqft_lot  floors  waterfront  \\\n",
       "0  221900.0         3       1.00         1180      5650     1.0           0   \n",
       "1  538000.0         3       2.25         2570      7242     2.0           0   \n",
       "2  180000.0         2       1.00          770     10000     1.0           0   \n",
       "3  604000.0         4       3.00         1960      5000     1.0           0   \n",
       "4  510000.0         3       2.00         1680      8080     1.0           0   \n",
       "\n",
       "   view  condition  grade  sqft_above  sqft_basement  yr_built  zipcode  \\\n",
       "0     0          3      7        1180              0      1955    98178   \n",
       "1     0          3      7        2170            400      1951    98125   \n",
       "2     0          3      6         770              0      1933    98028   \n",
       "3     0          5      7        1050            910      1965    98136   \n",
       "4     0          3      8        1680              0      1987    98074   \n",
       "\n",
       "       lat     long  sqft_living15  sqft_lot15  age  \n",
       "0  47.5112 -122.257           1340        5650   59  \n",
       "1  47.7210 -122.319           1690        7639   63  \n",
       "2  47.7379 -122.233           2720        8062   82  \n",
       "3  47.5208 -122.393           1360        5000   49  \n",
       "4  47.6168 -122.045           1800        7503   28  "
      ]
     },
     "execution_count": 6,
     "metadata": {},
     "output_type": "execute_result"
    }
   ],
   "source": [
    "house.drop(columns = [\"id\", \"date\"], inplace = True) #Drop the ID and Date Fields\n",
    "house.head() #Take a peek at the dataset"
   ]
  },
  {
   "cell_type": "markdown",
   "metadata": {
    "papermill": {
     "duration": 0.022512,
     "end_time": "2020-10-02T00:43:59.247720",
     "exception": false,
     "start_time": "2020-10-02T00:43:59.225208",
     "status": "completed"
    },
    "tags": []
   },
   "source": [
    "## Drop the first living and lot columns"
   ]
  },
  {
   "cell_type": "markdown",
   "metadata": {
    "papermill": {
     "duration": 0.022376,
     "end_time": "2020-10-02T00:43:59.292897",
     "exception": false,
     "start_time": "2020-10-02T00:43:59.270521",
     "status": "completed"
    },
    "tags": []
   },
   "source": [
    "More updated versions exist in the sqft_living/lot 15 variables, and thus they are better representation of the current lot."
   ]
  },
  {
   "cell_type": "code",
   "execution_count": 7,
   "metadata": {
    "execution": {
     "iopub.execute_input": "2020-10-02T00:43:59.359182Z",
     "iopub.status.busy": "2020-10-02T00:43:59.358464Z",
     "iopub.status.idle": "2020-10-02T00:43:59.362668Z",
     "shell.execute_reply": "2020-10-02T00:43:59.363133Z"
    },
    "papermill": {
     "duration": 0.047605,
     "end_time": "2020-10-02T00:43:59.363283",
     "exception": false,
     "start_time": "2020-10-02T00:43:59.315678",
     "status": "completed"
    },
    "tags": []
   },
   "outputs": [
    {
     "data": {
      "text/html": [
       "<div>\n",
       "<style scoped>\n",
       "    .dataframe tbody tr th:only-of-type {\n",
       "        vertical-align: middle;\n",
       "    }\n",
       "\n",
       "    .dataframe tbody tr th {\n",
       "        vertical-align: top;\n",
       "    }\n",
       "\n",
       "    .dataframe thead th {\n",
       "        text-align: right;\n",
       "    }\n",
       "</style>\n",
       "<table border=\"1\" class=\"dataframe\">\n",
       "  <thead>\n",
       "    <tr style=\"text-align: right;\">\n",
       "      <th></th>\n",
       "      <th>price</th>\n",
       "      <th>bedrooms</th>\n",
       "      <th>bathrooms</th>\n",
       "      <th>floors</th>\n",
       "      <th>waterfront</th>\n",
       "      <th>view</th>\n",
       "      <th>condition</th>\n",
       "      <th>grade</th>\n",
       "      <th>sqft_above</th>\n",
       "      <th>sqft_basement</th>\n",
       "      <th>yr_built</th>\n",
       "      <th>zipcode</th>\n",
       "      <th>lat</th>\n",
       "      <th>long</th>\n",
       "      <th>sqft_living15</th>\n",
       "      <th>sqft_lot15</th>\n",
       "      <th>age</th>\n",
       "    </tr>\n",
       "  </thead>\n",
       "  <tbody>\n",
       "    <tr>\n",
       "      <th>0</th>\n",
       "      <td>221900.0</td>\n",
       "      <td>3</td>\n",
       "      <td>1.00</td>\n",
       "      <td>1.0</td>\n",
       "      <td>0</td>\n",
       "      <td>0</td>\n",
       "      <td>3</td>\n",
       "      <td>7</td>\n",
       "      <td>1180</td>\n",
       "      <td>0</td>\n",
       "      <td>1955</td>\n",
       "      <td>98178</td>\n",
       "      <td>47.5112</td>\n",
       "      <td>-122.257</td>\n",
       "      <td>1340</td>\n",
       "      <td>5650</td>\n",
       "      <td>59</td>\n",
       "    </tr>\n",
       "    <tr>\n",
       "      <th>1</th>\n",
       "      <td>538000.0</td>\n",
       "      <td>3</td>\n",
       "      <td>2.25</td>\n",
       "      <td>2.0</td>\n",
       "      <td>0</td>\n",
       "      <td>0</td>\n",
       "      <td>3</td>\n",
       "      <td>7</td>\n",
       "      <td>2170</td>\n",
       "      <td>400</td>\n",
       "      <td>1951</td>\n",
       "      <td>98125</td>\n",
       "      <td>47.7210</td>\n",
       "      <td>-122.319</td>\n",
       "      <td>1690</td>\n",
       "      <td>7639</td>\n",
       "      <td>63</td>\n",
       "    </tr>\n",
       "    <tr>\n",
       "      <th>2</th>\n",
       "      <td>180000.0</td>\n",
       "      <td>2</td>\n",
       "      <td>1.00</td>\n",
       "      <td>1.0</td>\n",
       "      <td>0</td>\n",
       "      <td>0</td>\n",
       "      <td>3</td>\n",
       "      <td>6</td>\n",
       "      <td>770</td>\n",
       "      <td>0</td>\n",
       "      <td>1933</td>\n",
       "      <td>98028</td>\n",
       "      <td>47.7379</td>\n",
       "      <td>-122.233</td>\n",
       "      <td>2720</td>\n",
       "      <td>8062</td>\n",
       "      <td>82</td>\n",
       "    </tr>\n",
       "    <tr>\n",
       "      <th>3</th>\n",
       "      <td>604000.0</td>\n",
       "      <td>4</td>\n",
       "      <td>3.00</td>\n",
       "      <td>1.0</td>\n",
       "      <td>0</td>\n",
       "      <td>0</td>\n",
       "      <td>5</td>\n",
       "      <td>7</td>\n",
       "      <td>1050</td>\n",
       "      <td>910</td>\n",
       "      <td>1965</td>\n",
       "      <td>98136</td>\n",
       "      <td>47.5208</td>\n",
       "      <td>-122.393</td>\n",
       "      <td>1360</td>\n",
       "      <td>5000</td>\n",
       "      <td>49</td>\n",
       "    </tr>\n",
       "    <tr>\n",
       "      <th>4</th>\n",
       "      <td>510000.0</td>\n",
       "      <td>3</td>\n",
       "      <td>2.00</td>\n",
       "      <td>1.0</td>\n",
       "      <td>0</td>\n",
       "      <td>0</td>\n",
       "      <td>3</td>\n",
       "      <td>8</td>\n",
       "      <td>1680</td>\n",
       "      <td>0</td>\n",
       "      <td>1987</td>\n",
       "      <td>98074</td>\n",
       "      <td>47.6168</td>\n",
       "      <td>-122.045</td>\n",
       "      <td>1800</td>\n",
       "      <td>7503</td>\n",
       "      <td>28</td>\n",
       "    </tr>\n",
       "  </tbody>\n",
       "</table>\n",
       "</div>"
      ],
      "text/plain": [
       "      price  bedrooms  bathrooms  floors  waterfront  view  condition  grade  \\\n",
       "0  221900.0         3       1.00     1.0           0     0          3      7   \n",
       "1  538000.0         3       2.25     2.0           0     0          3      7   \n",
       "2  180000.0         2       1.00     1.0           0     0          3      6   \n",
       "3  604000.0         4       3.00     1.0           0     0          5      7   \n",
       "4  510000.0         3       2.00     1.0           0     0          3      8   \n",
       "\n",
       "   sqft_above  sqft_basement  yr_built  zipcode      lat     long  \\\n",
       "0        1180              0      1955    98178  47.5112 -122.257   \n",
       "1        2170            400      1951    98125  47.7210 -122.319   \n",
       "2         770              0      1933    98028  47.7379 -122.233   \n",
       "3        1050            910      1965    98136  47.5208 -122.393   \n",
       "4        1680              0      1987    98074  47.6168 -122.045   \n",
       "\n",
       "   sqft_living15  sqft_lot15  age  \n",
       "0           1340        5650   59  \n",
       "1           1690        7639   63  \n",
       "2           2720        8062   82  \n",
       "3           1360        5000   49  \n",
       "4           1800        7503   28  "
      ]
     },
     "execution_count": 7,
     "metadata": {},
     "output_type": "execute_result"
    }
   ],
   "source": [
    "house.drop(columns = [\"sqft_living\", \"sqft_lot\"], inplace = True) #Drop the old sqft lot and living Fields\n",
    "house.head() #Take a peek at the dataset"
   ]
  },
  {
   "cell_type": "markdown",
   "metadata": {
    "papermill": {
     "duration": 0.022874,
     "end_time": "2020-10-02T00:43:59.409457",
     "exception": false,
     "start_time": "2020-10-02T00:43:59.386583",
     "status": "completed"
    },
    "tags": []
   },
   "source": [
    "---"
   ]
  },
  {
   "cell_type": "markdown",
   "metadata": {
    "papermill": {
     "duration": 0.027101,
     "end_time": "2020-10-02T00:43:59.459543",
     "exception": false,
     "start_time": "2020-10-02T00:43:59.432442",
     "status": "completed"
    },
    "tags": []
   },
   "source": [
    "# Split the data"
   ]
  },
  {
   "cell_type": "code",
   "execution_count": 8,
   "metadata": {
    "execution": {
     "iopub.execute_input": "2020-10-02T00:43:59.512975Z",
     "iopub.status.busy": "2020-10-02T00:43:59.512111Z",
     "iopub.status.idle": "2020-10-02T00:43:59.518652Z",
     "shell.execute_reply": "2020-10-02T00:43:59.518036Z"
    },
    "papermill": {
     "duration": 0.035639,
     "end_time": "2020-10-02T00:43:59.518763",
     "exception": false,
     "start_time": "2020-10-02T00:43:59.483124",
     "status": "completed"
    },
    "tags": []
   },
   "outputs": [
    {
     "name": "stdout",
     "output_type": "stream",
     "text": [
      "[12.30998211 13.19561384 12.10071213 ... 12.90445858 12.89921983\n",
      " 12.69158046]\n"
     ]
    }
   ],
   "source": [
    "price = np.array(house[\"price\"].copy().astype(int)) #Set price to be the prices of the houses\n",
    "price = np.log(price) #Log the price\n",
    "print(price) #Print the prices"
   ]
  },
  {
   "cell_type": "markdown",
   "metadata": {
    "papermill": {
     "duration": 0.023326,
     "end_time": "2020-10-02T00:43:59.566523",
     "exception": false,
     "start_time": "2020-10-02T00:43:59.543197",
     "status": "completed"
    },
    "tags": []
   },
   "source": [
    "I tried various scaling functions to try to get this to increase the the linear regression score, but I searched the internet for more options and, strangely, just taking the log worked a whole lot better."
   ]
  },
  {
   "cell_type": "code",
   "execution_count": 9,
   "metadata": {
    "execution": {
     "iopub.execute_input": "2020-10-02T00:43:59.637035Z",
     "iopub.status.busy": "2020-10-02T00:43:59.636340Z",
     "iopub.status.idle": "2020-10-02T00:43:59.659587Z",
     "shell.execute_reply": "2020-10-02T00:43:59.659042Z"
    },
    "papermill": {
     "duration": 0.069208,
     "end_time": "2020-10-02T00:43:59.659722",
     "exception": false,
     "start_time": "2020-10-02T00:43:59.590514",
     "status": "completed"
    },
    "tags": []
   },
   "outputs": [
    {
     "name": "stdout",
     "output_type": "stream",
     "text": [
      "[[-0.40290302 -1.45107268 -0.91555234 ... -0.94367562 -0.26062671\n",
      "   0.53364623]\n",
      " [-0.40290302  0.17448579  0.93743087 ... -0.43288674 -0.18769961\n",
      "   0.66980901]\n",
      " [-1.48249316 -1.45107268 -0.91555234 ...  1.07029196 -0.17219022\n",
      "   1.31658219]\n",
      " ...\n",
      " [-1.48249316 -1.77618438  0.93743087 ... -1.41068259 -0.39419807\n",
      "  -1.30455123]\n",
      " [-0.40290302  0.49959749  0.93743087 ... -0.84151784 -0.42059702\n",
      "  -1.10030707]\n",
      " [-1.48249316 -1.77618438  0.93743087 ... -1.41068259 -0.41803046\n",
      "  -1.27051054]]\n"
     ]
    }
   ],
   "source": [
    "characteristics = house.drop(\"price\", axis = 1) #Get every other feature of our dataframe except price\n",
    "chara = pd.get_dummies(characteristics) #Get the dummies for easier model training\n",
    "scale = StandardScaler() #Add a standard scaler to scale our data for easier use later\n",
    "scale.fit(chara) #Fit the scaler with our characteristics\n",
    "chara = scale.transform(chara) #Transform the data with our scaler\n",
    "\n",
    "print(chara) #Print the scaled data"
   ]
  },
  {
   "cell_type": "code",
   "execution_count": 10,
   "metadata": {
    "execution": {
     "iopub.execute_input": "2020-10-02T00:43:59.714927Z",
     "iopub.status.busy": "2020-10-02T00:43:59.714281Z",
     "iopub.status.idle": "2020-10-02T00:43:59.721160Z",
     "shell.execute_reply": "2020-10-02T00:43:59.721739Z"
    },
    "papermill": {
     "duration": 0.037503,
     "end_time": "2020-10-02T00:43:59.721916",
     "exception": false,
     "start_time": "2020-10-02T00:43:59.684413",
     "status": "completed"
    },
    "tags": []
   },
   "outputs": [
    {
     "name": "stdout",
     "output_type": "stream",
     "text": [
      "[12.95972679 13.79019275 13.21767356 ... 12.27839331 12.64416627\n",
      " 12.69158046]\n"
     ]
    }
   ],
   "source": [
    "charaTrain, charaTest, priceTrain, priceTest = train_test_split(chara, price, test_size = 0.3) #Split the data into train and test\n",
    "print(priceTest) #Print one of the price splits"
   ]
  },
  {
   "cell_type": "markdown",
   "metadata": {
    "papermill": {
     "duration": 0.024863,
     "end_time": "2020-10-02T00:43:59.771973",
     "exception": false,
     "start_time": "2020-10-02T00:43:59.747110",
     "status": "completed"
    },
    "tags": []
   },
   "source": [
    "---"
   ]
  },
  {
   "cell_type": "markdown",
   "metadata": {
    "papermill": {
     "duration": 0.025276,
     "end_time": "2020-10-02T00:43:59.822912",
     "exception": false,
     "start_time": "2020-10-02T00:43:59.797636",
     "status": "completed"
    },
    "tags": []
   },
   "source": [
    "# Train the linear regression"
   ]
  },
  {
   "cell_type": "code",
   "execution_count": 11,
   "metadata": {
    "execution": {
     "iopub.execute_input": "2020-10-02T00:43:59.879342Z",
     "iopub.status.busy": "2020-10-02T00:43:59.878259Z",
     "iopub.status.idle": "2020-10-02T00:43:59.980758Z",
     "shell.execute_reply": "2020-10-02T00:43:59.980190Z"
    },
    "papermill": {
     "duration": 0.132628,
     "end_time": "2020-10-02T00:43:59.980873",
     "exception": false,
     "start_time": "2020-10-02T00:43:59.848245",
     "status": "completed"
    },
    "tags": []
   },
   "outputs": [
    {
     "data": {
      "text/plain": [
       "LinearRegression()"
      ]
     },
     "execution_count": 11,
     "metadata": {},
     "output_type": "execute_result"
    }
   ],
   "source": [
    "regression = LinearRegression() #Open a linear regression model\n",
    "regression.fit(charaTrain, priceTrain) #Fit the regression model"
   ]
  },
  {
   "cell_type": "code",
   "execution_count": 12,
   "metadata": {
    "execution": {
     "iopub.execute_input": "2020-10-02T00:44:00.038945Z",
     "iopub.status.busy": "2020-10-02T00:44:00.038313Z",
     "iopub.status.idle": "2020-10-02T00:44:00.046222Z",
     "shell.execute_reply": "2020-10-02T00:44:00.046960Z"
    },
    "papermill": {
     "duration": 0.039924,
     "end_time": "2020-10-02T00:44:00.047179",
     "exception": false,
     "start_time": "2020-10-02T00:44:00.007255",
     "status": "completed"
    },
    "tags": []
   },
   "outputs": [
    {
     "name": "stdout",
     "output_type": "stream",
     "text": [
      "0.7719466842713141\n",
      "[-0.01355147  0.05345374  0.04186316  0.03086704  0.04740268  0.0384471\n",
      "  0.19200476  0.11626545  0.06840185  1.3963849  -0.03776133  0.19267019\n",
      " -0.01956959  0.06422037  0.00404033  1.50632099]\n"
     ]
    }
   ],
   "source": [
    "print(regression.score(charaTest, priceTest)) #Print the accuracy of the model\n",
    "print(regression.coef_) #Print the model coefficients"
   ]
  },
  {
   "cell_type": "markdown",
   "metadata": {
    "papermill": {
     "duration": 0.025777,
     "end_time": "2020-10-02T00:44:00.099376",
     "exception": false,
     "start_time": "2020-10-02T00:44:00.073599",
     "status": "completed"
    },
    "tags": []
   },
   "source": [
    "---"
   ]
  },
  {
   "cell_type": "markdown",
   "metadata": {
    "papermill": {
     "duration": 0.025936,
     "end_time": "2020-10-02T00:44:00.151277",
     "exception": false,
     "start_time": "2020-10-02T00:44:00.125341",
     "status": "completed"
    },
    "tags": []
   },
   "source": [
    "# Test other regressions"
   ]
  },
  {
   "cell_type": "code",
   "execution_count": 13,
   "metadata": {
    "execution": {
     "iopub.execute_input": "2020-10-02T00:44:00.210546Z",
     "iopub.status.busy": "2020-10-02T00:44:00.209707Z",
     "iopub.status.idle": "2020-10-02T00:44:19.834318Z",
     "shell.execute_reply": "2020-10-02T00:44:19.833729Z"
    },
    "papermill": {
     "duration": 19.657241,
     "end_time": "2020-10-02T00:44:19.834435",
     "exception": false,
     "start_time": "2020-10-02T00:44:00.177194",
     "status": "completed"
    },
    "tags": []
   },
   "outputs": [
    {
     "data": {
      "text/plain": [
       "MLPRegressor(hidden_layer_sizes=(3, 100), max_iter=500, random_state=1)"
      ]
     },
     "execution_count": 13,
     "metadata": {},
     "output_type": "execute_result"
    }
   ],
   "source": [
    "neural = MLPRegressor(hidden_layer_sizes = (3,100), random_state=1, max_iter=500) #Build a neural network to test regression\n",
    "neural.fit(charaTrain, priceTrain) #Fit the network with the train set"
   ]
  },
  {
   "cell_type": "code",
   "execution_count": 14,
   "metadata": {
    "execution": {
     "iopub.execute_input": "2020-10-02T00:44:19.891095Z",
     "iopub.status.busy": "2020-10-02T00:44:19.890310Z",
     "iopub.status.idle": "2020-10-02T00:44:32.369789Z",
     "shell.execute_reply": "2020-10-02T00:44:32.369149Z"
    },
    "papermill": {
     "duration": 12.509643,
     "end_time": "2020-10-02T00:44:32.369908",
     "exception": false,
     "start_time": "2020-10-02T00:44:19.860265",
     "status": "completed"
    },
    "tags": []
   },
   "outputs": [
    {
     "data": {
      "text/plain": [
       "SVR()"
      ]
     },
     "execution_count": 14,
     "metadata": {},
     "output_type": "execute_result"
    }
   ],
   "source": [
    "svr =  svm.SVR() #Get a support vector regressor to test ability\n",
    "svr.fit(charaTrain, priceTrain) #Fit the regresso"
   ]
  },
  {
   "cell_type": "code",
   "execution_count": 15,
   "metadata": {
    "execution": {
     "iopub.execute_input": "2020-10-02T00:44:32.428162Z",
     "iopub.status.busy": "2020-10-02T00:44:32.427447Z",
     "iopub.status.idle": "2020-10-02T00:44:32.619080Z",
     "shell.execute_reply": "2020-10-02T00:44:32.618436Z"
    },
    "papermill": {
     "duration": 0.222731,
     "end_time": "2020-10-02T00:44:32.619202",
     "exception": false,
     "start_time": "2020-10-02T00:44:32.396471",
     "status": "completed"
    },
    "tags": []
   },
   "outputs": [
    {
     "data": {
      "text/plain": [
       "DecisionTreeRegressor()"
      ]
     },
     "execution_count": 15,
     "metadata": {},
     "output_type": "execute_result"
    }
   ],
   "source": [
    "tree = DecisionTreeRegressor() #Build a tree\n",
    "tree.fit(charaTrain, priceTrain) #Fit the tree"
   ]
  },
  {
   "cell_type": "code",
   "execution_count": 16,
   "metadata": {
    "execution": {
     "iopub.execute_input": "2020-10-02T00:44:32.676372Z",
     "iopub.status.busy": "2020-10-02T00:44:32.675640Z",
     "iopub.status.idle": "2020-10-02T00:44:43.870119Z",
     "shell.execute_reply": "2020-10-02T00:44:43.869447Z"
    },
    "papermill": {
     "duration": 11.224785,
     "end_time": "2020-10-02T00:44:43.870242",
     "exception": false,
     "start_time": "2020-10-02T00:44:32.645457",
     "status": "completed"
    },
    "tags": []
   },
   "outputs": [
    {
     "data": {
      "text/plain": [
       "RandomForestRegressor()"
      ]
     },
     "execution_count": 16,
     "metadata": {},
     "output_type": "execute_result"
    }
   ],
   "source": [
    "forest = RandomForestRegressor() #Build a whole forest of trees\n",
    "forest.fit(charaTrain, priceTrain) #Fit the forest"
   ]
  },
  {
   "cell_type": "code",
   "execution_count": 17,
   "metadata": {
    "execution": {
     "iopub.execute_input": "2020-10-02T00:44:43.929047Z",
     "iopub.status.busy": "2020-10-02T00:44:43.928114Z",
     "iopub.status.idle": "2020-10-02T00:44:49.246084Z",
     "shell.execute_reply": "2020-10-02T00:44:49.245391Z"
    },
    "papermill": {
     "duration": 5.349428,
     "end_time": "2020-10-02T00:44:49.246211",
     "exception": false,
     "start_time": "2020-10-02T00:44:43.896783",
     "status": "completed"
    },
    "tags": []
   },
   "outputs": [
    {
     "data": {
      "text/plain": [
       "ExtraTreesRegressor()"
      ]
     },
     "execution_count": 17,
     "metadata": {},
     "output_type": "execute_result"
    }
   ],
   "source": [
    "forestBig = ExtraTreesRegressor() #Build a more random forest\n",
    "forestBig.fit(charaTrain, priceTrain) #Fit the more random forest"
   ]
  },
  {
   "cell_type": "markdown",
   "metadata": {
    "papermill": {
     "duration": 0.027064,
     "end_time": "2020-10-02T00:44:49.300622",
     "exception": false,
     "start_time": "2020-10-02T00:44:49.273558",
     "status": "completed"
    },
    "tags": []
   },
   "source": [
    "---"
   ]
  },
  {
   "cell_type": "markdown",
   "metadata": {
    "papermill": {
     "duration": 0.027752,
     "end_time": "2020-10-02T00:44:49.356775",
     "exception": false,
     "start_time": "2020-10-02T00:44:49.329023",
     "status": "completed"
    },
    "tags": []
   },
   "source": [
    "# Print Results"
   ]
  },
  {
   "cell_type": "code",
   "execution_count": 18,
   "metadata": {
    "execution": {
     "iopub.execute_input": "2020-10-02T00:44:49.419916Z",
     "iopub.status.busy": "2020-10-02T00:44:49.419154Z",
     "iopub.status.idle": "2020-10-02T00:44:51.817309Z",
     "shell.execute_reply": "2020-10-02T00:44:51.818088Z"
    },
    "papermill": {
     "duration": 2.432665,
     "end_time": "2020-10-02T00:44:51.818279",
     "exception": false,
     "start_time": "2020-10-02T00:44:49.385614",
     "status": "completed"
    },
    "tags": []
   },
   "outputs": [
    {
     "name": "stdout",
     "output_type": "stream",
     "text": [
      "Linear Regression Accuracy:  0.7719466842713141\n",
      "Neural Network Accuracy:  0.8670089600557246\n",
      "Support Vector Accuracy:  0.860460434339263\n",
      "Single Tree Accuracy:  0.7566770647783239\n",
      "Random Forest Accuracy:  0.8755956756044758\n",
      "Even more Random Forest Accuracy:  0.877362008666\n"
     ]
    }
   ],
   "source": [
    "#Print the accuracies of all the models\n",
    "print(\"Linear Regression Accuracy: \", regression.score(charaTest, priceTest))\n",
    "print(\"Neural Network Accuracy: \", neural.score(charaTest, priceTest))\n",
    "print(\"Support Vector Accuracy: \", svr.score(charaTest, priceTest))\n",
    "print(\"Single Tree Accuracy: \", tree.score(charaTest, priceTest))\n",
    "print(\"Random Forest Accuracy: \",forest.score(charaTest, priceTest))\n",
    "print(\"Even more Random Forest Accuracy: \", forestBig.score(charaTest, priceTest))"
   ]
  },
  {
   "cell_type": "markdown",
   "metadata": {
    "papermill": {
     "duration": 0.027688,
     "end_time": "2020-10-02T00:44:51.875301",
     "exception": false,
     "start_time": "2020-10-02T00:44:51.847613",
     "status": "completed"
    },
    "tags": []
   },
   "source": [
    "According to the scores, the strongest regressors for this data were the forest, reaching above 88% accuracy. These were followed close behind by the neural network and SVM regressions, which were both above 84% accuracy. Trailing far at the end were the Linear Regression and the single tree, surprisingly. There was a difference of about 7% accuracy between the Linear Regression and its next closest neighbor, the SVM (77 vs 84). This shows that while the linear regression is the typical go-to in settings like statistics, there are better options out there depending on the data."
   ]
  },
  {
   "cell_type": "code",
   "execution_count": 19,
   "metadata": {
    "execution": {
     "iopub.execute_input": "2020-10-02T00:44:51.938932Z",
     "iopub.status.busy": "2020-10-02T00:44:51.938279Z",
     "iopub.status.idle": "2020-10-02T00:44:51.942418Z",
     "shell.execute_reply": "2020-10-02T00:44:51.941460Z"
    },
    "papermill": {
     "duration": 0.039199,
     "end_time": "2020-10-02T00:44:51.942542",
     "exception": false,
     "start_time": "2020-10-02T00:44:51.903343",
     "status": "completed"
    },
    "tags": []
   },
   "outputs": [
    {
     "name": "stdout",
     "output_type": "stream",
     "text": [
      "According to the Linear Regression, the most important factors for pricing are: \n",
      "age\n",
      "yr_built\n",
      "lat\n",
      "grade\n",
      "sqft_above\n"
     ]
    }
   ],
   "source": [
    "attributes = characteristics.columns #Get the tested attributes\n",
    "attributes = list(zip(attributes, regression.coef_)) #Zip the attributes together with their coefficient\n",
    "sortAtt = sorted(attributes, key = lambda x: x[1], reverse = True) #Sort the zipped attributes by their coefficients\n",
    "\n",
    "print(\"According to the Linear Regression, the most important factors for pricing are: \") #Start printing the most important labels\n",
    "i=0 #Counter variable so only the top five are printed\n",
    "\n",
    "#For each attribute in the sorted attributes\n",
    "for label, coef in sortAtt:\n",
    "    if i<5: #If there has not been five printed yet\n",
    "        print(label) #Print the label as an important factor\n",
    "    i += 1 #Increase i by 1"
   ]
  },
  {
   "cell_type": "code",
   "execution_count": 20,
   "metadata": {
    "execution": {
     "iopub.execute_input": "2020-10-02T00:44:52.006817Z",
     "iopub.status.busy": "2020-10-02T00:44:52.006166Z",
     "iopub.status.idle": "2020-10-02T00:44:52.047647Z",
     "shell.execute_reply": "2020-10-02T00:44:52.046966Z"
    },
    "papermill": {
     "duration": 0.076586,
     "end_time": "2020-10-02T00:44:52.047761",
     "exception": false,
     "start_time": "2020-10-02T00:44:51.971175",
     "status": "completed"
    },
    "tags": []
   },
   "outputs": [
    {
     "name": "stdout",
     "output_type": "stream",
     "text": [
      "According to the Random Forest (most accurate), the most important factors for pricing are: \n",
      "grade\n",
      "lat\n",
      "sqft_above\n",
      "sqft_living15\n",
      "long\n"
     ]
    }
   ],
   "source": [
    "attributes = characteristics.columns #Get the tested attributes\n",
    "attributes = list(zip(attributes, forest.feature_importances_)) #Zip the attributes together with their coefficient\n",
    "sortAtt = sorted(attributes, key = lambda x: x[1], reverse = True) #Sort the zipped attributes by their coefficients\n",
    "\n",
    "print(\"According to the Random Forest (most accurate), the most important factors for pricing are: \") #Start printing the most important labels\n",
    "i=0 #Counter variable so only the top five are printed\n",
    "\n",
    "#For each attribute in the sorted attributes\n",
    "for label, coef in sortAtt:\n",
    "    if i<5: #If there has not been five printed yet\n",
    "        print(label) #Print the label as an important factor\n",
    "    i += 1 #Increase i by 1"
   ]
  },
  {
   "cell_type": "markdown",
   "metadata": {
    "papermill": {
     "duration": 0.028727,
     "end_time": "2020-10-02T00:44:52.105404",
     "exception": false,
     "start_time": "2020-10-02T00:44:52.076677",
     "status": "completed"
    },
    "tags": []
   },
   "source": [
    "In the listings of most important features contributing to the price, the Linear Regression and far more accurate Random Forest gave widely different results. Both models produced grade as one of the most important. Grade is how King County grades houses, so it makes sense houses in King County will rely on their grade to price houses. They both also have latitude and size (not counting the basement), but the utilization in the list is very different.\n",
    "\n",
    "The Forest ranked location (latitude and longitude) and above-ground sizing (the size of the house and the size not counting the basement) as the most important metrics. This makes sense, as different areas tend to have higher or lower prices and size does tend to be an important factor in considering a house.\n",
    "\n",
    "The Linear regression ranked the age a whole lot higher than anything else, which is a bit odd, considering it was not even on the Forest's list. There is also latitude and size above ground, which tells me the Linear regression was trying to come to a similar conclusion about space and location that the forest did, it just put higher emphasis on age. Price emphasis by age can make sense, but I feel like that only matters highly with the very old houses. This intuition is also shown in the forest model, as I had to change the iterator to 9 in order to even show age, thus it is ranking it as the 9th most important factor."
   ]
  }
 ],
 "metadata": {
  "kernelspec": {
   "display_name": "Python 3",
   "language": "python",
   "name": "python3"
  },
  "language_info": {
   "codemirror_mode": {
    "name": "ipython",
    "version": 3
   },
   "file_extension": ".py",
   "mimetype": "text/x-python",
   "name": "python",
   "nbconvert_exporter": "python",
   "pygments_lexer": "ipython3",
   "version": "3.7.6"
  },
  "papermill": {
   "duration": 61.46785,
   "end_time": "2020-10-02T00:44:52.242355",
   "environment_variables": {},
   "exception": null,
   "input_path": "__notebook__.ipynb",
   "output_path": "__notebook__.ipynb",
   "parameters": {},
   "start_time": "2020-10-02T00:43:50.774505",
   "version": "2.1.0"
  }
 },
 "nbformat": 4,
 "nbformat_minor": 4
}
