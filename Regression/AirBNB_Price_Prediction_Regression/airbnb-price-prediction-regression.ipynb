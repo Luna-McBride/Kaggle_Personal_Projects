{
 "cells": [
  {
   "cell_type": "markdown",
   "metadata": {
    "papermill": {
     "duration": 0.049418,
     "end_time": "2020-11-19T02:06:17.691485",
     "exception": false,
     "start_time": "2020-11-19T02:06:17.642067",
     "status": "completed"
    },
    "tags": []
   },
   "source": [
    "# Regression Project: AirBNB Price Prediction"
   ]
  },
  {
   "cell_type": "markdown",
   "metadata": {
    "papermill": {
     "duration": 0.047692,
     "end_time": "2020-11-19T02:06:17.787541",
     "exception": false,
     "start_time": "2020-11-19T02:06:17.739849",
     "status": "completed"
    },
    "tags": []
   },
   "source": [
    "Coded by Luna McBride"
   ]
  },
  {
   "cell_type": "code",
   "execution_count": 1,
   "metadata": {
    "_cell_guid": "b1076dfc-b9ad-4769-8c92-a6c4dae69d19",
    "_uuid": "8f2839f25d086af736a60e9eeb907d3b93b6e0e5",
    "execution": {
     "iopub.execute_input": "2020-11-19T02:06:17.900512Z",
     "iopub.status.busy": "2020-11-19T02:06:17.899740Z",
     "iopub.status.idle": "2020-11-19T02:06:19.259876Z",
     "shell.execute_reply": "2020-11-19T02:06:19.259265Z"
    },
    "papermill": {
     "duration": 1.423991,
     "end_time": "2020-11-19T02:06:19.260001",
     "exception": false,
     "start_time": "2020-11-19T02:06:17.836010",
     "status": "completed"
    },
    "tags": []
   },
   "outputs": [
    {
     "name": "stdout",
     "output_type": "stream",
     "text": [
      "/kaggle/input/us-airbnb-open-data/AB_US_2020.csv\n"
     ]
    }
   ],
   "source": [
    "# This Python 3 environment comes with many helpful analytics libraries installed\n",
    "# It is defined by the kaggle/python Docker image: https://github.com/kaggle/docker-python\n",
    "# For example, here's several helpful packages to load\n",
    "\n",
    "import numpy as np # linear algebra\n",
    "import pandas as pd # data processing, CSV file I/O (e.g. pd.read_csv)\n",
    "from mpl_toolkits.basemap import Basemap #Plot onto map\n",
    "import matplotlib.pyplot as plt #Plotting\n",
    "%matplotlib inline\n",
    "\n",
    "plt.rcParams['figure.figsize'] = (15,10) #Set the default figure size\n",
    "plt.style.use('ggplot') #Set the plotting method\n",
    "\n",
    "from sklearn.model_selection import train_test_split #Split the data into train and test\n",
    "from sklearn.ensemble import RandomForestRegressor #Forest for prediction and regression\n",
    "from sklearn.linear_model import LinearRegression #Regression for prediction\n",
    "from sklearn.preprocessing import StandardScaler #Scale the data\n",
    "from sklearn.metrics import mean_squared_error #Error testing\n",
    "\n",
    "# Input data files are available in the read-only \"../input/\" directory\n",
    "# For example, running this (by clicking run or pressing Shift+Enter) will list all files under the input directory\n",
    "\n",
    "import os\n",
    "for dirname, _, filenames in os.walk('/kaggle/input'):\n",
    "    for filename in filenames:\n",
    "        print(os.path.join(dirname, filename))\n",
    "\n",
    "# You can write up to 20GB to the current directory (/kaggle/working/) that gets preserved as output when you create a version using \"Save & Run All\" \n",
    "# You can also write temporary files to /kaggle/temp/, but they won't be saved outside of the current session"
   ]
  },
  {
   "cell_type": "code",
   "execution_count": 2,
   "metadata": {
    "_cell_guid": "79c7e3d0-c299-4dcb-8224-4455121ee9b0",
    "_uuid": "d629ff2d2480ee46fbb7e2d37f6b5fab8052498a",
    "execution": {
     "iopub.execute_input": "2020-11-19T02:06:19.365506Z",
     "iopub.status.busy": "2020-11-19T02:06:19.364702Z",
     "iopub.status.idle": "2020-11-19T02:06:21.088576Z",
     "shell.execute_reply": "2020-11-19T02:06:21.089435Z"
    },
    "papermill": {
     "duration": 1.780159,
     "end_time": "2020-11-19T02:06:21.089652",
     "exception": false,
     "start_time": "2020-11-19T02:06:19.309493",
     "status": "completed"
    },
    "tags": []
   },
   "outputs": [
    {
     "name": "stderr",
     "output_type": "stream",
     "text": [
      "/opt/conda/lib/python3.7/site-packages/IPython/core/interactiveshell.py:3063: DtypeWarning: Columns (4) have mixed types.Specify dtype option on import or set low_memory=False.\n",
      "  interactivity=interactivity, compiler=compiler, result=result)\n"
     ]
    },
    {
     "data": {
      "text/html": [
       "<div>\n",
       "<style scoped>\n",
       "    .dataframe tbody tr th:only-of-type {\n",
       "        vertical-align: middle;\n",
       "    }\n",
       "\n",
       "    .dataframe tbody tr th {\n",
       "        vertical-align: top;\n",
       "    }\n",
       "\n",
       "    .dataframe thead th {\n",
       "        text-align: right;\n",
       "    }\n",
       "</style>\n",
       "<table border=\"1\" class=\"dataframe\">\n",
       "  <thead>\n",
       "    <tr style=\"text-align: right;\">\n",
       "      <th></th>\n",
       "      <th>id</th>\n",
       "      <th>name</th>\n",
       "      <th>host_id</th>\n",
       "      <th>host_name</th>\n",
       "      <th>neighbourhood_group</th>\n",
       "      <th>neighbourhood</th>\n",
       "      <th>latitude</th>\n",
       "      <th>longitude</th>\n",
       "      <th>room_type</th>\n",
       "      <th>price</th>\n",
       "      <th>minimum_nights</th>\n",
       "      <th>number_of_reviews</th>\n",
       "      <th>last_review</th>\n",
       "      <th>reviews_per_month</th>\n",
       "      <th>calculated_host_listings_count</th>\n",
       "      <th>availability_365</th>\n",
       "      <th>city</th>\n",
       "    </tr>\n",
       "  </thead>\n",
       "  <tbody>\n",
       "    <tr>\n",
       "      <th>0</th>\n",
       "      <td>38585</td>\n",
       "      <td>Charming Victorian home - twin beds + breakfast</td>\n",
       "      <td>165529</td>\n",
       "      <td>Evelyne</td>\n",
       "      <td>NaN</td>\n",
       "      <td>28804</td>\n",
       "      <td>35.65146</td>\n",
       "      <td>-82.62792</td>\n",
       "      <td>Private room</td>\n",
       "      <td>60</td>\n",
       "      <td>1</td>\n",
       "      <td>138</td>\n",
       "      <td>16/02/20</td>\n",
       "      <td>1.14</td>\n",
       "      <td>1</td>\n",
       "      <td>0</td>\n",
       "      <td>Asheville</td>\n",
       "    </tr>\n",
       "    <tr>\n",
       "      <th>1</th>\n",
       "      <td>80905</td>\n",
       "      <td>French Chic Loft</td>\n",
       "      <td>427027</td>\n",
       "      <td>Celeste</td>\n",
       "      <td>NaN</td>\n",
       "      <td>28801</td>\n",
       "      <td>35.59779</td>\n",
       "      <td>-82.55540</td>\n",
       "      <td>Entire home/apt</td>\n",
       "      <td>470</td>\n",
       "      <td>1</td>\n",
       "      <td>114</td>\n",
       "      <td>07/09/20</td>\n",
       "      <td>1.03</td>\n",
       "      <td>11</td>\n",
       "      <td>288</td>\n",
       "      <td>Asheville</td>\n",
       "    </tr>\n",
       "    <tr>\n",
       "      <th>2</th>\n",
       "      <td>108061</td>\n",
       "      <td>Walk to stores/parks/downtown. Fenced yard/Pet...</td>\n",
       "      <td>320564</td>\n",
       "      <td>Lisa</td>\n",
       "      <td>NaN</td>\n",
       "      <td>28801</td>\n",
       "      <td>35.60670</td>\n",
       "      <td>-82.55563</td>\n",
       "      <td>Entire home/apt</td>\n",
       "      <td>75</td>\n",
       "      <td>30</td>\n",
       "      <td>89</td>\n",
       "      <td>30/11/19</td>\n",
       "      <td>0.81</td>\n",
       "      <td>2</td>\n",
       "      <td>298</td>\n",
       "      <td>Asheville</td>\n",
       "    </tr>\n",
       "    <tr>\n",
       "      <th>3</th>\n",
       "      <td>155305</td>\n",
       "      <td>Cottage! BonPaul + Sharky's Hostel</td>\n",
       "      <td>746673</td>\n",
       "      <td>BonPaul</td>\n",
       "      <td>NaN</td>\n",
       "      <td>28806</td>\n",
       "      <td>35.57864</td>\n",
       "      <td>-82.59578</td>\n",
       "      <td>Entire home/apt</td>\n",
       "      <td>90</td>\n",
       "      <td>1</td>\n",
       "      <td>267</td>\n",
       "      <td>22/09/20</td>\n",
       "      <td>2.39</td>\n",
       "      <td>5</td>\n",
       "      <td>0</td>\n",
       "      <td>Asheville</td>\n",
       "    </tr>\n",
       "    <tr>\n",
       "      <th>4</th>\n",
       "      <td>160594</td>\n",
       "      <td>Historic Grove Park</td>\n",
       "      <td>769252</td>\n",
       "      <td>Elizabeth</td>\n",
       "      <td>NaN</td>\n",
       "      <td>28801</td>\n",
       "      <td>35.61442</td>\n",
       "      <td>-82.54127</td>\n",
       "      <td>Private room</td>\n",
       "      <td>125</td>\n",
       "      <td>30</td>\n",
       "      <td>58</td>\n",
       "      <td>19/10/15</td>\n",
       "      <td>0.52</td>\n",
       "      <td>1</td>\n",
       "      <td>0</td>\n",
       "      <td>Asheville</td>\n",
       "    </tr>\n",
       "  </tbody>\n",
       "</table>\n",
       "</div>"
      ],
      "text/plain": [
       "       id                                               name  host_id  \\\n",
       "0   38585    Charming Victorian home - twin beds + breakfast   165529   \n",
       "1   80905                                   French Chic Loft   427027   \n",
       "2  108061  Walk to stores/parks/downtown. Fenced yard/Pet...   320564   \n",
       "3  155305                 Cottage! BonPaul + Sharky's Hostel   746673   \n",
       "4  160594                                Historic Grove Park   769252   \n",
       "\n",
       "   host_name neighbourhood_group neighbourhood  latitude  longitude  \\\n",
       "0    Evelyne                 NaN         28804  35.65146  -82.62792   \n",
       "1    Celeste                 NaN         28801  35.59779  -82.55540   \n",
       "2       Lisa                 NaN         28801  35.60670  -82.55563   \n",
       "3    BonPaul                 NaN         28806  35.57864  -82.59578   \n",
       "4  Elizabeth                 NaN         28801  35.61442  -82.54127   \n",
       "\n",
       "         room_type  price  minimum_nights  number_of_reviews last_review  \\\n",
       "0     Private room     60               1                138    16/02/20   \n",
       "1  Entire home/apt    470               1                114    07/09/20   \n",
       "2  Entire home/apt     75              30                 89    30/11/19   \n",
       "3  Entire home/apt     90               1                267    22/09/20   \n",
       "4     Private room    125              30                 58    19/10/15   \n",
       "\n",
       "   reviews_per_month  calculated_host_listings_count  availability_365  \\\n",
       "0               1.14                               1                 0   \n",
       "1               1.03                              11               288   \n",
       "2               0.81                               2               298   \n",
       "3               2.39                               5                 0   \n",
       "4               0.52                               1                 0   \n",
       "\n",
       "        city  \n",
       "0  Asheville  \n",
       "1  Asheville  \n",
       "2  Asheville  \n",
       "3  Asheville  \n",
       "4  Asheville  "
      ]
     },
     "execution_count": 2,
     "metadata": {},
     "output_type": "execute_result"
    }
   ],
   "source": [
    "bnb = pd.read_csv(\"../input/us-airbnb-open-data/AB_US_2020.csv\") #Read the airbnb csv\n",
    "bnb.head() #Take a peek at the dataset"
   ]
  },
  {
   "cell_type": "code",
   "execution_count": 3,
   "metadata": {
    "execution": {
     "iopub.execute_input": "2020-11-19T02:06:21.203433Z",
     "iopub.status.busy": "2020-11-19T02:06:21.202669Z",
     "iopub.status.idle": "2020-11-19T02:06:21.372835Z",
     "shell.execute_reply": "2020-11-19T02:06:21.372209Z"
    },
    "papermill": {
     "duration": 0.231783,
     "end_time": "2020-11-19T02:06:21.372965",
     "exception": false,
     "start_time": "2020-11-19T02:06:21.141182",
     "status": "completed"
    },
    "tags": []
   },
   "outputs": [],
   "source": [
    "bnb[\"price\"] = bnb[\"price\"].apply(lambda x: 1 if x < 1 else x) #Make 0's 1 so the log function works"
   ]
  },
  {
   "cell_type": "code",
   "execution_count": 4,
   "metadata": {
    "execution": {
     "iopub.execute_input": "2020-11-19T02:06:21.483427Z",
     "iopub.status.busy": "2020-11-19T02:06:21.482586Z",
     "iopub.status.idle": "2020-11-19T02:06:21.514654Z",
     "shell.execute_reply": "2020-11-19T02:06:21.513594Z"
    },
    "papermill": {
     "duration": 0.091085,
     "end_time": "2020-11-19T02:06:21.514828",
     "exception": false,
     "start_time": "2020-11-19T02:06:21.423743",
     "status": "completed"
    },
    "tags": []
   },
   "outputs": [
    {
     "name": "stdout",
     "output_type": "stream",
     "text": [
      "Max Price:  24999\n",
      "Min Price:  1\n",
      "Num Prices Below 20:  559\n",
      "Num Prices Above 1000:  4578\n",
      "Num Locations 226030\n"
     ]
    }
   ],
   "source": [
    "#Print some attributes about the prices\n",
    "print(\"Max Price: \", np.max(bnb[\"price\"]))\n",
    "print(\"Min Price: \", np.min(bnb[\"price\"]))\n",
    "print(\"Num Prices Below 20: \", len(bnb.loc[bnb[\"price\"] < 20]))\n",
    "print(\"Num Prices Above 1000: \", len(bnb.loc[bnb[\"price\"] > 1000]))\n",
    "print(\"Num Locations\", len(bnb))"
   ]
  },
  {
   "cell_type": "markdown",
   "metadata": {
    "papermill": {
     "duration": 0.05079,
     "end_time": "2020-11-19T02:06:21.617289",
     "exception": false,
     "start_time": "2020-11-19T02:06:21.566499",
     "status": "completed"
    },
    "tags": []
   },
   "source": [
    "---"
   ]
  },
  {
   "cell_type": "markdown",
   "metadata": {
    "papermill": {
     "duration": 0.051879,
     "end_time": "2020-11-19T02:06:21.720196",
     "exception": false,
     "start_time": "2020-11-19T02:06:21.668317",
     "status": "completed"
    },
    "tags": []
   },
   "source": [
    "# Check for Null Values"
   ]
  },
  {
   "cell_type": "code",
   "execution_count": 5,
   "metadata": {
    "execution": {
     "iopub.execute_input": "2020-11-19T02:06:21.828134Z",
     "iopub.status.busy": "2020-11-19T02:06:21.827384Z",
     "iopub.status.idle": "2020-11-19T02:06:21.995558Z",
     "shell.execute_reply": "2020-11-19T02:06:21.996363Z"
    },
    "papermill": {
     "duration": 0.225037,
     "end_time": "2020-11-19T02:06:21.996575",
     "exception": false,
     "start_time": "2020-11-19T02:06:21.771538",
     "status": "completed"
    },
    "tags": []
   },
   "outputs": [
    {
     "name": "stdout",
     "output_type": "stream",
     "text": [
      "id                                False\n",
      "name                               True\n",
      "host_id                           False\n",
      "host_name                          True\n",
      "neighbourhood_group                True\n",
      "neighbourhood                     False\n",
      "latitude                          False\n",
      "longitude                         False\n",
      "room_type                         False\n",
      "price                             False\n",
      "minimum_nights                    False\n",
      "number_of_reviews                 False\n",
      "last_review                        True\n",
      "reviews_per_month                  True\n",
      "calculated_host_listings_count    False\n",
      "availability_365                  False\n",
      "city                              False\n",
      "dtype: bool\n"
     ]
    }
   ],
   "source": [
    "print(bnb.isnull().any()) #Check for null values"
   ]
  },
  {
   "cell_type": "code",
   "execution_count": 6,
   "metadata": {
    "execution": {
     "iopub.execute_input": "2020-11-19T02:06:22.106310Z",
     "iopub.status.busy": "2020-11-19T02:06:22.105565Z",
     "iopub.status.idle": "2020-11-19T02:06:22.137754Z",
     "shell.execute_reply": "2020-11-19T02:06:22.138526Z"
    },
    "papermill": {
     "duration": 0.089672,
     "end_time": "2020-11-19T02:06:22.138741",
     "exception": false,
     "start_time": "2020-11-19T02:06:22.049069",
     "status": "completed"
    },
    "tags": []
   },
   "outputs": [
    {
     "name": "stdout",
     "output_type": "stream",
     "text": [
      "              id                                               name  \\\n",
      "187      6775949                Cozy Cottage short walk to Downtown   \n",
      "286     12182918        MONTHLY - Grove Park - Charming Guest House   \n",
      "416     15359380          5 Points Bungalow, Your Home in Asheville   \n",
      "629     20255923      Sunrise Perch - High on a mountain & close-in   \n",
      "720     21513021       2 Bedroom Condo blocks to Downtown Asheville   \n",
      "...          ...                                                ...   \n",
      "226025  45506143                          DC Hidden In Plain \"Site\"   \n",
      "226026  45511428  DC 3 BR w/ screen porch 3 blck to metro w/ par...   \n",
      "226027  45514685  Charming Penthouse Apt w/ Rooftop Terrace in L...   \n",
      "226028  45516412                Adams Morgan/Nat'l Zoo 1 BR Apt #32   \n",
      "226029  45517735    Beautiful large one-bedroom w/ washer and dryer   \n",
      "\n",
      "          host_id         host_name neighbourhood_group  \\\n",
      "187      35473023            Sherri                 NaN   \n",
      "286        183656               Kim                 NaN   \n",
      "416       3677108  Charles & Cheryl                 NaN   \n",
      "629     144357357           Sunrise                 NaN   \n",
      "720      21500666              Rory                 NaN   \n",
      "...           ...               ...                 ...   \n",
      "226025   25973146             Marci                 NaN   \n",
      "226026  231133074            Thomas                 NaN   \n",
      "226027   33758935            Bassem                 NaN   \n",
      "226028   23193071           Michael                 NaN   \n",
      "226029   17789858              Adam                 NaN   \n",
      "\n",
      "                                            neighbourhood   latitude  \\\n",
      "187                                                 28801  35.603350   \n",
      "286                                                 28804  35.611640   \n",
      "416                                                 28801  35.603880   \n",
      "629                                                 28806  35.585310   \n",
      "720                                                 28801  35.601790   \n",
      "...                                                   ...        ...   \n",
      "226025  Downtown, Chinatown, Penn Quarters, Mount Vern...  38.903880   \n",
      "226026                      Brookland, Brentwood, Langdon  38.920820   \n",
      "226027                                 Shaw, Logan Circle  38.911170   \n",
      "226028     Kalorama Heights, Adams Morgan, Lanier Heights  38.926630   \n",
      "226029  Edgewood, Bloomingdale, Truxton Circle, Eckington  38.911569   \n",
      "\n",
      "        longitude        room_type  price  minimum_nights  number_of_reviews  \\\n",
      "187    -82.551660  Entire home/apt     86              30                  0   \n",
      "286    -82.541670  Entire home/apt     72              30                  0   \n",
      "416    -82.557270  Entire home/apt    214              30                  0   \n",
      "629    -82.642690     Private room     39               1                  0   \n",
      "720    -82.555900  Entire home/apt    200              30                  0   \n",
      "...           ...              ...    ...             ...                ...   \n",
      "226025 -77.029730  Entire home/apt    104               1                  0   \n",
      "226026 -76.990980  Entire home/apt    151               2                  0   \n",
      "226027 -77.033540  Entire home/apt    240               2                  0   \n",
      "226028 -77.044360  Entire home/apt     60              21                  0   \n",
      "226029 -77.009431  Entire home/apt     79               7                  0   \n",
      "\n",
      "       last_review  reviews_per_month  calculated_host_listings_count  \\\n",
      "187            NaN                NaN                               2   \n",
      "286            NaN                NaN                               1   \n",
      "416            NaN                NaN                               3   \n",
      "629            NaN                NaN                               1   \n",
      "720            NaN                NaN                               1   \n",
      "...            ...                ...                             ...   \n",
      "226025         NaN                NaN                               2   \n",
      "226026         NaN                NaN                               1   \n",
      "226027         NaN                NaN                               1   \n",
      "226028         NaN                NaN                               5   \n",
      "226029         NaN                NaN                               2   \n",
      "\n",
      "        availability_365             city  \n",
      "187                  344        Asheville  \n",
      "286                  107        Asheville  \n",
      "416                  327        Asheville  \n",
      "629                   83        Asheville  \n",
      "720                  178        Asheville  \n",
      "...                  ...              ...  \n",
      "226025                99  Washington D.C.  \n",
      "226026               300  Washington D.C.  \n",
      "226027               173  Washington D.C.  \n",
      "226028               362  Washington D.C.  \n",
      "226029                62  Washington D.C.  \n",
      "\n",
      "[48602 rows x 17 columns]\n"
     ]
    }
   ],
   "source": [
    "print(bnb.loc[bnb[\"reviews_per_month\"].isnull()]) #See where reviews_per_month is null"
   ]
  },
  {
   "cell_type": "markdown",
   "metadata": {
    "papermill": {
     "duration": 0.052427,
     "end_time": "2020-11-19T02:06:22.244800",
     "exception": false,
     "start_time": "2020-11-19T02:06:22.192373",
     "status": "completed"
    },
    "tags": []
   },
   "source": [
    "Reviews_Per_Month and Last_Review appear to be null when there are no nulls. The best way to fill these would probably be to make Reviews_Per_Month 0 and a dummy date for last review (01-01-01). This data field will have to be fixed into yyyy-mm-dd anyway, so a non-date value will cause problems."
   ]
  },
  {
   "cell_type": "code",
   "execution_count": 7,
   "metadata": {
    "execution": {
     "iopub.execute_input": "2020-11-19T02:06:22.380260Z",
     "iopub.status.busy": "2020-11-19T02:06:22.379499Z",
     "iopub.status.idle": "2020-11-19T02:06:22.400502Z",
     "shell.execute_reply": "2020-11-19T02:06:22.399505Z"
    },
    "papermill": {
     "duration": 0.1033,
     "end_time": "2020-11-19T02:06:22.400670",
     "exception": false,
     "start_time": "2020-11-19T02:06:22.297370",
     "status": "completed"
    },
    "tags": []
   },
   "outputs": [
    {
     "name": "stdout",
     "output_type": "stream",
     "text": [
      "              id                                               name  \\\n",
      "3129     4356661                   1 BR 1 Bath DT Apt [W/D in unit]   \n",
      "3866     8214182                Private room  in all female housing   \n",
      "7619    27025549    Studio apt in prime central Austin free parking   \n",
      "17727   16879934  HUGE LAKE VIEW MASTER BDRM  (sleeps 2) near we...   \n",
      "17995   18406577                                         comfy home   \n",
      "18913   22560010                                         Comfy Home   \n",
      "76723    6900415                          Quiet, Cozy West LA House   \n",
      "78167   10034835                     Large private bedroom in Palms   \n",
      "83235   19410610                          Cozy Home Away From Home!   \n",
      "83948   20450454                               Venice Artista House   \n",
      "96175   38358017  Modern Beachfront Guest Suite Hidden Ocean Escape   \n",
      "100462  42697243   Private Master Room with Private Bath in West LA   \n",
      "105755  15820455                 1 BR Condo Downtown/Nissan Stadium   \n",
      "122099   4446862                 Charming Room in Prospect Heights!   \n",
      "122525   4763327                Luxurious, best location, spa inc'l   \n",
      "123890   6360224                    Sunny, Private room in Bushwick   \n",
      "124624   6992973                    1 Bedroom in Prime Williamsburg   \n",
      "125184   7556587                               Sunny Room in Harlem   \n",
      "125702   8007908          Rare Find: Stylish West Village Townhouse   \n",
      "127504   9716437                                Chill Gramercy Flat   \n",
      "132947  15494796  Private Guest Room in Charming West Village Du...   \n",
      "140468  22545850                    Bedroom for two in Clinton Hill   \n",
      "142377  25048250      Private Bedroom in large 2 bedroom 1100sf apt   \n",
      "150858  35284472                                       Cozy bedroom   \n",
      "158777  42404465     Beautiful Large Cozy Room (15min to Manhattan)   \n",
      "160760  43629529    Amazinglocation,comfy,tranquil, convenient&fun!   \n",
      "161516  44183144                                     NewYorkNovelty   \n",
      "167520  14535161  Right on Hawthorne - w 2 perfectly cozy King beds   \n",
      "175362   8046925                 Elegant 3b House 4mi to Super Bowl   \n",
      "184749  14116320                             Modern La Jolla Escape   \n",
      "184750  14116330                                    Villa Portofino   \n",
      "184751  14116332                                      Forever Views   \n",
      "207438  13660156                               Studio by Green Lake   \n",
      "\n",
      "          host_id host_name   neighbourhood_group       neighbourhood  \\\n",
      "3129     21791967       NaN                   NaN               78704   \n",
      "3866     21556779       NaN                   NaN               78741   \n",
      "7619      9390873       NaN                   NaN               78703   \n",
      "17727   104917254       NaN                   NaN             Miramar   \n",
      "17995   127527274       NaN                   NaN        Oakland Park   \n",
      "18913   127527274       NaN                   NaN    Lauderdale Lakes   \n",
      "76723    36159573       NaN   City of Los Angeles           Mar Vista   \n",
      "78167    23571738       NaN   City of Los Angeles               Palms   \n",
      "83235   136081205       NaN  Unincorporated Areas            Altadena   \n",
      "83948     4703979       NaN   City of Los Angeles              Venice   \n",
      "96175   291648183       NaN   City of Los Angeles   Pacific Palisades   \n",
      "100462   22087429       NaN   City of Los Angeles               Palms   \n",
      "105755  103457933       NaN                   NaN          District 5   \n",
      "122099   23077718       NaN              Brooklyn       Crown Heights   \n",
      "122525   24576978       NaN              Brooklyn          Greenpoint   \n",
      "123890   33134899       NaN              Brooklyn            Bushwick   \n",
      "124624    5162530       NaN              Brooklyn        Williamsburg   \n",
      "125184   39608626       NaN             Manhattan              Harlem   \n",
      "125702     390117       NaN             Manhattan        West Village   \n",
      "127504     956269       NaN             Manhattan            Gramercy   \n",
      "132947     390117       NaN             Manhattan        West Village   \n",
      "140468   43914397       NaN              Brooklyn  Bedford-Stuyvesant   \n",
      "142377    4426009       NaN              Brooklyn    Prospect Heights   \n",
      "150858  220159422       NaN                Queens           Ridgewood   \n",
      "158777  114351542       NaN              Brooklyn  Bedford-Stuyvesant   \n",
      "160760  348377879       NaN             Manhattan           Chinatown   \n",
      "161516  348377879       NaN             Manhattan        Little Italy   \n",
      "167520   49123414       NaN                   NaN           Sunnyside   \n",
      "175362   10050703       NaN                   NaN         Santa Clara   \n",
      "184749   66115585       NaN                   NaN            La Jolla   \n",
      "184750   66115585       NaN                   NaN            La Jolla   \n",
      "184751   66115585       NaN                   NaN            La Jolla   \n",
      "207438   43107348       NaN             Northgate  North College Park   \n",
      "\n",
      "        latitude  longitude        room_type  price  minimum_nights  \\\n",
      "3129    30.25560  -97.74707  Entire home/apt     75               1   \n",
      "3866    30.22755  -97.72671     Private room     27               1   \n",
      "7619    30.31010  -97.76262  Entire home/apt     45               2   \n",
      "17727   25.99069  -80.39371     Private room     45              30   \n",
      "17995   26.18251  -80.19091     Private room     50               1   \n",
      "18913   26.16050  -80.19325     Private room     50               7   \n",
      "76723   34.00105 -118.43665  Entire home/apt     99              30   \n",
      "78167   34.03038 -118.41465     Private room     41              30   \n",
      "83235   34.18404 -118.15525  Entire home/apt    400               2   \n",
      "83948   33.99968 -118.45424  Entire home/apt    165              30   \n",
      "96175   34.04226 -118.56309  Entire home/apt    200               1   \n",
      "100462  34.02940 -118.41466     Private room     65              30   \n",
      "105755  36.17467  -86.76446     Private room    110             180   \n",
      "122099  40.67512  -73.96146     Private room     50               1   \n",
      "122525  40.72035  -73.95355  Entire home/apt    195               1   \n",
      "123890  40.70146  -73.92792     Private room     37               1   \n",
      "124624  40.71838  -73.95630  Entire home/apt    145               1   \n",
      "125184  40.82929  -73.94182     Private room     28               1   \n",
      "125702  40.73221  -74.00928  Entire home/apt    375               7   \n",
      "127504  40.73725  -73.98439  Entire home/apt    150               3   \n",
      "132947  40.73142  -74.01000     Private room    100               1   \n",
      "140468  40.69207  -73.96021     Private room     50               5   \n",
      "142377  40.67757  -73.97017     Private room     70               1   \n",
      "150858  40.70161  -73.90484     Private room     43               2   \n",
      "158777  40.69340  -73.94435     Private room    130               3   \n",
      "160760  40.71865  -73.99642     Private room     50               1   \n",
      "161516  40.72008  -73.99614     Private room     80               1   \n",
      "167520  45.51231 -122.63345  Entire home/apt     99               2   \n",
      "175362  37.35438 -121.96770  Entire home/apt   2000               1   \n",
      "184749  32.83199 -117.25409  Entire home/apt   1647               1   \n",
      "184750  32.84558 -117.26090  Entire home/apt   3049               1   \n",
      "184751  32.82364 -117.24528  Entire home/apt   1708               1   \n",
      "207438  47.69429 -122.34254  Entire home/apt     65              30   \n",
      "\n",
      "        number_of_reviews last_review  reviews_per_month  \\\n",
      "3129                    1    13/08/15               0.02   \n",
      "3866                    4    24/09/15               0.07   \n",
      "7619                    9    14/08/20               0.41   \n",
      "17727                   0         NaN                NaN   \n",
      "17995                  49    07/03/20               1.66   \n",
      "18913                   7    29/02/20               0.25   \n",
      "76723                   0         NaN                NaN   \n",
      "78167                   2    19/12/15               0.03   \n",
      "83235                  33    11/11/19               0.86   \n",
      "83948                   3    16/03/19               0.09   \n",
      "96175                  14    23/08/20               1.14   \n",
      "100462                  0         NaN                NaN   \n",
      "105755                  4    02/01/17               0.09   \n",
      "122099                  0         NaN                NaN   \n",
      "122525                  1    20/10/15               0.02   \n",
      "123890                  1    01/07/15               0.02   \n",
      "124624                  0         NaN                NaN   \n",
      "125184                  1    01/08/15               0.02   \n",
      "125702                 23    25/05/20               0.41   \n",
      "127504                 25    28/09/19               0.43   \n",
      "132947                  8    28/04/19               0.17   \n",
      "140468                  3    25/11/18               0.13   \n",
      "142377                 62    29/02/20               2.20   \n",
      "150858                  3    08/06/19               0.20   \n",
      "158777                  0         NaN                NaN   \n",
      "160760                  3    16/08/20               1.50   \n",
      "161516                  0         NaN                NaN   \n",
      "167520                103    02/03/20               2.62   \n",
      "175362                  1    30/08/15               0.02   \n",
      "184749                  0         NaN                NaN   \n",
      "184750                  0         NaN                NaN   \n",
      "184751                  0         NaN                NaN   \n",
      "207438                  6    21/05/17               0.14   \n",
      "\n",
      "        calculated_host_listings_count  availability_365               city  \n",
      "3129                                 1                 0             Austin  \n",
      "3866                                 1                 0             Austin  \n",
      "7619                                 1               349             Austin  \n",
      "17727                                1               180     Broward County  \n",
      "17995                                2               364     Broward County  \n",
      "18913                                2               365     Broward County  \n",
      "76723                                1                 0        Los Angeles  \n",
      "78167                                1                 0        Los Angeles  \n",
      "83235                                1                 0        Los Angeles  \n",
      "83948                                1                 0        Los Angeles  \n",
      "96175                                1               268        Los Angeles  \n",
      "100462                               1                 0        Los Angeles  \n",
      "105755                               1                90          Nashville  \n",
      "122099                               1                 0      New York City  \n",
      "122525                               1                 0      New York City  \n",
      "123890                               1                 0      New York City  \n",
      "124624                               1                 0      New York City  \n",
      "125184                               1                 0      New York City  \n",
      "125702                               2                 0      New York City  \n",
      "127504                               1                83      New York City  \n",
      "132947                               2                 0      New York City  \n",
      "140468                               1                 0      New York City  \n",
      "142377                               1               180      New York City  \n",
      "150858                               1                 0      New York City  \n",
      "158777                               1               179      New York City  \n",
      "160760                               2               343      New York City  \n",
      "161516                               2               365      New York City  \n",
      "167520                               1                 0           Portland  \n",
      "175362                               1               365  San Clara Country  \n",
      "184749                               3                 0          San Diego  \n",
      "184750                               3                 0          San Diego  \n",
      "184751                               3                66          San Diego  \n",
      "207438                               1                 0            Seattle  \n"
     ]
    }
   ],
   "source": [
    "print(bnb.loc[bnb[\"host_name\"].isnull()]) #See where host_name is null"
   ]
  },
  {
   "cell_type": "code",
   "execution_count": 8,
   "metadata": {
    "execution": {
     "iopub.execute_input": "2020-11-19T02:06:22.538778Z",
     "iopub.status.busy": "2020-11-19T02:06:22.537981Z",
     "iopub.status.idle": "2020-11-19T02:06:22.555633Z",
     "shell.execute_reply": "2020-11-19T02:06:22.556408Z"
    },
    "papermill": {
     "duration": 0.101908,
     "end_time": "2020-11-19T02:06:22.556569",
     "exception": false,
     "start_time": "2020-11-19T02:06:22.454661",
     "status": "completed"
    },
    "tags": []
   },
   "outputs": [
    {
     "name": "stdout",
     "output_type": "stream",
     "text": [
      "              id name    host_id  host_name neighbourhood_group  \\\n",
      "23691   39717529  NaN  305261435      Patti                 NaN   \n",
      "81872   17108083  NaN  114871749     Karina        Other Cities   \n",
      "93004   33877948  NaN  141228320    Marquis        Other Cities   \n",
      "119475   1615764  NaN    6676776      Peter           Manhattan   \n",
      "120149   2232600  NaN   11395220       Anna           Manhattan   \n",
      "121853   4209595  NaN   20700823      Jesse           Manhattan   \n",
      "122016   4370230  NaN   22686810   Micha√´l           Manhattan   \n",
      "122265   4581788  NaN   21600904      Lucie            Brooklyn   \n",
      "122513   4756856  NaN    1832442   Carolina            Brooklyn   \n",
      "122544   4774658  NaN   24625694       Josh           Manhattan   \n",
      "124383   6782407  NaN   31147528   Huei-Yin            Brooklyn   \n",
      "126967   9325951  NaN   33377685   Jonathan           Manhattan   \n",
      "127629   9787590  NaN   50448556     Miguel           Manhattan   \n",
      "127822   9885866  NaN   37306329   Juliette           Manhattan   \n",
      "128109  10052289  NaN   49522403    Vanessa            Brooklyn   \n",
      "130089  12797684  NaN   69715276        Yan           Manhattan   \n",
      "130300  12988898  NaN   71552588     Andrea               Bronx   \n",
      "131918  14135050  NaN   85288337       Jeff            Brooklyn   \n",
      "140087  22275821  NaN   49662398   Kathleen            Brooklyn   \n",
      "154760  39365336  NaN  205040377     Ashley               Bronx   \n",
      "159719  43035347  NaN  163489663    Noelene           Manhattan   \n",
      "174915   2687540  NaN   13697842   Kathleen                 NaN   \n",
      "212479   6349535  NaN   33078623       Joan                 NaN   \n",
      "212849  12555371  NaN   68052565      Yijun                 NaN   \n",
      "215044  22544371  NaN  165614829      Laura                 NaN   \n",
      "215395  22731497  NaN  167762113   Shirlynn                 NaN   \n",
      "215644  22817408  NaN  112471022   Theodore                 NaN   \n",
      "220603  16269511  NaN   43680404  Christina                 NaN   \n",
      "\n",
      "                                         neighbourhood  latitude  longitude  \\\n",
      "23691                                    Pompano Beach  26.28332  -80.10731   \n",
      "81872                                         Pasadena  34.17216 -118.11699   \n",
      "93004                                    Santa Clarita  34.41328 -118.44301   \n",
      "119475                               Battery Park City  40.71239  -74.01620   \n",
      "120149                                    East Village  40.73215  -73.98821   \n",
      "121853                               Greenwich Village  40.73473  -73.99244   \n",
      "122016                                          Nolita  40.72046  -73.99550   \n",
      "122265                                    Williamsburg  40.71370  -73.94378   \n",
      "122513                                        Bushwick  40.70046  -73.92825   \n",
      "122544                              Washington Heights  40.85198  -73.93108   \n",
      "124383                                    Williamsburg  40.71354  -73.93882   \n",
      "126967                                  Hell's Kitchen  40.76436  -73.98573   \n",
      "127629                                          Harlem  40.80316  -73.95189   \n",
      "127822                                       Chinatown  40.71632  -73.99328   \n",
      "128109                                     Brownsville  40.66409  -73.92314   \n",
      "130089                                 Upper West Side  40.79843  -73.96404   \n",
      "130300                                         Fordham  40.86032  -73.88493   \n",
      "131918                              Bedford-Stuyvesant  40.69421  -73.93234   \n",
      "140087                                        Bushwick  40.69546  -73.92741   \n",
      "154760                                        Longwood  40.82550  -73.89227   \n",
      "159719                                  Hell's Kitchen  40.76161  -73.99926   \n",
      "174915                                        San Jose  37.40729 -121.84768   \n",
      "212479                                          Carver  44.83381  -93.57595   \n",
      "212849                                        Hennepin  44.96899  -93.22269   \n",
      "215044                                        Hennepin  45.01204  -93.23894   \n",
      "215395                                        Hennepin  45.12987  -93.46480   \n",
      "215644                                        Hennepin  44.92686  -93.20796   \n",
      "220603  Howard University, Le Droit Park, Cardozo/Shaw  38.91501  -77.02287   \n",
      "\n",
      "              room_type  price  minimum_nights  number_of_reviews last_review  \\\n",
      "23691   Entire home/apt     79               2                 16    17/03/20   \n",
      "81872      Private room    125               2                  0         NaN   \n",
      "93004      Private room     40               1                 10    05/03/20   \n",
      "119475  Entire home/apt    400            1000                  0         NaN   \n",
      "120149  Entire home/apt    200               1                 28    08/06/15   \n",
      "121853  Entire home/apt    225               1                  1    01/01/15   \n",
      "122016  Entire home/apt    215               7                  5    02/01/16   \n",
      "122265     Private room    150               1                  0         NaN   \n",
      "122513     Private room     70               1                  0         NaN   \n",
      "122544     Private room     40               1                  0         NaN   \n",
      "124383     Private room     45               1                  0         NaN   \n",
      "126967  Entire home/apt    190               4                  1    05/01/16   \n",
      "127629  Entire home/apt    300               5                  0         NaN   \n",
      "127822     Private room     74               4                  0         NaN   \n",
      "128109     Private room     80               3                  3    18/08/16   \n",
      "130089     Private room    100               1                  0         NaN   \n",
      "130300      Shared room    130               1                  0         NaN   \n",
      "131918     Private room     70               3                  0         NaN   \n",
      "140087  Entire home/apt    121               4                  5    13/08/18   \n",
      "154760  Entire home/apt    221               1                  3    03/11/19   \n",
      "159719  Entire home/apt    118               5                  1    19/04/20   \n",
      "174915     Private room     80               2                  0         NaN   \n",
      "212479  Entire home/apt    800               4                  0         NaN   \n",
      "212849     Private room     15               1                  0         NaN   \n",
      "215044  Entire home/apt    500               3                  0         NaN   \n",
      "215395     Private room    130               4                  0         NaN   \n",
      "215644  Entire home/apt    400               4                  1    05/02/18   \n",
      "220603  Entire home/apt    500               1                  0         NaN   \n",
      "\n",
      "        reviews_per_month  calculated_host_listings_count  availability_365  \\\n",
      "23691                2.23                               2               136   \n",
      "81872                 NaN                               1               179   \n",
      "93004                0.64                               1               129   \n",
      "119475                NaN                               1               362   \n",
      "120149               0.37                               1               364   \n",
      "121853               0.01                               1                 0   \n",
      "122016               0.07                               1                 0   \n",
      "122265                NaN                               1                 0   \n",
      "122513                NaN                               1                 0   \n",
      "122544                NaN                               1                 0   \n",
      "124383                NaN                               1                 0   \n",
      "126967               0.02                               1                 0   \n",
      "127629                NaN                               5                 0   \n",
      "127822                NaN                               1                 0   \n",
      "128109               0.05                               1               363   \n",
      "130089                NaN                               2                 0   \n",
      "130300                NaN                               1               365   \n",
      "131918                NaN                               1                 0   \n",
      "140087               0.15                               1                 0   \n",
      "154760               0.27                               1                87   \n",
      "159719               0.21                               1                 0   \n",
      "174915                NaN                               1               365   \n",
      "212479                NaN                               1                 0   \n",
      "212849                NaN                               1                 0   \n",
      "215044                NaN                               1                90   \n",
      "215395                NaN                               3                 0   \n",
      "215644               0.03                               1                 0   \n",
      "220603                NaN                               1                 0   \n",
      "\n",
      "                     city  \n",
      "23691      Broward County  \n",
      "81872         Los Angeles  \n",
      "93004         Los Angeles  \n",
      "119475      New York City  \n",
      "120149      New York City  \n",
      "121853      New York City  \n",
      "122016      New York City  \n",
      "122265      New York City  \n",
      "122513      New York City  \n",
      "122544      New York City  \n",
      "124383      New York City  \n",
      "126967      New York City  \n",
      "127629      New York City  \n",
      "127822      New York City  \n",
      "128109      New York City  \n",
      "130089      New York City  \n",
      "130300      New York City  \n",
      "131918      New York City  \n",
      "140087      New York City  \n",
      "154760      New York City  \n",
      "159719      New York City  \n",
      "174915  San Clara Country  \n",
      "212479    Twin Cities MSA  \n",
      "212849    Twin Cities MSA  \n",
      "215044    Twin Cities MSA  \n",
      "215395    Twin Cities MSA  \n",
      "215644    Twin Cities MSA  \n",
      "220603    Washington D.C.  \n"
     ]
    }
   ],
   "source": [
    "print(bnb.loc[bnb[\"name\"].isnull()]) #See where name is null"
   ]
  },
  {
   "cell_type": "markdown",
   "metadata": {
    "papermill": {
     "duration": 0.053625,
     "end_time": "2020-11-19T02:06:22.664874",
     "exception": false,
     "start_time": "2020-11-19T02:06:22.611249",
     "status": "completed"
    },
    "tags": []
   },
   "source": [
    "Both name and host_name do not inherently have any importance since their ID's are what is important. I can decide what to drop later after more exploration, so I will fill these with generic, obviously filled in names. I am thinking \"AIRBNB HOUSING\" and \"AIRBNB HOST\".\n",
    "\n",
    "As for neighborhood_group, it appears this is just here to emphasize certain areas of cities like New York. I will change nulls to \"Other\" in this case, as not all cities have neighborhoods like New York. The neighborhood names (besides NY) also seem inconsistent when looking at it through the other null prints, so that is something to keep in mind."
   ]
  },
  {
   "cell_type": "markdown",
   "metadata": {
    "papermill": {
     "duration": 0.06631,
     "end_time": "2020-11-19T02:06:22.786887",
     "exception": false,
     "start_time": "2020-11-19T02:06:22.720577",
     "status": "completed"
    },
    "tags": []
   },
   "source": [
    "---"
   ]
  },
  {
   "cell_type": "markdown",
   "metadata": {
    "papermill": {
     "duration": 0.054094,
     "end_time": "2020-11-19T02:06:22.915480",
     "exception": false,
     "start_time": "2020-11-19T02:06:22.861386",
     "status": "completed"
    },
    "tags": []
   },
   "source": [
    "# Fix the Null Values"
   ]
  },
  {
   "cell_type": "code",
   "execution_count": 9,
   "metadata": {
    "execution": {
     "iopub.execute_input": "2020-11-19T02:06:23.054620Z",
     "iopub.status.busy": "2020-11-19T02:06:23.053820Z",
     "iopub.status.idle": "2020-11-19T02:06:23.119013Z",
     "shell.execute_reply": "2020-11-19T02:06:23.119709Z"
    },
    "papermill": {
     "duration": 0.15051,
     "end_time": "2020-11-19T02:06:23.119872",
     "exception": false,
     "start_time": "2020-11-19T02:06:22.969362",
     "status": "completed"
    },
    "tags": []
   },
   "outputs": [
    {
     "name": "stdout",
     "output_type": "stream",
     "text": [
      "              id            name    host_id  host_name neighbourhood_group  \\\n",
      "23691   39717529  AIRBNB HOUSING  305261435      Patti                 NaN   \n",
      "81872   17108083  AIRBNB HOUSING  114871749     Karina        Other Cities   \n",
      "93004   33877948  AIRBNB HOUSING  141228320    Marquis        Other Cities   \n",
      "119475   1615764  AIRBNB HOUSING    6676776      Peter           Manhattan   \n",
      "120149   2232600  AIRBNB HOUSING   11395220       Anna           Manhattan   \n",
      "121853   4209595  AIRBNB HOUSING   20700823      Jesse           Manhattan   \n",
      "122016   4370230  AIRBNB HOUSING   22686810   Micha√´l           Manhattan   \n",
      "122265   4581788  AIRBNB HOUSING   21600904      Lucie            Brooklyn   \n",
      "122513   4756856  AIRBNB HOUSING    1832442   Carolina            Brooklyn   \n",
      "122544   4774658  AIRBNB HOUSING   24625694       Josh           Manhattan   \n",
      "124383   6782407  AIRBNB HOUSING   31147528   Huei-Yin            Brooklyn   \n",
      "126967   9325951  AIRBNB HOUSING   33377685   Jonathan           Manhattan   \n",
      "127629   9787590  AIRBNB HOUSING   50448556     Miguel           Manhattan   \n",
      "127822   9885866  AIRBNB HOUSING   37306329   Juliette           Manhattan   \n",
      "128109  10052289  AIRBNB HOUSING   49522403    Vanessa            Brooklyn   \n",
      "130089  12797684  AIRBNB HOUSING   69715276        Yan           Manhattan   \n",
      "130300  12988898  AIRBNB HOUSING   71552588     Andrea               Bronx   \n",
      "131918  14135050  AIRBNB HOUSING   85288337       Jeff            Brooklyn   \n",
      "140087  22275821  AIRBNB HOUSING   49662398   Kathleen            Brooklyn   \n",
      "154760  39365336  AIRBNB HOUSING  205040377     Ashley               Bronx   \n",
      "159719  43035347  AIRBNB HOUSING  163489663    Noelene           Manhattan   \n",
      "174915   2687540  AIRBNB HOUSING   13697842   Kathleen                 NaN   \n",
      "212479   6349535  AIRBNB HOUSING   33078623       Joan                 NaN   \n",
      "212849  12555371  AIRBNB HOUSING   68052565      Yijun                 NaN   \n",
      "215044  22544371  AIRBNB HOUSING  165614829      Laura                 NaN   \n",
      "215395  22731497  AIRBNB HOUSING  167762113   Shirlynn                 NaN   \n",
      "215644  22817408  AIRBNB HOUSING  112471022   Theodore                 NaN   \n",
      "220603  16269511  AIRBNB HOUSING   43680404  Christina                 NaN   \n",
      "\n",
      "                                         neighbourhood  latitude  longitude  \\\n",
      "23691                                    Pompano Beach  26.28332  -80.10731   \n",
      "81872                                         Pasadena  34.17216 -118.11699   \n",
      "93004                                    Santa Clarita  34.41328 -118.44301   \n",
      "119475                               Battery Park City  40.71239  -74.01620   \n",
      "120149                                    East Village  40.73215  -73.98821   \n",
      "121853                               Greenwich Village  40.73473  -73.99244   \n",
      "122016                                          Nolita  40.72046  -73.99550   \n",
      "122265                                    Williamsburg  40.71370  -73.94378   \n",
      "122513                                        Bushwick  40.70046  -73.92825   \n",
      "122544                              Washington Heights  40.85198  -73.93108   \n",
      "124383                                    Williamsburg  40.71354  -73.93882   \n",
      "126967                                  Hell's Kitchen  40.76436  -73.98573   \n",
      "127629                                          Harlem  40.80316  -73.95189   \n",
      "127822                                       Chinatown  40.71632  -73.99328   \n",
      "128109                                     Brownsville  40.66409  -73.92314   \n",
      "130089                                 Upper West Side  40.79843  -73.96404   \n",
      "130300                                         Fordham  40.86032  -73.88493   \n",
      "131918                              Bedford-Stuyvesant  40.69421  -73.93234   \n",
      "140087                                        Bushwick  40.69546  -73.92741   \n",
      "154760                                        Longwood  40.82550  -73.89227   \n",
      "159719                                  Hell's Kitchen  40.76161  -73.99926   \n",
      "174915                                        San Jose  37.40729 -121.84768   \n",
      "212479                                          Carver  44.83381  -93.57595   \n",
      "212849                                        Hennepin  44.96899  -93.22269   \n",
      "215044                                        Hennepin  45.01204  -93.23894   \n",
      "215395                                        Hennepin  45.12987  -93.46480   \n",
      "215644                                        Hennepin  44.92686  -93.20796   \n",
      "220603  Howard University, Le Droit Park, Cardozo/Shaw  38.91501  -77.02287   \n",
      "\n",
      "              room_type  price  minimum_nights  number_of_reviews last_review  \\\n",
      "23691   Entire home/apt     79               2                 16    17/03/20   \n",
      "81872      Private room    125               2                  0         NaN   \n",
      "93004      Private room     40               1                 10    05/03/20   \n",
      "119475  Entire home/apt    400            1000                  0         NaN   \n",
      "120149  Entire home/apt    200               1                 28    08/06/15   \n",
      "121853  Entire home/apt    225               1                  1    01/01/15   \n",
      "122016  Entire home/apt    215               7                  5    02/01/16   \n",
      "122265     Private room    150               1                  0         NaN   \n",
      "122513     Private room     70               1                  0         NaN   \n",
      "122544     Private room     40               1                  0         NaN   \n",
      "124383     Private room     45               1                  0         NaN   \n",
      "126967  Entire home/apt    190               4                  1    05/01/16   \n",
      "127629  Entire home/apt    300               5                  0         NaN   \n",
      "127822     Private room     74               4                  0         NaN   \n",
      "128109     Private room     80               3                  3    18/08/16   \n",
      "130089     Private room    100               1                  0         NaN   \n",
      "130300      Shared room    130               1                  0         NaN   \n",
      "131918     Private room     70               3                  0         NaN   \n",
      "140087  Entire home/apt    121               4                  5    13/08/18   \n",
      "154760  Entire home/apt    221               1                  3    03/11/19   \n",
      "159719  Entire home/apt    118               5                  1    19/04/20   \n",
      "174915     Private room     80               2                  0         NaN   \n",
      "212479  Entire home/apt    800               4                  0         NaN   \n",
      "212849     Private room     15               1                  0         NaN   \n",
      "215044  Entire home/apt    500               3                  0         NaN   \n",
      "215395     Private room    130               4                  0         NaN   \n",
      "215644  Entire home/apt    400               4                  1    05/02/18   \n",
      "220603  Entire home/apt    500               1                  0         NaN   \n",
      "\n",
      "        reviews_per_month  calculated_host_listings_count  availability_365  \\\n",
      "23691                2.23                               2               136   \n",
      "81872                 NaN                               1               179   \n",
      "93004                0.64                               1               129   \n",
      "119475                NaN                               1               362   \n",
      "120149               0.37                               1               364   \n",
      "121853               0.01                               1                 0   \n",
      "122016               0.07                               1                 0   \n",
      "122265                NaN                               1                 0   \n",
      "122513                NaN                               1                 0   \n",
      "122544                NaN                               1                 0   \n",
      "124383                NaN                               1                 0   \n",
      "126967               0.02                               1                 0   \n",
      "127629                NaN                               5                 0   \n",
      "127822                NaN                               1                 0   \n",
      "128109               0.05                               1               363   \n",
      "130089                NaN                               2                 0   \n",
      "130300                NaN                               1               365   \n",
      "131918                NaN                               1                 0   \n",
      "140087               0.15                               1                 0   \n",
      "154760               0.27                               1                87   \n",
      "159719               0.21                               1                 0   \n",
      "174915                NaN                               1               365   \n",
      "212479                NaN                               1                 0   \n",
      "212849                NaN                               1                 0   \n",
      "215044                NaN                               1                90   \n",
      "215395                NaN                               3                 0   \n",
      "215644               0.03                               1                 0   \n",
      "220603                NaN                               1                 0   \n",
      "\n",
      "                     city  \n",
      "23691      Broward County  \n",
      "81872         Los Angeles  \n",
      "93004         Los Angeles  \n",
      "119475      New York City  \n",
      "120149      New York City  \n",
      "121853      New York City  \n",
      "122016      New York City  \n",
      "122265      New York City  \n",
      "122513      New York City  \n",
      "122544      New York City  \n",
      "124383      New York City  \n",
      "126967      New York City  \n",
      "127629      New York City  \n",
      "127822      New York City  \n",
      "128109      New York City  \n",
      "130089      New York City  \n",
      "130300      New York City  \n",
      "131918      New York City  \n",
      "140087      New York City  \n",
      "154760      New York City  \n",
      "159719      New York City  \n",
      "174915  San Clara Country  \n",
      "212479    Twin Cities MSA  \n",
      "212849    Twin Cities MSA  \n",
      "215044    Twin Cities MSA  \n",
      "215395    Twin Cities MSA  \n",
      "215644    Twin Cities MSA  \n",
      "220603    Washington D.C.  \n"
     ]
    }
   ],
   "source": [
    "bnb[\"name\"] = bnb[\"name\"].fillna(\"AIRBNB HOUSING\") #Fill the null name values with \"AIRBNB HOUSING\"\n",
    "print(bnb.loc[bnb[\"name\"] == \"AIRBNB HOUSING\"]) #See where name is fixed to make sure this works"
   ]
  },
  {
   "cell_type": "code",
   "execution_count": 10,
   "metadata": {
    "execution": {
     "iopub.execute_input": "2020-11-19T02:06:23.260885Z",
     "iopub.status.busy": "2020-11-19T02:06:23.260077Z",
     "iopub.status.idle": "2020-11-19T02:06:23.323849Z",
     "shell.execute_reply": "2020-11-19T02:06:23.323221Z"
    },
    "papermill": {
     "duration": 0.148357,
     "end_time": "2020-11-19T02:06:23.323977",
     "exception": false,
     "start_time": "2020-11-19T02:06:23.175620",
     "status": "completed"
    },
    "tags": []
   },
   "outputs": [
    {
     "name": "stdout",
     "output_type": "stream",
     "text": [
      "              id                                               name  \\\n",
      "3129     4356661                   1 BR 1 Bath DT Apt [W/D in unit]   \n",
      "3866     8214182                Private room  in all female housing   \n",
      "7619    27025549    Studio apt in prime central Austin free parking   \n",
      "17727   16879934  HUGE LAKE VIEW MASTER BDRM  (sleeps 2) near we...   \n",
      "17995   18406577                                         comfy home   \n",
      "18913   22560010                                         Comfy Home   \n",
      "76723    6900415                          Quiet, Cozy West LA House   \n",
      "78167   10034835                     Large private bedroom in Palms   \n",
      "83235   19410610                          Cozy Home Away From Home!   \n",
      "83948   20450454                               Venice Artista House   \n",
      "96175   38358017  Modern Beachfront Guest Suite Hidden Ocean Escape   \n",
      "100462  42697243   Private Master Room with Private Bath in West LA   \n",
      "105755  15820455                 1 BR Condo Downtown/Nissan Stadium   \n",
      "122099   4446862                 Charming Room in Prospect Heights!   \n",
      "122525   4763327                Luxurious, best location, spa inc'l   \n",
      "123890   6360224                    Sunny, Private room in Bushwick   \n",
      "124624   6992973                    1 Bedroom in Prime Williamsburg   \n",
      "125184   7556587                               Sunny Room in Harlem   \n",
      "125702   8007908          Rare Find: Stylish West Village Townhouse   \n",
      "127504   9716437                                Chill Gramercy Flat   \n",
      "132947  15494796  Private Guest Room in Charming West Village Du...   \n",
      "140468  22545850                    Bedroom for two in Clinton Hill   \n",
      "142377  25048250      Private Bedroom in large 2 bedroom 1100sf apt   \n",
      "150858  35284472                                       Cozy bedroom   \n",
      "158777  42404465     Beautiful Large Cozy Room (15min to Manhattan)   \n",
      "160760  43629529    Amazinglocation,comfy,tranquil, convenient&fun!   \n",
      "161516  44183144                                     NewYorkNovelty   \n",
      "167520  14535161  Right on Hawthorne - w 2 perfectly cozy King beds   \n",
      "175362   8046925                 Elegant 3b House 4mi to Super Bowl   \n",
      "184749  14116320                             Modern La Jolla Escape   \n",
      "184750  14116330                                    Villa Portofino   \n",
      "184751  14116332                                      Forever Views   \n",
      "207438  13660156                               Studio by Green Lake   \n",
      "\n",
      "          host_id    host_name   neighbourhood_group       neighbourhood  \\\n",
      "3129     21791967  AIRBNB HOST                   NaN               78704   \n",
      "3866     21556779  AIRBNB HOST                   NaN               78741   \n",
      "7619      9390873  AIRBNB HOST                   NaN               78703   \n",
      "17727   104917254  AIRBNB HOST                   NaN             Miramar   \n",
      "17995   127527274  AIRBNB HOST                   NaN        Oakland Park   \n",
      "18913   127527274  AIRBNB HOST                   NaN    Lauderdale Lakes   \n",
      "76723    36159573  AIRBNB HOST   City of Los Angeles           Mar Vista   \n",
      "78167    23571738  AIRBNB HOST   City of Los Angeles               Palms   \n",
      "83235   136081205  AIRBNB HOST  Unincorporated Areas            Altadena   \n",
      "83948     4703979  AIRBNB HOST   City of Los Angeles              Venice   \n",
      "96175   291648183  AIRBNB HOST   City of Los Angeles   Pacific Palisades   \n",
      "100462   22087429  AIRBNB HOST   City of Los Angeles               Palms   \n",
      "105755  103457933  AIRBNB HOST                   NaN          District 5   \n",
      "122099   23077718  AIRBNB HOST              Brooklyn       Crown Heights   \n",
      "122525   24576978  AIRBNB HOST              Brooklyn          Greenpoint   \n",
      "123890   33134899  AIRBNB HOST              Brooklyn            Bushwick   \n",
      "124624    5162530  AIRBNB HOST              Brooklyn        Williamsburg   \n",
      "125184   39608626  AIRBNB HOST             Manhattan              Harlem   \n",
      "125702     390117  AIRBNB HOST             Manhattan        West Village   \n",
      "127504     956269  AIRBNB HOST             Manhattan            Gramercy   \n",
      "132947     390117  AIRBNB HOST             Manhattan        West Village   \n",
      "140468   43914397  AIRBNB HOST              Brooklyn  Bedford-Stuyvesant   \n",
      "142377    4426009  AIRBNB HOST              Brooklyn    Prospect Heights   \n",
      "150858  220159422  AIRBNB HOST                Queens           Ridgewood   \n",
      "158777  114351542  AIRBNB HOST              Brooklyn  Bedford-Stuyvesant   \n",
      "160760  348377879  AIRBNB HOST             Manhattan           Chinatown   \n",
      "161516  348377879  AIRBNB HOST             Manhattan        Little Italy   \n",
      "167520   49123414  AIRBNB HOST                   NaN           Sunnyside   \n",
      "175362   10050703  AIRBNB HOST                   NaN         Santa Clara   \n",
      "184749   66115585  AIRBNB HOST                   NaN            La Jolla   \n",
      "184750   66115585  AIRBNB HOST                   NaN            La Jolla   \n",
      "184751   66115585  AIRBNB HOST                   NaN            La Jolla   \n",
      "207438   43107348  AIRBNB HOST             Northgate  North College Park   \n",
      "\n",
      "        latitude  longitude        room_type  price  minimum_nights  \\\n",
      "3129    30.25560  -97.74707  Entire home/apt     75               1   \n",
      "3866    30.22755  -97.72671     Private room     27               1   \n",
      "7619    30.31010  -97.76262  Entire home/apt     45               2   \n",
      "17727   25.99069  -80.39371     Private room     45              30   \n",
      "17995   26.18251  -80.19091     Private room     50               1   \n",
      "18913   26.16050  -80.19325     Private room     50               7   \n",
      "76723   34.00105 -118.43665  Entire home/apt     99              30   \n",
      "78167   34.03038 -118.41465     Private room     41              30   \n",
      "83235   34.18404 -118.15525  Entire home/apt    400               2   \n",
      "83948   33.99968 -118.45424  Entire home/apt    165              30   \n",
      "96175   34.04226 -118.56309  Entire home/apt    200               1   \n",
      "100462  34.02940 -118.41466     Private room     65              30   \n",
      "105755  36.17467  -86.76446     Private room    110             180   \n",
      "122099  40.67512  -73.96146     Private room     50               1   \n",
      "122525  40.72035  -73.95355  Entire home/apt    195               1   \n",
      "123890  40.70146  -73.92792     Private room     37               1   \n",
      "124624  40.71838  -73.95630  Entire home/apt    145               1   \n",
      "125184  40.82929  -73.94182     Private room     28               1   \n",
      "125702  40.73221  -74.00928  Entire home/apt    375               7   \n",
      "127504  40.73725  -73.98439  Entire home/apt    150               3   \n",
      "132947  40.73142  -74.01000     Private room    100               1   \n",
      "140468  40.69207  -73.96021     Private room     50               5   \n",
      "142377  40.67757  -73.97017     Private room     70               1   \n",
      "150858  40.70161  -73.90484     Private room     43               2   \n",
      "158777  40.69340  -73.94435     Private room    130               3   \n",
      "160760  40.71865  -73.99642     Private room     50               1   \n",
      "161516  40.72008  -73.99614     Private room     80               1   \n",
      "167520  45.51231 -122.63345  Entire home/apt     99               2   \n",
      "175362  37.35438 -121.96770  Entire home/apt   2000               1   \n",
      "184749  32.83199 -117.25409  Entire home/apt   1647               1   \n",
      "184750  32.84558 -117.26090  Entire home/apt   3049               1   \n",
      "184751  32.82364 -117.24528  Entire home/apt   1708               1   \n",
      "207438  47.69429 -122.34254  Entire home/apt     65              30   \n",
      "\n",
      "        number_of_reviews last_review  reviews_per_month  \\\n",
      "3129                    1    13/08/15               0.02   \n",
      "3866                    4    24/09/15               0.07   \n",
      "7619                    9    14/08/20               0.41   \n",
      "17727                   0         NaN                NaN   \n",
      "17995                  49    07/03/20               1.66   \n",
      "18913                   7    29/02/20               0.25   \n",
      "76723                   0         NaN                NaN   \n",
      "78167                   2    19/12/15               0.03   \n",
      "83235                  33    11/11/19               0.86   \n",
      "83948                   3    16/03/19               0.09   \n",
      "96175                  14    23/08/20               1.14   \n",
      "100462                  0         NaN                NaN   \n",
      "105755                  4    02/01/17               0.09   \n",
      "122099                  0         NaN                NaN   \n",
      "122525                  1    20/10/15               0.02   \n",
      "123890                  1    01/07/15               0.02   \n",
      "124624                  0         NaN                NaN   \n",
      "125184                  1    01/08/15               0.02   \n",
      "125702                 23    25/05/20               0.41   \n",
      "127504                 25    28/09/19               0.43   \n",
      "132947                  8    28/04/19               0.17   \n",
      "140468                  3    25/11/18               0.13   \n",
      "142377                 62    29/02/20               2.20   \n",
      "150858                  3    08/06/19               0.20   \n",
      "158777                  0         NaN                NaN   \n",
      "160760                  3    16/08/20               1.50   \n",
      "161516                  0         NaN                NaN   \n",
      "167520                103    02/03/20               2.62   \n",
      "175362                  1    30/08/15               0.02   \n",
      "184749                  0         NaN                NaN   \n",
      "184750                  0         NaN                NaN   \n",
      "184751                  0         NaN                NaN   \n",
      "207438                  6    21/05/17               0.14   \n",
      "\n",
      "        calculated_host_listings_count  availability_365               city  \n",
      "3129                                 1                 0             Austin  \n",
      "3866                                 1                 0             Austin  \n",
      "7619                                 1               349             Austin  \n",
      "17727                                1               180     Broward County  \n",
      "17995                                2               364     Broward County  \n",
      "18913                                2               365     Broward County  \n",
      "76723                                1                 0        Los Angeles  \n",
      "78167                                1                 0        Los Angeles  \n",
      "83235                                1                 0        Los Angeles  \n",
      "83948                                1                 0        Los Angeles  \n",
      "96175                                1               268        Los Angeles  \n",
      "100462                               1                 0        Los Angeles  \n",
      "105755                               1                90          Nashville  \n",
      "122099                               1                 0      New York City  \n",
      "122525                               1                 0      New York City  \n",
      "123890                               1                 0      New York City  \n",
      "124624                               1                 0      New York City  \n",
      "125184                               1                 0      New York City  \n",
      "125702                               2                 0      New York City  \n",
      "127504                               1                83      New York City  \n",
      "132947                               2                 0      New York City  \n",
      "140468                               1                 0      New York City  \n",
      "142377                               1               180      New York City  \n",
      "150858                               1                 0      New York City  \n",
      "158777                               1               179      New York City  \n",
      "160760                               2               343      New York City  \n",
      "161516                               2               365      New York City  \n",
      "167520                               1                 0           Portland  \n",
      "175362                               1               365  San Clara Country  \n",
      "184749                               3                 0          San Diego  \n",
      "184750                               3                 0          San Diego  \n",
      "184751                               3                66          San Diego  \n",
      "207438                               1                 0            Seattle  \n"
     ]
    }
   ],
   "source": [
    "bnb[\"host_name\"] = bnb[\"host_name\"].fillna(\"AIRBNB HOST\") #Fill the null host name values with \"AIRBNB HOST\"\n",
    "print(bnb.loc[bnb[\"host_name\"] == \"AIRBNB HOST\"]) #See where host_name is fixed to make sure this works"
   ]
  },
  {
   "cell_type": "code",
   "execution_count": 11,
   "metadata": {
    "execution": {
     "iopub.execute_input": "2020-11-19T02:06:23.461727Z",
     "iopub.status.busy": "2020-11-19T02:06:23.460661Z",
     "iopub.status.idle": "2020-11-19T02:06:23.472245Z",
     "shell.execute_reply": "2020-11-19T02:06:23.471471Z"
    },
    "papermill": {
     "duration": 0.090982,
     "end_time": "2020-11-19T02:06:23.472370",
     "exception": false,
     "start_time": "2020-11-19T02:06:23.381388",
     "status": "completed"
    },
    "tags": []
   },
   "outputs": [],
   "source": [
    "bnb[\"neighbourhood_group\"] = bnb[\"neighbourhood_group\"].fillna(\"Other\") #Fill the null neighbourhood group values with \"Other\""
   ]
  },
  {
   "cell_type": "code",
   "execution_count": 12,
   "metadata": {
    "execution": {
     "iopub.execute_input": "2020-11-19T02:06:23.591936Z",
     "iopub.status.busy": "2020-11-19T02:06:23.591150Z",
     "iopub.status.idle": "2020-11-19T02:06:23.596398Z",
     "shell.execute_reply": "2020-11-19T02:06:23.595710Z"
    },
    "papermill": {
     "duration": 0.067202,
     "end_time": "2020-11-19T02:06:23.596527",
     "exception": false,
     "start_time": "2020-11-19T02:06:23.529325",
     "status": "completed"
    },
    "tags": []
   },
   "outputs": [],
   "source": [
    "bnb[\"reviews_per_month\"] = bnb[\"reviews_per_month\"].fillna(0) #Fill the null reviews_per_month values with 0"
   ]
  },
  {
   "cell_type": "code",
   "execution_count": 13,
   "metadata": {
    "execution": {
     "iopub.execute_input": "2020-11-19T02:06:23.743298Z",
     "iopub.status.busy": "2020-11-19T02:06:23.742243Z",
     "iopub.status.idle": "2020-11-19T02:06:24.059276Z",
     "shell.execute_reply": "2020-11-19T02:06:24.058625Z"
    },
    "papermill": {
     "duration": 0.404001,
     "end_time": "2020-11-19T02:06:24.059402",
     "exception": false,
     "start_time": "2020-11-19T02:06:23.655401",
     "status": "completed"
    },
    "tags": []
   },
   "outputs": [
    {
     "name": "stdout",
     "output_type": "stream",
     "text": [
      "0        2020-02-16\n",
      "1        2020-07-09\n",
      "2        2019-11-30\n",
      "3        2020-09-22\n",
      "4        2015-10-19\n",
      "            ...    \n",
      "226025   2001-01-01\n",
      "226026   2001-01-01\n",
      "226027   2001-01-01\n",
      "226028   2001-01-01\n",
      "226029   2001-01-01\n",
      "Name: last_review, Length: 226030, dtype: datetime64[ns]\n"
     ]
    }
   ],
   "source": [
    "bnb[\"last_review\"] = bnb[\"last_review\"].fillna(\"01/01/01\") #Fill the null last_review values with 01/01/01\n",
    "bnb[\"last_review\"] = pd.to_datetime(bnb[\"last_review\"]) #Convert the last review to datetime\n",
    "print(bnb[\"last_review\"]) #Print the last review"
   ]
  },
  {
   "cell_type": "code",
   "execution_count": 14,
   "metadata": {
    "execution": {
     "iopub.execute_input": "2020-11-19T02:06:24.180477Z",
     "iopub.status.busy": "2020-11-19T02:06:24.179479Z",
     "iopub.status.idle": "2020-11-19T02:06:24.334407Z",
     "shell.execute_reply": "2020-11-19T02:06:24.333637Z"
    },
    "papermill": {
     "duration": 0.21755,
     "end_time": "2020-11-19T02:06:24.334533",
     "exception": false,
     "start_time": "2020-11-19T02:06:24.116983",
     "status": "completed"
    },
    "tags": []
   },
   "outputs": [
    {
     "name": "stdout",
     "output_type": "stream",
     "text": [
      "id                                False\n",
      "name                              False\n",
      "host_id                           False\n",
      "host_name                         False\n",
      "neighbourhood_group               False\n",
      "neighbourhood                     False\n",
      "latitude                          False\n",
      "longitude                         False\n",
      "room_type                         False\n",
      "price                             False\n",
      "minimum_nights                    False\n",
      "number_of_reviews                 False\n",
      "last_review                       False\n",
      "reviews_per_month                 False\n",
      "calculated_host_listings_count    False\n",
      "availability_365                  False\n",
      "city                              False\n",
      "dtype: bool\n"
     ]
    }
   ],
   "source": [
    "print(bnb.isnull().any()) #Check for null values"
   ]
  },
  {
   "cell_type": "markdown",
   "metadata": {
    "papermill": {
     "duration": 0.058836,
     "end_time": "2020-11-19T02:06:24.451177",
     "exception": false,
     "start_time": "2020-11-19T02:06:24.392341",
     "status": "completed"
    },
    "tags": []
   },
   "source": [
    "All of the null values have been fixed."
   ]
  },
  {
   "cell_type": "markdown",
   "metadata": {
    "papermill": {
     "duration": 0.057154,
     "end_time": "2020-11-19T02:06:24.566467",
     "exception": false,
     "start_time": "2020-11-19T02:06:24.509313",
     "status": "completed"
    },
    "tags": []
   },
   "source": [
    "---"
   ]
  },
  {
   "cell_type": "markdown",
   "metadata": {
    "papermill": {
     "duration": 0.056783,
     "end_time": "2020-11-19T02:06:24.680853",
     "exception": false,
     "start_time": "2020-11-19T02:06:24.624070",
     "status": "completed"
    },
    "tags": []
   },
   "source": [
    "# Fix Column Names for My Comfort"
   ]
  },
  {
   "cell_type": "code",
   "execution_count": 15,
   "metadata": {
    "execution": {
     "iopub.execute_input": "2020-11-19T02:06:24.803100Z",
     "iopub.status.busy": "2020-11-19T02:06:24.802316Z",
     "iopub.status.idle": "2020-11-19T02:06:24.860099Z",
     "shell.execute_reply": "2020-11-19T02:06:24.859470Z"
    },
    "papermill": {
     "duration": 0.121941,
     "end_time": "2020-11-19T02:06:24.860243",
     "exception": false,
     "start_time": "2020-11-19T02:06:24.738302",
     "status": "completed"
    },
    "tags": []
   },
   "outputs": [
    {
     "data": {
      "text/html": [
       "<div>\n",
       "<style scoped>\n",
       "    .dataframe tbody tr th:only-of-type {\n",
       "        vertical-align: middle;\n",
       "    }\n",
       "\n",
       "    .dataframe tbody tr th {\n",
       "        vertical-align: top;\n",
       "    }\n",
       "\n",
       "    .dataframe thead th {\n",
       "        text-align: right;\n",
       "    }\n",
       "</style>\n",
       "<table border=\"1\" class=\"dataframe\">\n",
       "  <thead>\n",
       "    <tr style=\"text-align: right;\">\n",
       "      <th></th>\n",
       "      <th>id</th>\n",
       "      <th>name</th>\n",
       "      <th>hostId</th>\n",
       "      <th>hostName</th>\n",
       "      <th>neighGroup</th>\n",
       "      <th>neigh</th>\n",
       "      <th>latitude</th>\n",
       "      <th>longitude</th>\n",
       "      <th>roomType</th>\n",
       "      <th>price</th>\n",
       "      <th>minNights</th>\n",
       "      <th>numReviews</th>\n",
       "      <th>lastReview</th>\n",
       "      <th>monthlyReviews</th>\n",
       "      <th>numListings</th>\n",
       "      <th>available</th>\n",
       "      <th>city</th>\n",
       "    </tr>\n",
       "  </thead>\n",
       "  <tbody>\n",
       "    <tr>\n",
       "      <th>0</th>\n",
       "      <td>38585</td>\n",
       "      <td>Charming Victorian home - twin beds + breakfast</td>\n",
       "      <td>165529</td>\n",
       "      <td>Evelyne</td>\n",
       "      <td>Other</td>\n",
       "      <td>28804</td>\n",
       "      <td>35.65146</td>\n",
       "      <td>-82.62792</td>\n",
       "      <td>Private room</td>\n",
       "      <td>60</td>\n",
       "      <td>1</td>\n",
       "      <td>138</td>\n",
       "      <td>2020-02-16</td>\n",
       "      <td>1.14</td>\n",
       "      <td>1</td>\n",
       "      <td>0</td>\n",
       "      <td>Asheville</td>\n",
       "    </tr>\n",
       "    <tr>\n",
       "      <th>1</th>\n",
       "      <td>80905</td>\n",
       "      <td>French Chic Loft</td>\n",
       "      <td>427027</td>\n",
       "      <td>Celeste</td>\n",
       "      <td>Other</td>\n",
       "      <td>28801</td>\n",
       "      <td>35.59779</td>\n",
       "      <td>-82.55540</td>\n",
       "      <td>Entire home/apt</td>\n",
       "      <td>470</td>\n",
       "      <td>1</td>\n",
       "      <td>114</td>\n",
       "      <td>2020-07-09</td>\n",
       "      <td>1.03</td>\n",
       "      <td>11</td>\n",
       "      <td>288</td>\n",
       "      <td>Asheville</td>\n",
       "    </tr>\n",
       "    <tr>\n",
       "      <th>2</th>\n",
       "      <td>108061</td>\n",
       "      <td>Walk to stores/parks/downtown. Fenced yard/Pet...</td>\n",
       "      <td>320564</td>\n",
       "      <td>Lisa</td>\n",
       "      <td>Other</td>\n",
       "      <td>28801</td>\n",
       "      <td>35.60670</td>\n",
       "      <td>-82.55563</td>\n",
       "      <td>Entire home/apt</td>\n",
       "      <td>75</td>\n",
       "      <td>30</td>\n",
       "      <td>89</td>\n",
       "      <td>2019-11-30</td>\n",
       "      <td>0.81</td>\n",
       "      <td>2</td>\n",
       "      <td>298</td>\n",
       "      <td>Asheville</td>\n",
       "    </tr>\n",
       "    <tr>\n",
       "      <th>3</th>\n",
       "      <td>155305</td>\n",
       "      <td>Cottage! BonPaul + Sharky's Hostel</td>\n",
       "      <td>746673</td>\n",
       "      <td>BonPaul</td>\n",
       "      <td>Other</td>\n",
       "      <td>28806</td>\n",
       "      <td>35.57864</td>\n",
       "      <td>-82.59578</td>\n",
       "      <td>Entire home/apt</td>\n",
       "      <td>90</td>\n",
       "      <td>1</td>\n",
       "      <td>267</td>\n",
       "      <td>2020-09-22</td>\n",
       "      <td>2.39</td>\n",
       "      <td>5</td>\n",
       "      <td>0</td>\n",
       "      <td>Asheville</td>\n",
       "    </tr>\n",
       "    <tr>\n",
       "      <th>4</th>\n",
       "      <td>160594</td>\n",
       "      <td>Historic Grove Park</td>\n",
       "      <td>769252</td>\n",
       "      <td>Elizabeth</td>\n",
       "      <td>Other</td>\n",
       "      <td>28801</td>\n",
       "      <td>35.61442</td>\n",
       "      <td>-82.54127</td>\n",
       "      <td>Private room</td>\n",
       "      <td>125</td>\n",
       "      <td>30</td>\n",
       "      <td>58</td>\n",
       "      <td>2015-10-19</td>\n",
       "      <td>0.52</td>\n",
       "      <td>1</td>\n",
       "      <td>0</td>\n",
       "      <td>Asheville</td>\n",
       "    </tr>\n",
       "  </tbody>\n",
       "</table>\n",
       "</div>"
      ],
      "text/plain": [
       "       id                                               name  hostId  \\\n",
       "0   38585    Charming Victorian home - twin beds + breakfast  165529   \n",
       "1   80905                                   French Chic Loft  427027   \n",
       "2  108061  Walk to stores/parks/downtown. Fenced yard/Pet...  320564   \n",
       "3  155305                 Cottage! BonPaul + Sharky's Hostel  746673   \n",
       "4  160594                                Historic Grove Park  769252   \n",
       "\n",
       "    hostName neighGroup  neigh  latitude  longitude         roomType  price  \\\n",
       "0    Evelyne      Other  28804  35.65146  -82.62792     Private room     60   \n",
       "1    Celeste      Other  28801  35.59779  -82.55540  Entire home/apt    470   \n",
       "2       Lisa      Other  28801  35.60670  -82.55563  Entire home/apt     75   \n",
       "3    BonPaul      Other  28806  35.57864  -82.59578  Entire home/apt     90   \n",
       "4  Elizabeth      Other  28801  35.61442  -82.54127     Private room    125   \n",
       "\n",
       "   minNights  numReviews lastReview  monthlyReviews  numListings  available  \\\n",
       "0          1         138 2020-02-16            1.14            1          0   \n",
       "1          1         114 2020-07-09            1.03           11        288   \n",
       "2         30          89 2019-11-30            0.81            2        298   \n",
       "3          1         267 2020-09-22            2.39            5          0   \n",
       "4         30          58 2015-10-19            0.52            1          0   \n",
       "\n",
       "        city  \n",
       "0  Asheville  \n",
       "1  Asheville  \n",
       "2  Asheville  \n",
       "3  Asheville  \n",
       "4  Asheville  "
      ]
     },
     "execution_count": 15,
     "metadata": {},
     "output_type": "execute_result"
    }
   ],
   "source": [
    "#Change the column names to ones I prefer\n",
    "bnb = bnb.rename(columns = {\"host_id\" : \"hostId\", \"host_name\" : \"hostName\", \"neighbourhood_group\" : \"neighGroup\",\n",
    "                            \"neighbourhood\" : \"neigh\", \"room_type\" : \"roomType\", \"minimum_nights\" : \"minNights\",\n",
    "                            \"number_of_reviews\" : \"numReviews\", \"last_review\" : \"lastReview\", \"reviews_per_month\" : \"monthlyReviews\",\n",
    "                            \"calculated_host_listings_count\" : \"numListings\", \"availability_365\" : \"available\"})\n",
    "bnb.head() #Take a peek at the dataset"
   ]
  },
  {
   "cell_type": "markdown",
   "metadata": {
    "papermill": {
     "duration": 0.058624,
     "end_time": "2020-11-19T02:06:24.977430",
     "exception": false,
     "start_time": "2020-11-19T02:06:24.918806",
     "status": "completed"
    },
    "tags": []
   },
   "source": [
    "---"
   ]
  },
  {
   "cell_type": "markdown",
   "metadata": {
    "papermill": {
     "duration": 0.057963,
     "end_time": "2020-11-19T02:06:25.094278",
     "exception": false,
     "start_time": "2020-11-19T02:06:25.036315",
     "status": "completed"
    },
    "tags": []
   },
   "source": [
    "# AirBNB Locations"
   ]
  },
  {
   "cell_type": "markdown",
   "metadata": {
    "papermill": {
     "duration": 0.058342,
     "end_time": "2020-11-19T02:06:25.210859",
     "exception": false,
     "start_time": "2020-11-19T02:06:25.152517",
     "status": "completed"
    },
    "tags": []
   },
   "source": [
    "Source: https://basemaptutorial.readthedocs.io/en/latest/subplots.html , Basemap Documentation"
   ]
  },
  {
   "cell_type": "code",
   "execution_count": 16,
   "metadata": {
    "execution": {
     "iopub.execute_input": "2020-11-19T02:06:25.342275Z",
     "iopub.status.busy": "2020-11-19T02:06:25.337338Z",
     "iopub.status.idle": "2020-11-19T02:06:27.613069Z",
     "shell.execute_reply": "2020-11-19T02:06:27.613644Z"
    },
    "papermill": {
     "duration": 2.343799,
     "end_time": "2020-11-19T02:06:27.613804",
     "exception": false,
     "start_time": "2020-11-19T02:06:25.270005",
     "status": "completed"
    },
    "tags": []
   },
   "outputs": [
    {
     "data": {
      "image/png": "[encoded data removed]",
      "text/plain": [
       "<Figure size 1080x720 with 2 Axes>"
      ]
     },
     "metadata": {},
     "output_type": "display_data"
    }
   ],
   "source": [
    "fig = plt.figure() #Plot figure to add subplots\n",
    "lat = list(bnb[\"latitude\"]) #Get the list of latitudes\n",
    "lon = list(bnb[\"longitude\"]) #Get the list of longitudes\n",
    "\n",
    "ax = fig.add_subplot(211) #Add a subplot for the contiguous US\n",
    "ax.set_title(\"Main US\") #Add a title for the main US\n",
    "\n",
    "#Set a basemap for the contiguous United States\n",
    "mUS = Basemap(width = 5000000, height = 4000000, projection = \"lcc\",\n",
    "            resolution = \"c\", lat_1 = 35.0, lat_2 = 45.0, lat_0 = 40.0, lon_0 = -97.0)\n",
    "\n",
    "mUS.drawcoastlines() #Draw the coastlines\n",
    "mUS.fillcontinents(color = \"lightgreen\") #Make the land light green\n",
    "xlon, ylat = mUS(lon, lat) #Fit the coordinates to fit with the map\n",
    "mUS.plot(xlon, ylat, \"b.\") #Plot the US with our AirBNB data\n",
    "\n",
    "ax = fig.add_subplot(212) #Add a subplot for Hawaii\n",
    "ax.set_title(\"Hawaii\") #Set title to hawaii\n",
    "\n",
    "#Set a basemap for Hawaii\n",
    "mH = Basemap(width=625000,height=500000,projection='lcc',\n",
    "            resolution='l',lat_1=16.,lat_2=26,lat_0=21,lon_0=-156.)\n",
    "\n",
    "mH.drawcoastlines() #Draw the coastline\n",
    "mH.fillcontinents(color = \"lightgreen\") #Make the land light green\n",
    "xlon, ylat = mH(lon, lat) #Fit the coordinates into the map\n",
    "mH.plot(xlon, ylat, \"b.\") #Plot the AirBNB data\n",
    "\n",
    "plt.show() #Show the maps"
   ]
  },
  {
   "cell_type": "markdown",
   "metadata": {
    "papermill": {
     "duration": 0.059598,
     "end_time": "2020-11-19T02:06:27.733554",
     "exception": false,
     "start_time": "2020-11-19T02:06:27.673956",
     "status": "completed"
    },
    "tags": []
   },
   "source": [
    "Hawaii is littered with AirBNB locations. I should check the data to make sure that makes sense."
   ]
  },
  {
   "cell_type": "code",
   "execution_count": 17,
   "metadata": {
    "execution": {
     "iopub.execute_input": "2020-11-19T02:06:27.877186Z",
     "iopub.status.busy": "2020-11-19T02:06:27.876442Z",
     "iopub.status.idle": "2020-11-19T02:06:27.884833Z",
     "shell.execute_reply": "2020-11-19T02:06:27.885631Z"
    },
    "papermill": {
     "duration": 0.092349,
     "end_time": "2020-11-19T02:06:27.885834",
     "exception": false,
     "start_time": "2020-11-19T02:06:27.793485",
     "status": "completed"
    },
    "tags": []
   },
   "outputs": [
    {
     "name": "stdout",
     "output_type": "stream",
     "text": [
      "['Asheville' 'Austin' 'Boston' 'Broward County' 'Cambridge' 'Chicago'\n",
      " 'Clark County' 'Columbus' 'Denver' 'Hawaii' 'Jersey City' 'Los Angeles'\n",
      " 'Nashville' 'New Orleans' 'New York City' 'Oakland' 'Pacific Grove'\n",
      " 'Portland' 'Rhode Island' 'Salem' 'San Clara Country' 'San Diego'\n",
      " 'San Francisco' 'San Mateo County' 'Santa Cruz County' 'Seattle'\n",
      " 'Twin Cities MSA' 'Washington D.C.']\n"
     ]
    }
   ],
   "source": [
    "print(bnb[\"city\"].unique()) #See all the unique \"cities\" in the data"
   ]
  },
  {
   "cell_type": "code",
   "execution_count": 18,
   "metadata": {
    "execution": {
     "iopub.execute_input": "2020-11-19T02:06:28.053304Z",
     "iopub.status.busy": "2020-11-19T02:06:28.052535Z",
     "iopub.status.idle": "2020-11-19T02:06:28.061776Z",
     "shell.execute_reply": "2020-11-19T02:06:28.060987Z"
    },
    "papermill": {
     "duration": 0.114531,
     "end_time": "2020-11-19T02:06:28.061904",
     "exception": false,
     "start_time": "2020-11-19T02:06:27.947373",
     "status": "completed"
    },
    "tags": []
   },
   "outputs": [
    {
     "name": "stdout",
     "output_type": "stream",
     "text": [
      "Number of Hawaii Locations: 22434\n",
      "Percent of Hawaii Locations in Dataset: 0.09925231164004777\n"
     ]
    }
   ],
   "source": [
    "hawaii = len(bnb.loc[bnb[\"city\"] == \"Hawaii\"]) #Get the number of Hawaii Locations\n",
    "print(\"Number of Hawaii Locations: {}\".format(hawaii)) #Print the number of hawaii locations\n",
    "print(\"Percent of Hawaii Locations in Dataset: {}\".format( hawaii / len(bnb))) #Print the proportion of hawaii locations"
   ]
  },
  {
   "cell_type": "markdown",
   "metadata": {
    "papermill": {
     "duration": 0.061304,
     "end_time": "2020-11-19T02:06:28.184576",
     "exception": false,
     "start_time": "2020-11-19T02:06:28.123272",
     "status": "completed"
    },
    "tags": []
   },
   "source": [
    "Hawaii accounts for a massive 10% of the dataset at 22434 locations. The map is justified."
   ]
  },
  {
   "cell_type": "markdown",
   "metadata": {
    "papermill": {
     "duration": 0.061512,
     "end_time": "2020-11-19T02:06:28.307914",
     "exception": false,
     "start_time": "2020-11-19T02:06:28.246402",
     "status": "completed"
    },
    "tags": []
   },
   "source": [
    "---"
   ]
  },
  {
   "cell_type": "markdown",
   "metadata": {
    "papermill": {
     "duration": 0.108361,
     "end_time": "2020-11-19T02:06:28.477906",
     "exception": false,
     "start_time": "2020-11-19T02:06:28.369545",
     "status": "completed"
    },
    "tags": []
   },
   "source": [
    "# Fix City Names into Major Areas"
   ]
  },
  {
   "cell_type": "code",
   "execution_count": 19,
   "metadata": {
    "execution": {
     "iopub.execute_input": "2020-11-19T02:06:28.610566Z",
     "iopub.status.busy": "2020-11-19T02:06:28.609724Z",
     "iopub.status.idle": "2020-11-19T02:06:28.779130Z",
     "shell.execute_reply": "2020-11-19T02:06:28.778430Z"
    },
    "papermill": {
     "duration": 0.240008,
     "end_time": "2020-11-19T02:06:28.779258",
     "exception": false,
     "start_time": "2020-11-19T02:06:28.539250",
     "status": "completed"
    },
    "tags": []
   },
   "outputs": [],
   "source": [
    "#A list of areas in the dataset that are part of the San Francisco major area\n",
    "SF = [\"Oakland\", \"Pacific Grove\", \"San Clara Country\", \"Santa Cruz County\", \"San Mateo County\", \"San Francisco\"]\n",
    "\n",
    "#Fix the cities into their major areas\n",
    "#Input: the city/state/county named state (this column has so many different things)\n",
    "#Output: the fixed label\n",
    "def fixState(state):\n",
    "    \n",
    "    #Fix the labels whose major areas are not as clear\n",
    "    if state == \"Broward County\":\n",
    "        return \"Miami\"\n",
    "    if state == \"Twin Cities MSA\":\n",
    "        return \"Minneapolis\"\n",
    "    if state == \"Clark County\":\n",
    "        return \"Las Vegas\"\n",
    "    \n",
    "    #Lump labels together if thier major area is the same\n",
    "    if state == \"Boston\" or state == \"Cambridge\":\n",
    "        return \"Boston\"\n",
    "    if state == \"Portland\" or state == \"Salem\":\n",
    "        return \"Portland\"\n",
    "    if state == \"Jersey City\":\n",
    "        return \"New York City\"\n",
    "    if state in SF:\n",
    "        return \"San Francisco\"\n",
    "    \n",
    "    return state #Return the label if it does not need to change\n",
    "\n",
    "bnb[\"city\"] = bnb[\"city\"].apply(fixState) #Fix the city column with its major areas"
   ]
  },
  {
   "cell_type": "markdown",
   "metadata": {
    "papermill": {
     "duration": 0.072148,
     "end_time": "2020-11-19T02:06:28.915920",
     "exception": false,
     "start_time": "2020-11-19T02:06:28.843772",
     "status": "completed"
    },
    "tags": []
   },
   "source": [
    "---"
   ]
  },
  {
   "cell_type": "markdown",
   "metadata": {
    "papermill": {
     "duration": 0.065591,
     "end_time": "2020-11-19T02:06:29.053765",
     "exception": false,
     "start_time": "2020-11-19T02:06:28.988174",
     "status": "completed"
    },
    "tags": []
   },
   "source": [
    "# Visualize Major Areas"
   ]
  },
  {
   "cell_type": "code",
   "execution_count": 20,
   "metadata": {
    "execution": {
     "iopub.execute_input": "2020-11-19T02:06:29.237282Z",
     "iopub.status.busy": "2020-11-19T02:06:29.236142Z",
     "iopub.status.idle": "2020-11-19T02:06:30.539666Z",
     "shell.execute_reply": "2020-11-19T02:06:30.540279Z"
    },
    "papermill": {
     "duration": 1.409071,
     "end_time": "2020-11-19T02:06:30.540437",
     "exception": false,
     "start_time": "2020-11-19T02:06:29.131366",
     "status": "completed"
    },
    "tags": []
   },
   "outputs": [
    {
     "data": {
      "text/plain": [
       "<matplotlib.axes._subplots.AxesSubplot at 0x7f89509d5410>"
      ]
     },
     "execution_count": 20,
     "metadata": {},
     "output_type": "execute_result"
    },
    {
     "data": {
      "image/png": "[encoded data removed]",
      "text/plain": [
       "<Figure size 1080x720 with 1 Axes>"
      ]
     },
     "metadata": {},
     "output_type": "display_data"
    },
    {
     "data": {
      "image/png": "[encoded data removed]",
      "text/plain": [
       "<Figure size 1728x1152 with 1 Axes>"
      ]
     },
     "metadata": {},
     "output_type": "display_data"
    }
   ],
   "source": [
    "percentages = [] #A list variable to hold the percentages of overall listings in each major area\n",
    "counts = [] #A list variable to hold the counts of each major area\n",
    "cities = bnb[\"city\"].unique() #Get the unique major areas to loop through\n",
    "\n",
    "#For each major area, get its number of listings and the proportion of the overall data that count takes up\n",
    "for city in cities:\n",
    "    cityCount = len(bnb.loc[bnb[\"city\"] == city]) #Get the number of listings in that city/major area\n",
    "    counts.append((city, cityCount)) #Append the count with its city name into the counts list\n",
    "    percentages.append((city, cityCount/len(bnb))) #Append the proportion (Percent) for the city into the percentages list\n",
    "    \n",
    "cityDF = pd.DataFrame(counts, columns = [\"City\", \"Count\"]) #Put the count list into a dataframe\n",
    "perDF = pd.DataFrame(percentages, columns = [\"City\", \"Percentage\"]) #Put the percentage list into a dataframe\n",
    "cityDF = cityDF.join(perDF.set_index(\"City\"), on = \"City\") #Join the percentage and count sets\n",
    "\n",
    "cityCount = cityDF.sort_values(\"Count\", ascending = False) #Sort the joined datafrmame by its counts\n",
    "cityCount.plot.bar(x = \"City\", y = \"Count\") #Plot the counts for each city in a bar graph\n",
    "\n",
    "cityPer = cityDF.sort_values(\"Percentage\", ascending = False) #Sort the joined dataframe by its percentage proportions\n",
    "cityPer = cityPer.set_index(\"City\") #Set the index to city so the pie chart function works correctly\n",
    "cityPer.plot.pie(y = \"Percentage\", fontsize = 10, legend = False, figsize = (24, 16)) #Plot a pie chart of city proportions in the dataset"
   ]
  },
  {
   "cell_type": "markdown",
   "metadata": {
    "papermill": {
     "duration": 0.065966,
     "end_time": "2020-11-19T02:06:30.673132",
     "exception": false,
     "start_time": "2020-11-19T02:06:30.607166",
     "status": "completed"
    },
    "tags": []
   },
   "source": [
    "This dataset appears to ignore relatively smaller areas, but this should not cause problems."
   ]
  },
  {
   "cell_type": "markdown",
   "metadata": {
    "papermill": {
     "duration": 0.065641,
     "end_time": "2020-11-19T02:06:30.807050",
     "exception": false,
     "start_time": "2020-11-19T02:06:30.741409",
     "status": "completed"
    },
    "tags": []
   },
   "source": [
    "---"
   ]
  },
  {
   "cell_type": "markdown",
   "metadata": {
    "papermill": {
     "duration": 0.065959,
     "end_time": "2020-11-19T02:06:30.939775",
     "exception": false,
     "start_time": "2020-11-19T02:06:30.873816",
     "status": "completed"
    },
    "tags": []
   },
   "source": [
    "# Regression on the Overall Dataset"
   ]
  },
  {
   "cell_type": "markdown",
   "metadata": {
    "papermill": {
     "duration": 0.066608,
     "end_time": "2020-11-19T02:06:31.073242",
     "exception": false,
     "start_time": "2020-11-19T02:06:31.006634",
     "status": "completed"
    },
    "tags": []
   },
   "source": [
    "(I will be using a Random Forest Regression, as that proved best when I compared regression accuracies in a previous project)."
   ]
  },
  {
   "cell_type": "markdown",
   "metadata": {
    "papermill": {
     "duration": 0.067636,
     "end_time": "2020-11-19T02:06:31.208012",
     "exception": false,
     "start_time": "2020-11-19T02:06:31.140376",
     "status": "completed"
    },
    "tags": []
   },
   "source": [
    "## Split the Data"
   ]
  },
  {
   "cell_type": "code",
   "execution_count": 21,
   "metadata": {
    "execution": {
     "iopub.execute_input": "2020-11-19T02:06:31.346947Z",
     "iopub.status.busy": "2020-11-19T02:06:31.346205Z",
     "iopub.status.idle": "2020-11-19T02:06:31.356939Z",
     "shell.execute_reply": "2020-11-19T02:06:31.356171Z"
    },
    "papermill": {
     "duration": 0.082331,
     "end_time": "2020-11-19T02:06:31.357071",
     "exception": false,
     "start_time": "2020-11-19T02:06:31.274740",
     "status": "completed"
    },
    "tags": []
   },
   "outputs": [],
   "source": [
    "price = bnb[\"price\"].copy() #Take the price as its own variable. That is what we are looking for\n",
    "price = np.log(price) #Take the log of the set for normalization"
   ]
  },
  {
   "cell_type": "code",
   "execution_count": 22,
   "metadata": {
    "execution": {
     "iopub.execute_input": "2020-11-19T02:06:31.498288Z",
     "iopub.status.busy": "2020-11-19T02:06:31.497493Z",
     "iopub.status.idle": "2020-11-19T02:06:31.522736Z",
     "shell.execute_reply": "2020-11-19T02:06:31.521133Z"
    },
    "papermill": {
     "duration": 0.097859,
     "end_time": "2020-11-19T02:06:31.522912",
     "exception": false,
     "start_time": "2020-11-19T02:06:31.425053",
     "status": "completed"
    },
    "tags": []
   },
   "outputs": [
    {
     "name": "stdout",
     "output_type": "stream",
     "text": [
      "              id                                               name  \\\n",
      "1845    42513939                                  Almost Heaven Too   \n",
      "1846    42513942                                      Almost Heaven   \n",
      "1950    43924301  Haw Creek Escape: Right on the doorstep of Dow...   \n",
      "9432    36868625                            Sapphire on Lake Austin   \n",
      "55106   18635070  4 Bedrooms! New Listing! Pool! Ocean Views! Go...   \n",
      "56120   20472161                                Royal Kailua Estate   \n",
      "56173   20475425                                     Thousand Waves   \n",
      "56176   20475538              The Sullivan Estate & JK7 SPA Retreat   \n",
      "57668   22635984  Dancing Bamboo Cottage - Minutes from Hawaii V...   \n",
      "58512   24231447                               Kailua Shores Estate   \n",
      "60450   28487396                                  Kauhale Pilialoha   \n",
      "61834   30963153  Kamaole Sands #9-207 Tastefully Decorated 1Bd/...   \n",
      "61875   30963343  Kihei Bay Surf #257 Remodeled 2nd Flr Studio, ...   \n",
      "61913   30963476  Maui Banyan #Q403 1Bd/1Ba Partial Ocean View, ...   \n",
      "61925   30963529  Maui Banyan #Q-403A Partial Ocean View Studio,...   \n",
      "61941   30963596  Wailea Point 3401 Exclusive Gated Complex on W...   \n",
      "61943   30963600  Maui Kamaole #J-103 1Bd/2Ba Ground Floor, A/C,...   \n",
      "64199   34370737  Welcome to Hale Iolani Ohana in Sunny Hawaiian...   \n",
      "65505   37326893  ESPACIO:  The Jewel of Waikiki. Unparalleled L...   \n",
      "68492   42066564  Best Luxury Condo on the Beach North Shore - H...   \n",
      "69986   44152399  Lai Nani Luxurious Oceanfront Vacation Rental ...   \n",
      "70013   44196949                       NEW LISTING! Western Sunview   \n",
      "83973   20470251                                       Shadow Hills   \n",
      "83981   20470689                                  Chateau de Laurel   \n",
      "83989   20471072                                     Bellagio Grand   \n",
      "83994   20471591                                         Casablanca   \n",
      "84194   20731216                               Laurel Grand Nouveau   \n",
      "87861   25870451                                        Petra Manor   \n",
      "87864   25870842                                          Hillcrest   \n",
      "90582   30146849                                      Moda di Ombra   \n",
      "93283   34309250                                   Villa Martinique   \n",
      "95160   37023857    Peninsula Beverly Hills ‚Äì The Peninsula Villa   \n",
      "96573   38839762             Viceroy L'Ermitage, Presidential Suite   \n",
      "99503   41773858                                         Orum House   \n",
      "99822   42117412  Sweeping Ocean Views, Open Concept, Pool/Spa &...   \n",
      "116369  42092549  Be a Local: Luxury Condo in Heart of the City ...   \n",
      "185680  17942957     Beautiful Oceanfront Home w/ World Class Views   \n",
      "185699  17975375  Charming Cottage,Ocean Views & Hot Tub, Steps ...   \n",
      "185728  17975467  Beach Cottage w/ Outdoor Living, Walk to Beach...   \n",
      "185734  17975484        Great Family Home w/ Ocean Views & Hot Tub!   \n",
      "185735  17975487  Great Cottage w/ Outdoor Living, Spa, Walk to ...   \n",
      "185747  17975936  La Jolla Shores Penthouse, Steps to Beach + Vi...   \n",
      "186274  19603106  20% OFF JULY - Gorgeous w/ Shared Pool+SPA, Oc...   \n",
      "186326  19699777    Charming Home, Ocean Views, Walk to Everything!   \n",
      "191364  37326978  Bayside Breezes, Central Location and Surround...   \n",
      "191365  37326996  Bayside Breezes, Central Location and Surround...   \n",
      "191366  37327015  Bayside Breezes, Central Location and Surround...   \n",
      "213642  19651062  ** SUPER BOWL 2018**1/2m from lightrail Green ...   \n",
      "\n",
      "           hostId              hostName            neighGroup  \\\n",
      "1845    303909632                Thomas                 Other   \n",
      "1846    303909632                Thomas                 Other   \n",
      "1950     96187307                 Steve                 Other   \n",
      "9432    210733801                 Above                 Other   \n",
      "55106      680107                 Kahea                Hawaii   \n",
      "56120   239633467           Christopher              Honolulu   \n",
      "56173   196672337                 Jodie                  Maui   \n",
      "56176   186139965                 Karin              Honolulu   \n",
      "57668      680107                 Kahea                Hawaii   \n",
      "58512   107293305         Elite Pacific              Honolulu   \n",
      "60450   227169052               Kauhale                Hawaii   \n",
      "61834    51017586          Rentals Maui                  Maui   \n",
      "61875    51017586          Rentals Maui                  Maui   \n",
      "61913    51017586          Rentals Maui                  Maui   \n",
      "61925    51017586          Rentals Maui                  Maui   \n",
      "61941    51017586          Rentals Maui                  Maui   \n",
      "61943    51017586          Rentals Maui                  Maui   \n",
      "64199      680107                 Kahea                Hawaii   \n",
      "65505   132087088            Maui Condo              Honolulu   \n",
      "68492      680107                 Kahea              Honolulu   \n",
      "69986   352781868               Jessica                Hawaii   \n",
      "70013   168774356            Red Awning                Hawaii   \n",
      "83973    23458477                Marina          Other Cities   \n",
      "83981    23458477                Marina          Other Cities   \n",
      "83989    23458477                Marina   City of Los Angeles   \n",
      "83994    23458477                Marina          Other Cities   \n",
      "84194    23458477                Marina          Other Cities   \n",
      "87861   198255538                Stuart  Unincorporated Areas   \n",
      "87864    18269822                  Brad          Other Cities   \n",
      "90582   202589353                  Nina          Other Cities   \n",
      "93283    23458477                Marina   City of Los Angeles   \n",
      "95160   271635796                 Emily          Other Cities   \n",
      "96573   296569793  Viceroy L‚ÄôErmitage          Other Cities   \n",
      "99503    23458477                Marina   City of Los Angeles   \n",
      "99822   122055416             SeaBreeze          Other Cities   \n",
      "116369  326237403                  John                 Other   \n",
      "185680  122055416             SeaBreeze                 Other   \n",
      "185699  122055416             SeaBreeze                 Other   \n",
      "185728  122055416             SeaBreeze                 Other   \n",
      "185734  122055416             SeaBreeze                 Other   \n",
      "185735  122055416             SeaBreeze                 Other   \n",
      "185747  122055416             SeaBreeze                 Other   \n",
      "186274  122055416             SeaBreeze                 Other   \n",
      "186326  122055416             SeaBreeze                 Other   \n",
      "191364  122055416             SeaBreeze                 Other   \n",
      "191365  122055416             SeaBreeze                 Other   \n",
      "191366  122055416             SeaBreeze                 Other   \n",
      "213642   28014871                   Ann                 Other   \n",
      "\n",
      "                                        neigh  latitude  longitude  \\\n",
      "1845                                    28704  35.46876  -82.50776   \n",
      "1846                                    28704  35.46809  -82.50764   \n",
      "1950                                    28805  35.59742  -82.50561   \n",
      "9432                                    78733  30.33455  -97.84607   \n",
      "55106                              North Kona  19.64033 -155.96396   \n",
      "56120                              Koolaupoko  21.40407 -157.73859   \n",
      "56173                                 Lahaina  20.93563 -156.69214   \n",
      "56176                        North Shore Oahu  21.65072 -158.05930   \n",
      "57668                                    Puna  19.43983 -155.17562   \n",
      "58512                              Koolaupoko  21.39893 -157.73526   \n",
      "60450                            South Kohala  19.99660 -155.82746   \n",
      "61834                            Kihei-Makena  20.71318 -156.44628   \n",
      "61875                            Kihei-Makena  20.76440 -156.45754   \n",
      "61913                            Kihei-Makena  20.71527 -156.44490   \n",
      "61925                            Kihei-Makena  20.71634 -156.44475   \n",
      "61941                            Kihei-Makena  20.67726 -156.43981   \n",
      "61943                            Kihei-Makena  20.70799 -156.44274   \n",
      "64199                                    Puna  19.57072 -154.97023   \n",
      "65505                    Primary Urban Center  21.27467 -157.82394   \n",
      "68492                        North Shore Oahu  21.59032 -158.10999   \n",
      "69986                              North Hilo  19.90520 -155.13473   \n",
      "70013                            South Kohala  19.99751 -155.82779   \n",
      "83973                           Beverly Hills  34.09211 -118.41405   \n",
      "83981                           Beverly Hills  34.08937 -118.41748   \n",
      "83989                                 Bel-Air  34.07674 -118.45479   \n",
      "83994                           Beverly Hills  34.08407 -118.40967   \n",
      "84194                           Beverly Hills  34.08634 -118.41469   \n",
      "87861   Unincorporated Santa Monica Mountains  34.04709 -118.68484   \n",
      "87864                           Beverly Hills  34.09047 -118.39893   \n",
      "90582                           Beverly Hills  34.09237 -118.41440   \n",
      "93283                                 Bel-Air  34.08433 -118.43577   \n",
      "95160                           Beverly Hills  34.06518 -118.41077   \n",
      "96573                           Beverly Hills  34.07235 -118.39654   \n",
      "99503                                 Bel-Air  34.08763 -118.46619   \n",
      "99822                                  Malibu  34.04636 -118.88479   \n",
      "116369                             Holy Cross  29.95922  -90.02681   \n",
      "185680                               La Jolla  32.82770 -117.27854   \n",
      "185699                               La Jolla  32.83648 -117.28002   \n",
      "185728                               La Jolla  32.83070 -117.27486   \n",
      "185734                               La Jolla  32.84968 -117.26263   \n",
      "185735                               La Jolla  32.83624 -117.27715   \n",
      "185747                               La Jolla  32.85407 -117.25565   \n",
      "186274                        Del Mar Heights  32.93688 -117.25315   \n",
      "186326                               La Jolla  32.84895 -117.26137   \n",
      "191364                            Mission Bay  32.78185 -117.25117   \n",
      "191365                            Mission Bay  32.78393 -117.25120   \n",
      "191366                            Mission Bay  32.78206 -117.25186   \n",
      "213642                                 Ramsey  44.95133  -93.18553   \n",
      "\n",
      "               roomType  price  minNights  numReviews lastReview  \\\n",
      "1845    Entire home/apt  24999          2           5 2020-09-08   \n",
      "1846    Entire home/apt  24999          2           4 2020-06-29   \n",
      "1950    Entire home/apt  24999          2           0 2001-01-01   \n",
      "9432    Entire home/apt  11373         99           0 2001-01-01   \n",
      "55106   Entire home/apt  24999          3           2 2018-04-13   \n",
      "56120   Entire home/apt  20000         30           0 2001-01-01   \n",
      "56173   Entire home/apt  11000          7           0 2001-01-01   \n",
      "56176   Entire home/apt  24600         30           0 2001-01-01   \n",
      "57668   Entire home/apt  24999          3           0 2001-01-01   \n",
      "58512   Entire home/apt  10500         30           0 2001-01-01   \n",
      "60450   Entire home/apt  15000          7           0 2001-01-01   \n",
      "61834   Entire home/apt  24999          3           0 2001-01-01   \n",
      "61875   Entire home/apt  24999          3           0 2001-01-01   \n",
      "61913   Entire home/apt  24999          3           2 2019-06-08   \n",
      "61925   Entire home/apt  24999          3           0 2001-01-01   \n",
      "61941   Entire home/apt  24999         30           0 2001-01-01   \n",
      "61943   Entire home/apt  24999          3           0 2001-01-01   \n",
      "64199   Entire home/apt  24999          3           0 2001-01-01   \n",
      "65505   Entire home/apt  24999          5           0 2001-01-01   \n",
      "68492   Entire home/apt  24999          3           0 2001-01-01   \n",
      "69986   Entire home/apt  24999          3           0 2001-01-01   \n",
      "70013   Entire home/apt  11500          1           0 2001-01-01   \n",
      "83973   Entire home/apt  12500          7           0 2001-01-01   \n",
      "83981   Entire home/apt  11799          3           0 2001-01-01   \n",
      "83989   Entire home/apt  21053         30           0 2001-01-01   \n",
      "83994   Entire home/apt  11000         30           0 2001-01-01   \n",
      "84194   Entire home/apt  15339          1           0 2001-01-01   \n",
      "87861   Entire home/apt  14500          3           0 2001-01-01   \n",
      "87864   Entire home/apt  12750          3           0 2001-01-01   \n",
      "90582   Entire home/apt  15000          4           0 2001-01-01   \n",
      "93283   Entire home/apt  15000         30           0 2001-01-01   \n",
      "95160      Private room  11500          3           0 2001-01-01   \n",
      "96573      Private room  15000          1           0 2001-01-01   \n",
      "99503   Entire home/apt  18000         30           0 2001-01-01   \n",
      "99822   Entire home/apt  24999          3           0 2001-01-01   \n",
      "116369  Entire home/apt  10500          2           3 2020-01-03   \n",
      "185680  Entire home/apt  24999          3           4 2019-11-11   \n",
      "185699  Entire home/apt  24999          3           5 2020-04-20   \n",
      "185728  Entire home/apt  24999          3          17 2019-12-16   \n",
      "185734  Entire home/apt  24999          3           2 2019-04-01   \n",
      "185735  Entire home/apt  24999          3           4 2019-11-08   \n",
      "185747  Entire home/apt  24999          3           0 2001-01-01   \n",
      "186274  Entire home/apt  24999          3           0 2001-01-01   \n",
      "186326  Entire home/apt  24999          3           7 2020-05-25   \n",
      "191364  Entire home/apt  24999          3           0 2001-01-01   \n",
      "191365  Entire home/apt  24999          3           0 2001-01-01   \n",
      "191366  Entire home/apt  24999          3           0 2001-01-01   \n",
      "213642  Entire home/apt  15000          5           0 2001-01-01   \n",
      "\n",
      "        monthlyReviews  numListings  available         city  \n",
      "1845              1.55            4        253    Asheville  \n",
      "1846              0.62            4        258    Asheville  \n",
      "1950              0.00           26        236    Asheville  \n",
      "9432              0.00           44        151       Austin  \n",
      "55106             0.06          127          0       Hawaii  \n",
      "56120             0.00            1        337       Hawaii  \n",
      "56173             0.00            3        349       Hawaii  \n",
      "56176             0.00            1        365       Hawaii  \n",
      "57668             0.00          127          0       Hawaii  \n",
      "58512             0.00          181        332       Hawaii  \n",
      "60450             0.00            1        313       Hawaii  \n",
      "61834             0.00          215          0       Hawaii  \n",
      "61875             0.00          215          0       Hawaii  \n",
      "61913             0.12          215          0       Hawaii  \n",
      "61925             0.00          215          0       Hawaii  \n",
      "61941             0.00          215        222       Hawaii  \n",
      "61943             0.00          215          0       Hawaii  \n",
      "64199             0.00          127          0       Hawaii  \n",
      "65505             0.00          195          0       Hawaii  \n",
      "68492             0.00          127          0       Hawaii  \n",
      "69986             0.00            9          0       Hawaii  \n",
      "70013             0.00           14         72       Hawaii  \n",
      "83973             0.00           26        252  Los Angeles  \n",
      "83981             0.00           26        363  Los Angeles  \n",
      "83989             0.00           26        363  Los Angeles  \n",
      "83994             0.00           26        363  Los Angeles  \n",
      "84194             0.00           26        363  Los Angeles  \n",
      "87861             0.00            7        113  Los Angeles  \n",
      "87864             0.00            2        363  Los Angeles  \n",
      "90582             0.00            1        178  Los Angeles  \n",
      "93283             0.00           26        363  Los Angeles  \n",
      "95160             0.00            3        363  Los Angeles  \n",
      "96573             0.00           11         43  Los Angeles  \n",
      "99503             0.00           26        365  Los Angeles  \n",
      "99822             0.00           11          2  Los Angeles  \n",
      "116369            0.43            9          0  New Orleans  \n",
      "185680            0.10          166          0    San Diego  \n",
      "185699            0.22          166          0    San Diego  \n",
      "185728            0.46          166          0    San Diego  \n",
      "185734            0.07          166          0    San Diego  \n",
      "185735            0.10          166          0    San Diego  \n",
      "185747            0.00          166        261    San Diego  \n",
      "186274            0.00          166        314    San Diego  \n",
      "186326            0.27          166          0    San Diego  \n",
      "191364            0.00          166          0    San Diego  \n",
      "191365            0.00          166          0    San Diego  \n",
      "191366            0.00          166          0    San Diego  \n",
      "213642            0.00            1        363  Minneapolis  \n"
     ]
    }
   ],
   "source": [
    "print(bnb.loc[bnb[\"price\"] > 10000])"
   ]
  },
  {
   "cell_type": "code",
   "execution_count": 23,
   "metadata": {
    "execution": {
     "iopub.execute_input": "2020-11-19T02:06:31.665823Z",
     "iopub.status.busy": "2020-11-19T02:06:31.665027Z",
     "iopub.status.idle": "2020-11-19T02:06:31.755817Z",
     "shell.execute_reply": "2020-11-19T02:06:31.755063Z"
    },
    "papermill": {
     "duration": 0.164581,
     "end_time": "2020-11-19T02:06:31.755939",
     "exception": false,
     "start_time": "2020-11-19T02:06:31.591358",
     "status": "completed"
    },
    "tags": []
   },
   "outputs": [
    {
     "data": {
      "text/html": [
       "<div>\n",
       "<style scoped>\n",
       "    .dataframe tbody tr th:only-of-type {\n",
       "        vertical-align: middle;\n",
       "    }\n",
       "\n",
       "    .dataframe tbody tr th {\n",
       "        vertical-align: top;\n",
       "    }\n",
       "\n",
       "    .dataframe thead th {\n",
       "        text-align: right;\n",
       "    }\n",
       "</style>\n",
       "<table border=\"1\" class=\"dataframe\">\n",
       "  <thead>\n",
       "    <tr style=\"text-align: right;\">\n",
       "      <th></th>\n",
       "      <th>id</th>\n",
       "      <th>name</th>\n",
       "      <th>hostId</th>\n",
       "      <th>hostName</th>\n",
       "      <th>neighGroup</th>\n",
       "      <th>neigh</th>\n",
       "      <th>latitude</th>\n",
       "      <th>longitude</th>\n",
       "      <th>roomType</th>\n",
       "      <th>minNights</th>\n",
       "      <th>numReviews</th>\n",
       "      <th>lastReview</th>\n",
       "      <th>monthlyReviews</th>\n",
       "      <th>numListings</th>\n",
       "      <th>available</th>\n",
       "      <th>city</th>\n",
       "    </tr>\n",
       "  </thead>\n",
       "  <tbody>\n",
       "    <tr>\n",
       "      <th>0</th>\n",
       "      <td>38585</td>\n",
       "      <td>Charming Victorian home - twin beds + breakfast</td>\n",
       "      <td>165529</td>\n",
       "      <td>Evelyne</td>\n",
       "      <td>Other</td>\n",
       "      <td>28804</td>\n",
       "      <td>35.65146</td>\n",
       "      <td>-82.62792</td>\n",
       "      <td>Private room</td>\n",
       "      <td>1</td>\n",
       "      <td>138</td>\n",
       "      <td>2020-02-16</td>\n",
       "      <td>1.14</td>\n",
       "      <td>1</td>\n",
       "      <td>0</td>\n",
       "      <td>Asheville</td>\n",
       "    </tr>\n",
       "    <tr>\n",
       "      <th>1</th>\n",
       "      <td>80905</td>\n",
       "      <td>French Chic Loft</td>\n",
       "      <td>427027</td>\n",
       "      <td>Celeste</td>\n",
       "      <td>Other</td>\n",
       "      <td>28801</td>\n",
       "      <td>35.59779</td>\n",
       "      <td>-82.55540</td>\n",
       "      <td>Entire home/apt</td>\n",
       "      <td>1</td>\n",
       "      <td>114</td>\n",
       "      <td>2020-07-09</td>\n",
       "      <td>1.03</td>\n",
       "      <td>11</td>\n",
       "      <td>288</td>\n",
       "      <td>Asheville</td>\n",
       "    </tr>\n",
       "    <tr>\n",
       "      <th>2</th>\n",
       "      <td>108061</td>\n",
       "      <td>Walk to stores/parks/downtown. Fenced yard/Pet...</td>\n",
       "      <td>320564</td>\n",
       "      <td>Lisa</td>\n",
       "      <td>Other</td>\n",
       "      <td>28801</td>\n",
       "      <td>35.60670</td>\n",
       "      <td>-82.55563</td>\n",
       "      <td>Entire home/apt</td>\n",
       "      <td>30</td>\n",
       "      <td>89</td>\n",
       "      <td>2019-11-30</td>\n",
       "      <td>0.81</td>\n",
       "      <td>2</td>\n",
       "      <td>298</td>\n",
       "      <td>Asheville</td>\n",
       "    </tr>\n",
       "    <tr>\n",
       "      <th>3</th>\n",
       "      <td>155305</td>\n",
       "      <td>Cottage! BonPaul + Sharky's Hostel</td>\n",
       "      <td>746673</td>\n",
       "      <td>BonPaul</td>\n",
       "      <td>Other</td>\n",
       "      <td>28806</td>\n",
       "      <td>35.57864</td>\n",
       "      <td>-82.59578</td>\n",
       "      <td>Entire home/apt</td>\n",
       "      <td>1</td>\n",
       "      <td>267</td>\n",
       "      <td>2020-09-22</td>\n",
       "      <td>2.39</td>\n",
       "      <td>5</td>\n",
       "      <td>0</td>\n",
       "      <td>Asheville</td>\n",
       "    </tr>\n",
       "    <tr>\n",
       "      <th>4</th>\n",
       "      <td>160594</td>\n",
       "      <td>Historic Grove Park</td>\n",
       "      <td>769252</td>\n",
       "      <td>Elizabeth</td>\n",
       "      <td>Other</td>\n",
       "      <td>28801</td>\n",
       "      <td>35.61442</td>\n",
       "      <td>-82.54127</td>\n",
       "      <td>Private room</td>\n",
       "      <td>30</td>\n",
       "      <td>58</td>\n",
       "      <td>2015-10-19</td>\n",
       "      <td>0.52</td>\n",
       "      <td>1</td>\n",
       "      <td>0</td>\n",
       "      <td>Asheville</td>\n",
       "    </tr>\n",
       "  </tbody>\n",
       "</table>\n",
       "</div>"
      ],
      "text/plain": [
       "       id                                               name  hostId  \\\n",
       "0   38585    Charming Victorian home - twin beds + breakfast  165529   \n",
       "1   80905                                   French Chic Loft  427027   \n",
       "2  108061  Walk to stores/parks/downtown. Fenced yard/Pet...  320564   \n",
       "3  155305                 Cottage! BonPaul + Sharky's Hostel  746673   \n",
       "4  160594                                Historic Grove Park  769252   \n",
       "\n",
       "    hostName neighGroup  neigh  latitude  longitude         roomType  \\\n",
       "0    Evelyne      Other  28804  35.65146  -82.62792     Private room   \n",
       "1    Celeste      Other  28801  35.59779  -82.55540  Entire home/apt   \n",
       "2       Lisa      Other  28801  35.60670  -82.55563  Entire home/apt   \n",
       "3    BonPaul      Other  28806  35.57864  -82.59578  Entire home/apt   \n",
       "4  Elizabeth      Other  28801  35.61442  -82.54127     Private room   \n",
       "\n",
       "   minNights  numReviews lastReview  monthlyReviews  numListings  available  \\\n",
       "0          1         138 2020-02-16            1.14            1          0   \n",
       "1          1         114 2020-07-09            1.03           11        288   \n",
       "2         30          89 2019-11-30            0.81            2        298   \n",
       "3          1         267 2020-09-22            2.39            5          0   \n",
       "4         30          58 2015-10-19            0.52            1          0   \n",
       "\n",
       "        city  \n",
       "0  Asheville  \n",
       "1  Asheville  \n",
       "2  Asheville  \n",
       "3  Asheville  \n",
       "4  Asheville  "
      ]
     },
     "execution_count": 23,
     "metadata": {},
     "output_type": "execute_result"
    }
   ],
   "source": [
    "characteristics = bnb.copy() #Take a copy of the dataframe for usage\n",
    "characteristics = characteristics.drop(columns = {\"price\"}) #Remove the price, since we cannot predict price if it is already there\n",
    "characteristics.head() #Take a peek at the data without the price"
   ]
  },
  {
   "cell_type": "markdown",
   "metadata": {
    "papermill": {
     "duration": 0.069003,
     "end_time": "2020-11-19T02:06:31.893753",
     "exception": false,
     "start_time": "2020-11-19T02:06:31.824750",
     "status": "completed"
    },
    "tags": []
   },
   "source": [
    "There are several columns that I should not take into account here. The name and hostName columns are all considered categorical data filled with the entirely different values, so there is not nearly enough memory to handle pandas bringing that to dummies. The same goes for lastReview if left as a string. As a datetime (which I set it to), the scaler does not recognize it. Then there is neigh, which I actually tried to use. It turned fitting the model into an hour long endeavor due to it creating a lot of dummy variables and only increased accuracy by about 3%. The trade off for that one is not worth it."
   ]
  },
  {
   "cell_type": "code",
   "execution_count": 24,
   "metadata": {
    "execution": {
     "iopub.execute_input": "2020-11-19T02:06:32.040757Z",
     "iopub.status.busy": "2020-11-19T02:06:32.039965Z",
     "iopub.status.idle": "2020-11-19T02:06:32.065681Z",
     "shell.execute_reply": "2020-11-19T02:06:32.065063Z"
    },
    "papermill": {
     "duration": 0.1032,
     "end_time": "2020-11-19T02:06:32.065819",
     "exception": false,
     "start_time": "2020-11-19T02:06:31.962619",
     "status": "completed"
    },
    "tags": []
   },
   "outputs": [
    {
     "data": {
      "text/html": [
       "<div>\n",
       "<style scoped>\n",
       "    .dataframe tbody tr th:only-of-type {\n",
       "        vertical-align: middle;\n",
       "    }\n",
       "\n",
       "    .dataframe tbody tr th {\n",
       "        vertical-align: top;\n",
       "    }\n",
       "\n",
       "    .dataframe thead th {\n",
       "        text-align: right;\n",
       "    }\n",
       "</style>\n",
       "<table border=\"1\" class=\"dataframe\">\n",
       "  <thead>\n",
       "    <tr style=\"text-align: right;\">\n",
       "      <th></th>\n",
       "      <th>id</th>\n",
       "      <th>hostId</th>\n",
       "      <th>neighGroup</th>\n",
       "      <th>latitude</th>\n",
       "      <th>longitude</th>\n",
       "      <th>roomType</th>\n",
       "      <th>minNights</th>\n",
       "      <th>numReviews</th>\n",
       "      <th>monthlyReviews</th>\n",
       "      <th>numListings</th>\n",
       "      <th>available</th>\n",
       "      <th>city</th>\n",
       "    </tr>\n",
       "  </thead>\n",
       "  <tbody>\n",
       "    <tr>\n",
       "      <th>0</th>\n",
       "      <td>38585</td>\n",
       "      <td>165529</td>\n",
       "      <td>Other</td>\n",
       "      <td>35.65146</td>\n",
       "      <td>-82.62792</td>\n",
       "      <td>Private room</td>\n",
       "      <td>1</td>\n",
       "      <td>138</td>\n",
       "      <td>1.14</td>\n",
       "      <td>1</td>\n",
       "      <td>0</td>\n",
       "      <td>Asheville</td>\n",
       "    </tr>\n",
       "    <tr>\n",
       "      <th>1</th>\n",
       "      <td>80905</td>\n",
       "      <td>427027</td>\n",
       "      <td>Other</td>\n",
       "      <td>35.59779</td>\n",
       "      <td>-82.55540</td>\n",
       "      <td>Entire home/apt</td>\n",
       "      <td>1</td>\n",
       "      <td>114</td>\n",
       "      <td>1.03</td>\n",
       "      <td>11</td>\n",
       "      <td>288</td>\n",
       "      <td>Asheville</td>\n",
       "    </tr>\n",
       "    <tr>\n",
       "      <th>2</th>\n",
       "      <td>108061</td>\n",
       "      <td>320564</td>\n",
       "      <td>Other</td>\n",
       "      <td>35.60670</td>\n",
       "      <td>-82.55563</td>\n",
       "      <td>Entire home/apt</td>\n",
       "      <td>30</td>\n",
       "      <td>89</td>\n",
       "      <td>0.81</td>\n",
       "      <td>2</td>\n",
       "      <td>298</td>\n",
       "      <td>Asheville</td>\n",
       "    </tr>\n",
       "    <tr>\n",
       "      <th>3</th>\n",
       "      <td>155305</td>\n",
       "      <td>746673</td>\n",
       "      <td>Other</td>\n",
       "      <td>35.57864</td>\n",
       "      <td>-82.59578</td>\n",
       "      <td>Entire home/apt</td>\n",
       "      <td>1</td>\n",
       "      <td>267</td>\n",
       "      <td>2.39</td>\n",
       "      <td>5</td>\n",
       "      <td>0</td>\n",
       "      <td>Asheville</td>\n",
       "    </tr>\n",
       "    <tr>\n",
       "      <th>4</th>\n",
       "      <td>160594</td>\n",
       "      <td>769252</td>\n",
       "      <td>Other</td>\n",
       "      <td>35.61442</td>\n",
       "      <td>-82.54127</td>\n",
       "      <td>Private room</td>\n",
       "      <td>30</td>\n",
       "      <td>58</td>\n",
       "      <td>0.52</td>\n",
       "      <td>1</td>\n",
       "      <td>0</td>\n",
       "      <td>Asheville</td>\n",
       "    </tr>\n",
       "  </tbody>\n",
       "</table>\n",
       "</div>"
      ],
      "text/plain": [
       "       id  hostId neighGroup  latitude  longitude         roomType  minNights  \\\n",
       "0   38585  165529      Other  35.65146  -82.62792     Private room          1   \n",
       "1   80905  427027      Other  35.59779  -82.55540  Entire home/apt          1   \n",
       "2  108061  320564      Other  35.60670  -82.55563  Entire home/apt         30   \n",
       "3  155305  746673      Other  35.57864  -82.59578  Entire home/apt          1   \n",
       "4  160594  769252      Other  35.61442  -82.54127     Private room         30   \n",
       "\n",
       "   numReviews  monthlyReviews  numListings  available       city  \n",
       "0         138            1.14            1          0  Asheville  \n",
       "1         114            1.03           11        288  Asheville  \n",
       "2          89            0.81            2        298  Asheville  \n",
       "3         267            2.39            5          0  Asheville  \n",
       "4          58            0.52            1          0  Asheville  "
      ]
     },
     "execution_count": 24,
     "metadata": {},
     "output_type": "execute_result"
    }
   ],
   "source": [
    "charact = characteristics.drop(columns = {\"name\", \"hostName\",  \"neigh\", \"lastReview\"}) #Remove the variables discussed above\n",
    "charact.head() #Take a peek at the data after removing the variables"
   ]
  },
  {
   "cell_type": "code",
   "execution_count": 25,
   "metadata": {
    "execution": {
     "iopub.execute_input": "2020-11-19T02:06:32.239553Z",
     "iopub.status.busy": "2020-11-19T02:06:32.213344Z",
     "iopub.status.idle": "2020-11-19T02:06:32.861927Z",
     "shell.execute_reply": "2020-11-19T02:06:32.861278Z"
    },
    "papermill": {
     "duration": 0.726005,
     "end_time": "2020-11-19T02:06:32.862054",
     "exception": false,
     "start_time": "2020-11-19T02:06:32.136049",
     "status": "completed"
    },
    "tags": []
   },
   "outputs": [],
   "source": [
    "charact = pd.get_dummies(charact) #Get the dummies for easier model training\n",
    "scale = StandardScaler() #Add a standard scaler to scale our data for easier use later\n",
    "scale.fit(charact) #Fit the scaler with our characteristics\n",
    "chara = scale.transform(charact) #Transform the data with our scaler"
   ]
  },
  {
   "cell_type": "code",
   "execution_count": 26,
   "metadata": {
    "execution": {
     "iopub.execute_input": "2020-11-19T02:06:33.011296Z",
     "iopub.status.busy": "2020-11-19T02:06:33.010395Z",
     "iopub.status.idle": "2020-11-19T02:06:33.014461Z",
     "shell.execute_reply": "2020-11-19T02:06:33.013757Z"
    },
    "papermill": {
     "duration": 0.07997,
     "end_time": "2020-11-19T02:06:33.014585",
     "exception": false,
     "start_time": "2020-11-19T02:06:32.934615",
     "status": "completed"
    },
    "tags": []
   },
   "outputs": [
    {
     "name": "stdout",
     "output_type": "stream",
     "text": [
      "68\n"
     ]
    }
   ],
   "source": [
    "print(len(chara[0])) #Print the scaled data"
   ]
  },
  {
   "cell_type": "code",
   "execution_count": 27,
   "metadata": {
    "execution": {
     "iopub.execute_input": "2020-11-19T02:06:33.168723Z",
     "iopub.status.busy": "2020-11-19T02:06:33.167966Z",
     "iopub.status.idle": "2020-11-19T02:06:33.356029Z",
     "shell.execute_reply": "2020-11-19T02:06:33.356648Z"
    },
    "papermill": {
     "duration": 0.271614,
     "end_time": "2020-11-19T02:06:33.356815",
     "exception": false,
     "start_time": "2020-11-19T02:06:33.085201",
     "status": "completed"
    },
    "tags": []
   },
   "outputs": [
    {
     "name": "stdout",
     "output_type": "stream",
     "text": [
      "112654    6.163315\n",
      "123130    4.382027\n",
      "153595    3.912023\n",
      "210142    5.068904\n",
      "10093     6.018593\n",
      "            ...   \n",
      "221833    4.043051\n",
      "56000     5.820083\n",
      "78214     4.442651\n",
      "188518    5.978886\n",
      "25565     7.021976\n",
      "Name: price, Length: 22603, dtype: float64\n"
     ]
    }
   ],
   "source": [
    "charaTrain, charaTest, priceTrain, priceTest = train_test_split(chara, price, test_size = 0.1) #Split the data into train and test\n",
    "print(priceTest) #Print one of the splits"
   ]
  },
  {
   "cell_type": "markdown",
   "metadata": {
    "papermill": {
     "duration": 0.070488,
     "end_time": "2020-11-19T02:06:33.498635",
     "exception": false,
     "start_time": "2020-11-19T02:06:33.428147",
     "status": "completed"
    },
    "tags": []
   },
   "source": [
    "## Fit the Forest Regressor"
   ]
  },
  {
   "cell_type": "code",
   "execution_count": 28,
   "metadata": {
    "execution": {
     "iopub.execute_input": "2020-11-19T02:06:33.646151Z",
     "iopub.status.busy": "2020-11-19T02:06:33.645350Z",
     "iopub.status.idle": "2020-11-19T02:13:58.457331Z",
     "shell.execute_reply": "2020-11-19T02:13:58.457933Z"
    },
    "papermill": {
     "duration": 444.88853,
     "end_time": "2020-11-19T02:13:58.458101",
     "exception": false,
     "start_time": "2020-11-19T02:06:33.569571",
     "status": "completed"
    },
    "tags": []
   },
   "outputs": [
    {
     "data": {
      "text/plain": [
       "RandomForestRegressor(n_estimators=150)"
      ]
     },
     "execution_count": 28,
     "metadata": {},
     "output_type": "execute_result"
    }
   ],
   "source": [
    "forest = RandomForestRegressor(n_estimators = 150) #Build a whole forest of trees\n",
    "forest.fit(charaTrain, priceTrain) #Fit the forest"
   ]
  },
  {
   "cell_type": "code",
   "execution_count": 29,
   "metadata": {
    "execution": {
     "iopub.execute_input": "2020-11-19T02:13:58.607610Z",
     "iopub.status.busy": "2020-11-19T02:13:58.606295Z",
     "iopub.status.idle": "2020-11-19T02:14:00.769915Z",
     "shell.execute_reply": "2020-11-19T02:14:00.769164Z"
    },
    "papermill": {
     "duration": 2.240145,
     "end_time": "2020-11-19T02:14:00.770037",
     "exception": false,
     "start_time": "2020-11-19T02:13:58.529892",
     "status": "completed"
    },
    "tags": []
   },
   "outputs": [],
   "source": [
    "predict = forest.predict(charaTest) #Get the predictions for RMSE"
   ]
  },
  {
   "cell_type": "code",
   "execution_count": 30,
   "metadata": {
    "execution": {
     "iopub.execute_input": "2020-11-19T02:14:00.922564Z",
     "iopub.status.busy": "2020-11-19T02:14:00.921674Z",
     "iopub.status.idle": "2020-11-19T02:14:05.278458Z",
     "shell.execute_reply": "2020-11-19T02:14:05.277209Z"
    },
    "papermill": {
     "duration": 4.436174,
     "end_time": "2020-11-19T02:14:05.278716",
     "exception": false,
     "start_time": "2020-11-19T02:14:00.842542",
     "status": "completed"
    },
    "tags": []
   },
   "outputs": [
    {
     "name": "stdout",
     "output_type": "stream",
     "text": [
      "Forest Accuracy:  0.5976821029648307\n",
      "Root Mean Square Error:  0.5385343004041514\n"
     ]
    }
   ],
   "source": [
    "overallAccuracy = (\"Overall\", forest.score(charaTest, priceTest)) #Get the overall accuracy\n",
    "print(\"Forest Accuracy: \", forest.score(charaTest, priceTest)) #Print the accuracy\n",
    "print(\"Root Mean Square Error: \", np.sqrt(mean_squared_error(priceTest, predict))) #Print the root mean square error"
   ]
  },
  {
   "cell_type": "code",
   "execution_count": 31,
   "metadata": {
    "execution": {
     "iopub.execute_input": "2020-11-19T02:14:05.435936Z",
     "iopub.status.busy": "2020-11-19T02:14:05.435159Z",
     "iopub.status.idle": "2020-11-19T02:14:05.929341Z",
     "shell.execute_reply": "2020-11-19T02:14:05.928507Z"
    },
    "papermill": {
     "duration": 0.575969,
     "end_time": "2020-11-19T02:14:05.929476",
     "exception": false,
     "start_time": "2020-11-19T02:14:05.353507",
     "status": "completed"
    },
    "tags": []
   },
   "outputs": [
    {
     "name": "stdout",
     "output_type": "stream",
     "text": [
      "According to the Random Forest (most accurate), the most important factors for pricing are: \n",
      "roomType_Entire home/apt\n",
      "longitude\n",
      "latitude\n",
      "id\n",
      "monthlyReviews\n"
     ]
    }
   ],
   "source": [
    "attributes = charact.columns #Get the tested attributes\n",
    "attributes = list(zip(attributes, forest.feature_importances_)) #Zip the attributes together with their coefficient\n",
    "sortAtt = sorted(attributes, key = lambda x: x[1], reverse = True) #Sort the zipped attributes by their coefficients\n",
    "\n",
    "print(\"According to the Random Forest (most accurate), the most important factors for pricing are: \") #Start printing the most important labels\n",
    "i=0 #Counter variable so only the top five are printed\n",
    "\n",
    "#For each attribute in the sorted attributes\n",
    "for label, coef in sortAtt:\n",
    "    if i<5: #If there has not been five printed yet\n",
    "        print(label) #Print the label as an important factor\n",
    "    i += 1 #Increase i by 1"
   ]
  },
  {
   "cell_type": "code",
   "execution_count": 32,
   "metadata": {
    "execution": {
     "iopub.execute_input": "2020-11-19T02:14:06.088938Z",
     "iopub.status.busy": "2020-11-19T02:14:06.082601Z",
     "iopub.status.idle": "2020-11-19T02:14:06.093257Z",
     "shell.execute_reply": "2020-11-19T02:14:06.093778Z"
    },
    "papermill": {
     "duration": 0.09106,
     "end_time": "2020-11-19T02:14:06.093931",
     "exception": false,
     "start_time": "2020-11-19T02:14:06.002871",
     "status": "completed"
    },
    "tags": []
   },
   "outputs": [
    {
     "data": {
      "text/html": [
       "<div>\n",
       "<style scoped>\n",
       "    .dataframe tbody tr th:only-of-type {\n",
       "        vertical-align: middle;\n",
       "    }\n",
       "\n",
       "    .dataframe tbody tr th {\n",
       "        vertical-align: top;\n",
       "    }\n",
       "\n",
       "    .dataframe thead th {\n",
       "        text-align: right;\n",
       "    }\n",
       "</style>\n",
       "<table border=\"1\" class=\"dataframe\">\n",
       "  <thead>\n",
       "    <tr style=\"text-align: right;\">\n",
       "      <th></th>\n",
       "      <th>truePrice</th>\n",
       "      <th>predPrice</th>\n",
       "    </tr>\n",
       "  </thead>\n",
       "  <tbody>\n",
       "    <tr>\n",
       "      <th>0</th>\n",
       "      <td>6.163315</td>\n",
       "      <td>5.068329</td>\n",
       "    </tr>\n",
       "    <tr>\n",
       "      <th>1</th>\n",
       "      <td>4.382027</td>\n",
       "      <td>4.701749</td>\n",
       "    </tr>\n",
       "    <tr>\n",
       "      <th>2</th>\n",
       "      <td>3.912023</td>\n",
       "      <td>4.173163</td>\n",
       "    </tr>\n",
       "    <tr>\n",
       "      <th>3</th>\n",
       "      <td>5.068904</td>\n",
       "      <td>4.860417</td>\n",
       "    </tr>\n",
       "    <tr>\n",
       "      <th>4</th>\n",
       "      <td>6.018593</td>\n",
       "      <td>5.990098</td>\n",
       "    </tr>\n",
       "    <tr>\n",
       "      <th>5</th>\n",
       "      <td>5.298317</td>\n",
       "      <td>4.749062</td>\n",
       "    </tr>\n",
       "    <tr>\n",
       "      <th>6</th>\n",
       "      <td>6.131226</td>\n",
       "      <td>5.878830</td>\n",
       "    </tr>\n",
       "    <tr>\n",
       "      <th>7</th>\n",
       "      <td>6.309918</td>\n",
       "      <td>5.393106</td>\n",
       "    </tr>\n",
       "    <tr>\n",
       "      <th>8</th>\n",
       "      <td>3.526361</td>\n",
       "      <td>3.687201</td>\n",
       "    </tr>\n",
       "    <tr>\n",
       "      <th>9</th>\n",
       "      <td>6.214608</td>\n",
       "      <td>6.588697</td>\n",
       "    </tr>\n",
       "  </tbody>\n",
       "</table>\n",
       "</div>"
      ],
      "text/plain": [
       "   truePrice  predPrice\n",
       "0   6.163315   5.068329\n",
       "1   4.382027   4.701749\n",
       "2   3.912023   4.173163\n",
       "3   5.068904   4.860417\n",
       "4   6.018593   5.990098\n",
       "5   5.298317   4.749062\n",
       "6   6.131226   5.878830\n",
       "7   6.309918   5.393106\n",
       "8   3.526361   3.687201\n",
       "9   6.214608   6.588697"
      ]
     },
     "execution_count": 32,
     "metadata": {},
     "output_type": "execute_result"
    }
   ],
   "source": [
    "predictions = pd.DataFrame({\"truePrice\": priceTest.values, \"predPrice\": predict}) #Create a dataframe with the predictions\n",
    "predictions.head(10) #Take a peek at the predictions"
   ]
  },
  {
   "cell_type": "code",
   "execution_count": 33,
   "metadata": {
    "execution": {
     "iopub.execute_input": "2020-11-19T02:14:06.250840Z",
     "iopub.status.busy": "2020-11-19T02:14:06.250002Z",
     "iopub.status.idle": "2020-11-19T02:14:06.465497Z",
     "shell.execute_reply": "2020-11-19T02:14:06.464833Z"
    },
    "papermill": {
     "duration": 0.297463,
     "end_time": "2020-11-19T02:14:06.465620",
     "exception": false,
     "start_time": "2020-11-19T02:14:06.168157",
     "status": "completed"
    },
    "tags": []
   },
   "outputs": [
    {
     "data": {
      "image/png": "[encoded data removed]",
      "text/plain": [
       "<Figure size 1080x720 with 1 Axes>"
      ]
     },
     "metadata": {},
     "output_type": "display_data"
    }
   ],
   "source": [
    "error = np.subtract(np.exp(predictions[\"truePrice\"]), np.exp(predictions[\"predPrice\"])) #Get the variance by subtracting the true and prediction\n",
    "b = plt.hlines(500, xmin = 0, xmax = 25000, lw = 3) #Print a line to show variance\n",
    "c = plt.hlines(-300, xmin = 0, xmax = 25000, lw = 3) #Print a lower line to show variance\n",
    "a = plt.plot(error, \"b.\") #Plot the error\n",
    "plt.show() #Show the plot"
   ]
  },
  {
   "cell_type": "markdown",
   "metadata": {
    "papermill": {
     "duration": 0.074701,
     "end_time": "2020-11-19T02:14:06.615511",
     "exception": false,
     "start_time": "2020-11-19T02:14:06.540810",
     "status": "completed"
    },
    "tags": []
   },
   "source": [
    "The best accuracy I could get was around 60%. This only happened when I added back longitude and latitude (which I removed since I thought the city/major area would cover that). 60% is still not the best, but considering how users can determine their own prices, it is not surprising. There are listings for 24999 and 1 in the price field, so I definitely think the hosts do not use the same criteria when determining price. \n",
    "\n",
    "This is for the overall data, however. I wonder if looking at different locations in isolation will provide better accuracies."
   ]
  },
  {
   "cell_type": "markdown",
   "metadata": {
    "papermill": {
     "duration": 0.074681,
     "end_time": "2020-11-19T02:14:06.765660",
     "exception": false,
     "start_time": "2020-11-19T02:14:06.690979",
     "status": "completed"
    },
    "tags": []
   },
   "source": [
    "---"
   ]
  },
  {
   "cell_type": "markdown",
   "metadata": {
    "papermill": {
     "duration": 0.074839,
     "end_time": "2020-11-19T02:14:06.915582",
     "exception": false,
     "start_time": "2020-11-19T02:14:06.840743",
     "status": "completed"
    },
    "tags": []
   },
   "source": [
    "# Regression by City"
   ]
  },
  {
   "cell_type": "code",
   "execution_count": 34,
   "metadata": {
    "execution": {
     "iopub.execute_input": "2020-11-19T02:14:07.080821Z",
     "iopub.status.busy": "2020-11-19T02:14:07.079994Z",
     "iopub.status.idle": "2020-11-19T02:14:07.083162Z",
     "shell.execute_reply": "2020-11-19T02:14:07.082435Z"
    },
    "papermill": {
     "duration": 0.092352,
     "end_time": "2020-11-19T02:14:07.083292",
     "exception": false,
     "start_time": "2020-11-19T02:14:06.990940",
     "status": "completed"
    },
    "tags": []
   },
   "outputs": [],
   "source": [
    "#ExtractChara: extracts the desired characteristics like I did step by step for the full dataset\n",
    "#Input: the area dataset\n",
    "#Output: the extracted characteristics\n",
    "def extractChara(data):\n",
    "    characteristics = data.copy() #Take a copy of the dataframe for usage\n",
    "    characteristics = characteristics.drop(columns = {\"price\"}) #Remove the price, since we cannot predict price if it is already there\n",
    "    \n",
    "    charact = characteristics.drop(columns = {\"name\", \"hostName\", \"neigh\", \"lastReview\"}) #Remove the variables discussed before\n",
    "\n",
    "    charact = pd.get_dummies(charact) #Get the dummies for easier model training\n",
    "    scale = StandardScaler() #Add a standard scaler to scale our data for easier use later\n",
    "    scale.fit(charact) #Fit the scaler with our characteristics\n",
    "    chara = scale.transform(charact) #Transform the data with our scaler\n",
    "    \n",
    "    return chara #Return the extracted characteristics\n",
    "\n",
    "#RandomForest: build a random forest for the given area\n",
    "#Input: the given characteristics, the prices, and the area this is representing\n",
    "#Output: the model accuracy with the area\n",
    "def randomForest(chara, price, area):\n",
    "    charaATrain, charaATest, priceATrain, priceATest = train_test_split(chara, price, test_size = 0.1) #Split the data into train and test\n",
    "    \n",
    "    forest = RandomForestRegressor(n_estimators = 150) #Build a whole forest of trees\n",
    "    forest.fit(charaATrain, priceATrain) #Fit the forest\n",
    "    predictA = forest.predict(charaATest) #Get the predictions for RMSE\n",
    "    \n",
    "    accuracyA = forest.score(charaATest, priceATest)\n",
    "    \n",
    "    print(\"{} Accuracy: {}\".format(area, accuracyA)) #Print the accuracy\n",
    "    print(\"{} Root Mean Square Error: {}\".format(area, np.sqrt(mean_squared_error(priceATest, predictA)))) #Print the root mean square error\n",
    "    \n",
    "    return (area, accuracyA) #Return the accuracy with the area for visualization"
   ]
  },
  {
   "cell_type": "code",
   "execution_count": 35,
   "metadata": {
    "execution": {
     "iopub.execute_input": "2020-11-19T02:14:07.262402Z",
     "iopub.status.busy": "2020-11-19T02:14:07.261623Z",
     "iopub.status.idle": "2020-11-19T02:18:03.535974Z",
     "shell.execute_reply": "2020-11-19T02:18:03.536612Z"
    },
    "papermill": {
     "duration": 236.377191,
     "end_time": "2020-11-19T02:18:03.536785",
     "exception": false,
     "start_time": "2020-11-19T02:14:07.159594",
     "status": "completed"
    },
    "tags": []
   },
   "outputs": [
    {
     "name": "stdout",
     "output_type": "stream",
     "text": [
      "Asheville Accuracy: 0.4804929699089592\n",
      "Asheville Root Mean Square Error: 0.5214592319013919\n",
      "Austin Accuracy: 0.5617673404742662\n",
      "Austin Root Mean Square Error: 0.6675173728382297\n",
      "Boston Accuracy: 0.6303267758804704\n",
      "Boston Root Mean Square Error: 0.4608834286762215\n",
      "Miami Accuracy: 0.5853513296206289\n",
      "Miami Root Mean Square Error: 0.574234270006679\n",
      "Chicago Accuracy: 0.5062391620262887\n",
      "Chicago Root Mean Square Error: 0.5393837319548247\n",
      "Las Vegas Accuracy: 0.6389732477325876\n",
      "Las Vegas Root Mean Square Error: 0.5338502587114273\n",
      "Columbus Accuracy: 0.7270297851186631\n",
      "Columbus Root Mean Square Error: 0.4554104499765031\n",
      "Denver Accuracy: 0.503293800039186\n",
      "Denver Root Mean Square Error: 0.5151054317376869\n",
      "Hawaii Accuracy: 0.6213954255839036\n",
      "Hawaii Root Mean Square Error: 0.4653569502693926\n",
      "New York City Accuracy: 0.617483340430885\n",
      "New York City Root Mean Square Error: 0.4495559545715053\n",
      "Los Angeles Accuracy: 0.6366613301655641\n",
      "Los Angeles Root Mean Square Error: 0.5356778679181289\n",
      "Nashville Accuracy: 0.5521267013317123\n",
      "Nashville Root Mean Square Error: 0.5045053202014819\n",
      "New Orleans Accuracy: 0.3641840807967811\n",
      "New Orleans Root Mean Square Error: 0.5577729967636471\n",
      "San Francisco Accuracy: 0.6258413995574024\n",
      "San Francisco Root Mean Square Error: 0.49497934098939\n",
      "Portland Accuracy: 0.6276664835882982\n",
      "Portland Root Mean Square Error: 0.4440747035842193\n",
      "Rhode Island Accuracy: 0.6075434537710549\n",
      "Rhode Island Root Mean Square Error: 0.5416202774969612\n",
      "San Diego Accuracy: 0.6336420793985325\n",
      "San Diego Root Mean Square Error: 0.5477681111667775\n",
      "Seattle Accuracy: 0.49580511003985717\n",
      "Seattle Root Mean Square Error: 0.5236757505052287\n",
      "Minneapolis Accuracy: 0.6561771779617191\n",
      "Minneapolis Root Mean Square Error: 0.7833523682691855\n",
      "Washington D.C. Accuracy: 0.4880281757393664\n",
      "Washington D.C. Root Mean Square Error: 0.5232082451368616\n"
     ]
    }
   ],
   "source": [
    "areas = bnb[\"city\"].unique() #Get all the unique major areas\n",
    "accuracies = [overallAccuracy] #Build a list to build the accuracies\n",
    "\n",
    "for area in areas:\n",
    "    areaData = bnb.loc[bnb[\"city\"] == area] #Look only at the data for the area\n",
    "    \n",
    "    priceArea = areaData[\"price\"].copy() #Take the price as its own variable. That is what we are looking for\n",
    "    priceArea = np.log(priceArea) #Take the log of the set for normalization\n",
    "    \n",
    "    areaData = areaData.drop(columns = {\"city\"})\n",
    "    charaArea = extractChara(areaData) #Extract the wanted characteristics\n",
    "    \n",
    "    accuracies.append(randomForest(charaArea, priceArea, area)) #Call the random forest function for the specific area"
   ]
  },
  {
   "cell_type": "code",
   "execution_count": 36,
   "metadata": {
    "execution": {
     "iopub.execute_input": "2020-11-19T02:18:03.718737Z",
     "iopub.status.busy": "2020-11-19T02:18:03.717957Z",
     "iopub.status.idle": "2020-11-19T02:18:04.049356Z",
     "shell.execute_reply": "2020-11-19T02:18:04.049935Z"
    },
    "papermill": {
     "duration": 0.428405,
     "end_time": "2020-11-19T02:18:04.050086",
     "exception": false,
     "start_time": "2020-11-19T02:18:03.621681",
     "status": "completed"
    },
    "tags": []
   },
   "outputs": [
    {
     "data": {
      "text/plain": [
       "<matplotlib.axes._subplots.AxesSubplot at 0x7f895086c3d0>"
      ]
     },
     "execution_count": 36,
     "metadata": {},
     "output_type": "execute_result"
    },
    {
     "data": {
      "image/png": "[encoded data removed]",
      "text/plain": [
       "<Figure size 1080x720 with 1 Axes>"
      ]
     },
     "metadata": {},
     "output_type": "display_data"
    }
   ],
   "source": [
    "accDF = pd.DataFrame(accuracies, columns = [\"Area\", \"Accuracy\"]) #Put the accuracies list into a dataframe\n",
    "\n",
    "accSort = accDF.sort_values(\"Accuracy\", ascending = False) #Sort the accuracies datafrmame by its accuracies\n",
    "accSort.plot.bar(x = \"Area\", y = \"Accuracy\") #Plot the model accuracy for each major area in a bar graph"
   ]
  },
  {
   "cell_type": "markdown",
   "metadata": {
    "papermill": {
     "duration": 0.088507,
     "end_time": "2020-11-19T02:18:04.226077",
     "exception": false,
     "start_time": "2020-11-19T02:18:04.137570",
     "status": "completed"
    },
    "tags": []
   },
   "source": [
    "---"
   ]
  },
  {
   "cell_type": "markdown",
   "metadata": {
    "papermill": {
     "duration": 0.08723,
     "end_time": "2020-11-19T02:18:04.400092",
     "exception": false,
     "start_time": "2020-11-19T02:18:04.312862",
     "status": "completed"
    },
    "tags": []
   },
   "source": [
    "# Overall Removing Extraneous Values"
   ]
  },
  {
   "cell_type": "markdown",
   "metadata": {
    "papermill": {
     "duration": 0.086563,
     "end_time": "2020-11-19T02:18:04.573288",
     "exception": false,
     "start_time": "2020-11-19T02:18:04.486725",
     "status": "completed"
    },
    "tags": []
   },
   "source": [
    "The max value is 24999 and the min values is 0, so all of these mean errors are going to have issues. So, I will see what happens if I remove unusually low and high values (keep 60 < x < 1000)"
   ]
  },
  {
   "cell_type": "code",
   "execution_count": 37,
   "metadata": {
    "execution": {
     "iopub.execute_input": "2020-11-19T02:18:04.756558Z",
     "iopub.status.busy": "2020-11-19T02:18:04.755336Z",
     "iopub.status.idle": "2020-11-19T02:18:04.833507Z",
     "shell.execute_reply": "2020-11-19T02:18:04.832859Z"
    },
    "papermill": {
     "duration": 0.173386,
     "end_time": "2020-11-19T02:18:04.833633",
     "exception": false,
     "start_time": "2020-11-19T02:18:04.660247",
     "status": "completed"
    },
    "tags": []
   },
   "outputs": [
    {
     "name": "stdout",
     "output_type": "stream",
     "text": [
      "Max:  1999\n",
      "Min:  21\n"
     ]
    }
   ],
   "source": [
    "bnbTrim = bnb.loc[bnb[\"price\"] > 20] #Trim out values lower than 20\n",
    "bnbTrim = bnbTrim.loc[bnbTrim[\"price\"] < 2000] #Trim out values higher than 1500\n",
    "print(\"Max: \",np.max(bnbTrim[\"price\"])) #Print the current max price\n",
    "print(\"Min: \",np.min(bnbTrim[\"price\"])) #Print the current min price"
   ]
  },
  {
   "cell_type": "code",
   "execution_count": 38,
   "metadata": {
    "execution": {
     "iopub.execute_input": "2020-11-19T02:18:05.014989Z",
     "iopub.status.busy": "2020-11-19T02:18:05.013958Z",
     "iopub.status.idle": "2020-11-19T02:25:17.770409Z",
     "shell.execute_reply": "2020-11-19T02:25:17.771076Z"
    },
    "papermill": {
     "duration": 432.850616,
     "end_time": "2020-11-19T02:25:17.771307",
     "exception": false,
     "start_time": "2020-11-19T02:18:04.920691",
     "status": "completed"
    },
    "tags": []
   },
   "outputs": [
    {
     "name": "stdout",
     "output_type": "stream",
     "text": [
      "Trimmed Accuracy: 0.59393278008192\n",
      "Trimmed Root Mean Square Error: 0.4973002116544767\n"
     ]
    }
   ],
   "source": [
    "priceTrim = bnbTrim[\"price\"].copy() #Take the price as its own variable. That is what we are looking for\n",
    "priceTrim = np.log(priceTrim) #Take the log of the set for normalization\n",
    "    \n",
    "charaTrim = extractChara(bnbTrim) #Extract the wanted characteristics\n",
    "    \n",
    "area, accuracyTrim = randomForest(charaTrim, priceTrim, \"Trimmed\") #Call the random forest function for the specific area"
   ]
  },
  {
   "cell_type": "markdown",
   "metadata": {
    "papermill": {
     "duration": 0.087521,
     "end_time": "2020-11-19T02:25:17.945746",
     "exception": false,
     "start_time": "2020-11-19T02:25:17.858225",
     "status": "completed"
    },
    "tags": []
   },
   "source": [
    "The accuracy seems to have gone down upon removing values, which means the mean was not the problem. The root mean square error has remained below 1 every time though."
   ]
  },
  {
   "cell_type": "markdown",
   "metadata": {
    "papermill": {
     "duration": 0.086242,
     "end_time": "2020-11-19T02:25:18.119482",
     "exception": false,
     "start_time": "2020-11-19T02:25:18.033240",
     "status": "completed"
    },
    "tags": []
   },
   "source": [
    "---"
   ]
  },
  {
   "cell_type": "markdown",
   "metadata": {
    "papermill": {
     "duration": 0.08707,
     "end_time": "2020-11-19T02:25:18.294298",
     "exception": false,
     "start_time": "2020-11-19T02:25:18.207228",
     "status": "completed"
    },
    "tags": []
   },
   "source": [
    "# Conclusion"
   ]
  },
  {
   "cell_type": "markdown",
   "metadata": {
    "papermill": {
     "duration": 0.087158,
     "end_time": "2020-11-19T02:25:18.468635",
     "exception": false,
     "start_time": "2020-11-19T02:25:18.381477",
     "status": "completed"
    },
    "tags": []
   },
   "source": [
    "In this project, the model only came to a 60% accuracy with the random forest, but root mean square errors remained below 1 the whole time. This likely means it cannot quite be fully predicted due the the strangeness that comes with users inputting prices. The accuracy could be higher or lower by major area, so it seems the areas are also inconsistent.\n",
    "\n",
    "Looking at the characteristics the model determined was most important, these were roomType_Entire home/apt, longitude, latitude, id, and monthlyReviews. Of course higher monthly reviews and getting an entire house would make the price go higher. It means more people are coming in and wanting to not share the AirBNB. This makes perfect sense. The ID being here means that it depends on the property itself, which could have been hidden in the title or similar means. The method I was trying to practice just did not suit NLP. As for Latitude and Longitude, I am quite surprised. I originally cut them out since they were encompassed in the city/major area variable, but that variable never made it into the top spot, even when ignoring items like latitude and longitude. These appear to be more important in grouping major areas together rather than looking at one as a whole, which is pretty interesting."
   ]
  }
 ],
 "metadata": {
  "kernelspec": {
   "display_name": "Python 3",
   "language": "python",
   "name": "python3"
  },
  "language_info": {
   "codemirror_mode": {
    "name": "ipython",
    "version": 3
   },
   "file_extension": ".py",
   "mimetype": "text/x-python",
   "name": "python",
   "nbconvert_exporter": "python",
   "pygments_lexer": "ipython3",
   "version": "3.7.6"
  },
  "papermill": {
   "duration": 1145.817873,
   "end_time": "2020-11-19T02:25:18.763777",
   "environment_variables": {},
   "exception": null,
   "input_path": "__notebook__.ipynb",
   "output_path": "__notebook__.ipynb",
   "parameters": {},
   "start_time": "2020-11-19T02:06:12.945904",
   "version": "2.1.0"
  }
 },
 "nbformat": 4,
 "nbformat_minor": 4
}
